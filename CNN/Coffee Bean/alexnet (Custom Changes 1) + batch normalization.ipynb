{
 "cells": [
  {
   "cell_type": "markdown",
   "id": "110a83ec",
   "metadata": {},
   "source": [
    "## changes that I made:- \n",
    "- Replaced FILTER (11,11) with  one (5,5) with stride (1,1) and three (3,3) filters with stride (1,1) and increasing the number of filters from 16 to 96 step by step  .\n",
    "- Replaced FILTER (5,5) with two (3,3) filters .\n",
    "- Added one (1,1) layer before last MAX Pooling layer in the end to reduce the number of filters .\n",
    "- Manuplated number of kernels in every layer .\n",
    "- Reduced the number of neurons from the Dense layer\n",
    "- Added BatchNormalization() layer after every convolution layer\n",
    "- using maxpooling with pool_size=(3,3),strides=(2,2),padding=\"valid\""
   ]
  },
  {
   "cell_type": "markdown",
   "id": "3a4fbbaf",
   "metadata": {},
   "source": [
    "## result \n",
    "- number of trainable parameters are too high (more than original)\n",
    "- test loss 0.03746357560157776\n",
    "- test accuracy 0.9850000143051147"
   ]
  },
  {
   "cell_type": "markdown",
   "id": "44e73eae",
   "metadata": {},
   "source": [
    "\n",
    "**[Coffee Bean Dataset](https://www.kaggle.com/datasets/gpiosenka/coffee-bean-dataset-resized-224-x-224?select=train)**"
   ]
  },
  {
   "cell_type": "code",
   "execution_count": 1,
   "id": "449a71cd",
   "metadata": {},
   "outputs": [],
   "source": [
    "import numpy as np\n",
    "import pandas as pd\n",
    "\n",
    "import io\n",
    "import os\n",
    "\n",
    "\n",
    "from PIL import Image\n",
    "from glob import glob\n",
    "import itertools\n",
    "\n",
    "import plotly.graph_objects as go\n",
    "import plotly.express as px\n",
    "from plotly.subplots import make_subplots\n",
    "import matplotlib.pyplot as plt\n",
    "import seaborn as sns\n",
    "\n",
    "\n",
    "import tensorflow as tf\n",
    "from tensorflow.keras.preprocessing.image import ImageDataGenerator\n",
    "import tensorflow.keras\n",
    "from tensorflow.keras.models import Sequential\n",
    "from tensorflow.keras.layers import Dense, Activation, Dropout, Flatten,Conv2D, MaxPooling2D,BatchNormalization\n",
    "from tensorflow.keras.callbacks import ReduceLROnPlateau, EarlyStopping , ModelCheckpoint\n",
    "\n",
    "from sklearn.model_selection import train_test_split\n",
    "from sklearn.metrics import classification_report, confusion_matrix\n"
   ]
  },
  {
   "cell_type": "code",
   "execution_count": 2,
   "id": "674ef102",
   "metadata": {},
   "outputs": [],
   "source": [
    "train_dir = os.path.join( 'Coffee Bean Dataset/train')\n",
    "test_dir = os.path.join('Coffee Bean Dataset/test')"
   ]
  },
  {
   "cell_type": "code",
   "execution_count": 3,
   "id": "d8c08aed",
   "metadata": {},
   "outputs": [],
   "source": [
    "df=pd.read_csv(\"Coffee Bean Dataset/Coffee Bean.csv\")"
   ]
  },
  {
   "cell_type": "code",
   "execution_count": 4,
   "id": "d1edb332",
   "metadata": {},
   "outputs": [
    {
     "data": {
      "text/html": [
       "<div>\n",
       "<style scoped>\n",
       "    .dataframe tbody tr th:only-of-type {\n",
       "        vertical-align: middle;\n",
       "    }\n",
       "\n",
       "    .dataframe tbody tr th {\n",
       "        vertical-align: top;\n",
       "    }\n",
       "\n",
       "    .dataframe thead th {\n",
       "        text-align: right;\n",
       "    }\n",
       "</style>\n",
       "<table border=\"1\" class=\"dataframe\">\n",
       "  <thead>\n",
       "    <tr style=\"text-align: right;\">\n",
       "      <th></th>\n",
       "      <th>class index</th>\n",
       "      <th>filepaths</th>\n",
       "      <th>labels</th>\n",
       "      <th>data set</th>\n",
       "    </tr>\n",
       "  </thead>\n",
       "  <tbody>\n",
       "    <tr>\n",
       "      <th>0</th>\n",
       "      <td>0</td>\n",
       "      <td>train/Dark/dark (1).png</td>\n",
       "      <td>Dark</td>\n",
       "      <td>train</td>\n",
       "    </tr>\n",
       "    <tr>\n",
       "      <th>1</th>\n",
       "      <td>0</td>\n",
       "      <td>train/Dark/dark (10).png</td>\n",
       "      <td>Dark</td>\n",
       "      <td>train</td>\n",
       "    </tr>\n",
       "    <tr>\n",
       "      <th>2</th>\n",
       "      <td>0</td>\n",
       "      <td>train/Dark/dark (100).png</td>\n",
       "      <td>Dark</td>\n",
       "      <td>train</td>\n",
       "    </tr>\n",
       "    <tr>\n",
       "      <th>3</th>\n",
       "      <td>0</td>\n",
       "      <td>train/Dark/dark (101).png</td>\n",
       "      <td>Dark</td>\n",
       "      <td>train</td>\n",
       "    </tr>\n",
       "    <tr>\n",
       "      <th>4</th>\n",
       "      <td>0</td>\n",
       "      <td>train/Dark/dark (102).png</td>\n",
       "      <td>Dark</td>\n",
       "      <td>train</td>\n",
       "    </tr>\n",
       "  </tbody>\n",
       "</table>\n",
       "</div>"
      ],
      "text/plain": [
       "   class index                  filepaths labels data set\n",
       "0            0    train/Dark/dark (1).png   Dark    train\n",
       "1            0   train/Dark/dark (10).png   Dark    train\n",
       "2            0  train/Dark/dark (100).png   Dark    train\n",
       "3            0  train/Dark/dark (101).png   Dark    train\n",
       "4            0  train/Dark/dark (102).png   Dark    train"
      ]
     },
     "execution_count": 4,
     "metadata": {},
     "output_type": "execute_result"
    }
   ],
   "source": [
    "df.head()"
   ]
  },
  {
   "cell_type": "code",
   "execution_count": 5,
   "id": "995049b5",
   "metadata": {},
   "outputs": [
    {
     "data": {
      "text/plain": [
       "Dark      400\n",
       "Green     400\n",
       "Light     400\n",
       "Medium    400\n",
       "Name: labels, dtype: int64"
      ]
     },
     "execution_count": 5,
     "metadata": {},
     "output_type": "execute_result"
    }
   ],
   "source": [
    "df.labels.value_counts()"
   ]
  },
  {
   "cell_type": "code",
   "execution_count": 6,
   "id": "eb229aec",
   "metadata": {},
   "outputs": [
    {
     "data": {
      "text/plain": [
       "train    1200\n",
       "test      400\n",
       "Name: data set, dtype: int64"
      ]
     },
     "execution_count": 6,
     "metadata": {},
     "output_type": "execute_result"
    }
   ],
   "source": [
    "df[\"data set\"].value_counts()"
   ]
  },
  {
   "cell_type": "markdown",
   "id": "135cf420",
   "metadata": {},
   "source": [
    "**Data pre-processing and data augmentation**\n",
    "\n",
    "In order to make the most of our few training examples, we will \"augment\" them via a number of random transformations, so that our model would never see twice the exact same picture. This helps prevent overfitting and helps the model generalize better.\n",
    "\n",
    "In Keras this can be done via the keras.preprocessing.image.ImageDataGenerator class. This class allows you to:\n",
    "\n",
    "- configure random transformations and normalization operations to be done on your image data during training\n",
    "- instantiate generators of augmented image batches (and their labels) via .flow(data, labels) or .flow_from_directory(directory). These generators can then be used with the Keras model methods that accept data generators as inputs, fit_generator, evaluate_generator and predict_generator."
   ]
  },
  {
   "cell_type": "code",
   "execution_count": 7,
   "id": "f86b48e1",
   "metadata": {},
   "outputs": [],
   "source": [
    "# Use the Image Data Generator to import the images from the dataset\n",
    "from tensorflow.keras.preprocessing.image import ImageDataGenerator\n",
    "\n",
    "train_datagen = ImageDataGenerator(\n",
    "        rotation_range=40,\n",
    "        width_shift_range=0.2,\n",
    "        height_shift_range=0.2,\n",
    "        rescale=1./255,\n",
    "        shear_range=0.2,\n",
    "        zoom_range=0.2,\n",
    "        horizontal_flip=True,\n",
    "        fill_mode='nearest')\n",
    "\n",
    "test_datagen = ImageDataGenerator(rescale = 1./255)"
   ]
  },
  {
   "cell_type": "markdown",
   "id": "f7426b9a",
   "metadata": {},
   "source": [
    "These are just a few of the options available :-\n",
    "\n",
    "- **rotation_range** is a value in degrees (0-180), a range within which to randomly rotate pictures\n",
    "- **width_shift** and height_shift are ranges (as a fraction of total width or height) within which to randomly translate pictures vertically or horizontally\n",
    "- **rescale** is a value by which we will multiply the data before any other processing. Our original images consist in RGB coefficients in the 0-255, but such values would be too high for our models to process (given a typical learning rate), so we target values between 0 and 1 instead by scaling with a 1/255. factor.\n",
    "- **shear_range** is for randomly applying shearing transformations\n",
    "- **zoom_range** is for randomly zooming inside pictures\n",
    "- **horizontal_flip** is for randomly flipping half of the images horizontally --relevant when there are no assumptions of horizontal assymetry (e.g. real-world pictures).\n",
    "- **fill_mode** is the strategy used for filling in newly created pixels, which can appear after a rotation or a width/height shift.\n",
    "\n"
   ]
  },
  {
   "cell_type": "code",
   "execution_count": 8,
   "id": "4a2ebe21",
   "metadata": {},
   "outputs": [
    {
     "name": "stdout",
     "output_type": "stream",
     "text": [
      "Found 1200 images belonging to 4 classes.\n",
      "Found 400 images belonging to 4 classes.\n"
     ]
    }
   ],
   "source": [
    "training_set = train_datagen.flow_from_directory(train_dir,\n",
    "                                                 target_size = (224, 224),\n",
    "                                                 batch_size = 16,\n",
    "                                                 class_mode = 'categorical')\n",
    "\n",
    "test_set = test_datagen.flow_from_directory(test_dir,\n",
    "                                            target_size = (224, 224),\n",
    "                                            batch_size = 16,\n",
    "                                            class_mode = 'categorical')"
   ]
  },
  {
   "cell_type": "code",
   "execution_count": 9,
   "id": "615edc38",
   "metadata": {},
   "outputs": [
    {
     "data": {
      "text/plain": [
       "['Coffee Bean Dataset/train\\\\Dark',\n",
       " 'Coffee Bean Dataset/train\\\\Green',\n",
       " 'Coffee Bean Dataset/train\\\\Light',\n",
       " 'Coffee Bean Dataset/train\\\\Medium']"
      ]
     },
     "execution_count": 9,
     "metadata": {},
     "output_type": "execute_result"
    }
   ],
   "source": [
    "folders = glob('Coffee Bean Dataset/train/*')\n",
    "folders"
   ]
  },
  {
   "cell_type": "markdown",
   "id": "9ca7c194",
   "metadata": {},
   "source": [
    "## Model creation "
   ]
  },
  {
   "cell_type": "code",
   "execution_count": 10,
   "id": "79688962",
   "metadata": {},
   "outputs": [],
   "source": [
    "model = Sequential()\n",
    "\n",
    "# Convolutional layer\n",
    "\n",
    "model.add(Conv2D(filters=16, kernel_size=(5, 5), strides=(1, 1), padding='valid', input_shape=(224, 224, 3)))\n",
    "model.add(Activation(\"relu\"))\n",
    "model.add(BatchNormalization())\n",
    "model.add(Conv2D(filters=32,kernel_size=(3,3),strides=(1,1),padding=\"valid\"))     \n",
    "model.add(Activation(\"relu\")) \n",
    "model.add(BatchNormalization())\n",
    "model.add(Conv2D(filters=64,kernel_size=(3,3),strides=(1,1),padding=\"valid\"))     \n",
    "model.add(Activation(\"relu\")) \n",
    "model.add(BatchNormalization())\n",
    "model.add(Conv2D(filters=96,kernel_size=(3,3),strides=(1,1),padding=\"valid\"))     \n",
    "model.add(Activation(\"relu\")) \n",
    "model.add(MaxPooling2D(pool_size=(3,3),strides=(2,2),padding=\"valid\")) \n",
    "model.add(BatchNormalization())\n",
    "\n",
    "\n",
    "\n",
    "model.add(Conv2D(filters=128,kernel_size=(3,3),strides=(1,1),padding=\"same\"))     \n",
    "model.add(Activation(\"relu\"))\n",
    "model.add(BatchNormalization())\n",
    "model.add(Conv2D(filters=160,kernel_size=(3,3),strides=(1,1),padding=\"same\"))     \n",
    "model.add(Activation(\"relu\"))    \n",
    "model.add(MaxPooling2D(pool_size=(3,3),strides=(2,2),padding=\"valid\"))\n",
    "model.add(BatchNormalization())\n",
    "\n",
    "model.add(Conv2D(filters=256,kernel_size=(3,3),strides=(1,1),padding=\"same\"))\n",
    "model.add(Activation(\"relu\"))\n",
    "model.add(BatchNormalization())\n",
    "model.add(Conv2D(filters=256,kernel_size=(3,3),strides=(1,1),padding=\"same\"))\n",
    "model.add(Activation(\"relu\"))\n",
    "model.add(BatchNormalization())\n",
    "model.add(Conv2D(filters=256,kernel_size=(3,3),strides=(1,1),padding=\"same\"))\n",
    "model.add(Activation(\"relu\"))\n",
    "model.add(BatchNormalization())\n",
    "model.add(Conv2D(filters=128,kernel_size=(1,1), activation='relu', padding='same'))     \n",
    "\n",
    "\n",
    "model.add(MaxPooling2D(pool_size=(3,3),strides=(2,2),padding=\"valid\"))\n",
    "\n",
    "# Fully connected layers\n",
    "model.add(Flatten())\n",
    "model.add(Dense(1000,activation='relu'))\n",
    "model.add(Dropout(0.5))\n",
    "model.add(BatchNormalization())\n",
    "model.add(Dense(256,activation='relu'))\n",
    "model.add(Dropout(0.5))\n",
    "model.add(BatchNormalization())\n",
    "model.add(Dense(4,activation='softmax'))  \n"
   ]
  },
  {
   "cell_type": "code",
   "execution_count": 11,
   "id": "bb9f7880",
   "metadata": {},
   "outputs": [
    {
     "name": "stdout",
     "output_type": "stream",
     "text": [
      "Model: \"sequential\"\n",
      "_________________________________________________________________\n",
      " Layer (type)                Output Shape              Param #   \n",
      "=================================================================\n",
      " conv2d (Conv2D)             (None, 220, 220, 16)      1216      \n",
      "                                                                 \n",
      " activation (Activation)     (None, 220, 220, 16)      0         \n",
      "                                                                 \n",
      " batch_normalization (BatchN  (None, 220, 220, 16)     64        \n",
      " ormalization)                                                   \n",
      "                                                                 \n",
      " conv2d_1 (Conv2D)           (None, 218, 218, 32)      4640      \n",
      "                                                                 \n",
      " activation_1 (Activation)   (None, 218, 218, 32)      0         \n",
      "                                                                 \n",
      " batch_normalization_1 (Batc  (None, 218, 218, 32)     128       \n",
      " hNormalization)                                                 \n",
      "                                                                 \n",
      " conv2d_2 (Conv2D)           (None, 216, 216, 64)      18496     \n",
      "                                                                 \n",
      " activation_2 (Activation)   (None, 216, 216, 64)      0         \n",
      "                                                                 \n",
      " batch_normalization_2 (Batc  (None, 216, 216, 64)     256       \n",
      " hNormalization)                                                 \n",
      "                                                                 \n",
      " conv2d_3 (Conv2D)           (None, 214, 214, 96)      55392     \n",
      "                                                                 \n",
      " activation_3 (Activation)   (None, 214, 214, 96)      0         \n",
      "                                                                 \n",
      " max_pooling2d (MaxPooling2D  (None, 106, 106, 96)     0         \n",
      " )                                                               \n",
      "                                                                 \n",
      " batch_normalization_3 (Batc  (None, 106, 106, 96)     384       \n",
      " hNormalization)                                                 \n",
      "                                                                 \n",
      " conv2d_4 (Conv2D)           (None, 106, 106, 128)     110720    \n",
      "                                                                 \n",
      " activation_4 (Activation)   (None, 106, 106, 128)     0         \n",
      "                                                                 \n",
      " batch_normalization_4 (Batc  (None, 106, 106, 128)    512       \n",
      " hNormalization)                                                 \n",
      "                                                                 \n",
      " conv2d_5 (Conv2D)           (None, 106, 106, 160)     184480    \n",
      "                                                                 \n",
      " activation_5 (Activation)   (None, 106, 106, 160)     0         \n",
      "                                                                 \n",
      " max_pooling2d_1 (MaxPooling  (None, 52, 52, 160)      0         \n",
      " 2D)                                                             \n",
      "                                                                 \n",
      " batch_normalization_5 (Batc  (None, 52, 52, 160)      640       \n",
      " hNormalization)                                                 \n",
      "                                                                 \n",
      " conv2d_6 (Conv2D)           (None, 52, 52, 256)       368896    \n",
      "                                                                 \n",
      " activation_6 (Activation)   (None, 52, 52, 256)       0         \n",
      "                                                                 \n",
      " batch_normalization_6 (Batc  (None, 52, 52, 256)      1024      \n",
      " hNormalization)                                                 \n",
      "                                                                 \n",
      " conv2d_7 (Conv2D)           (None, 52, 52, 256)       590080    \n",
      "                                                                 \n",
      " activation_7 (Activation)   (None, 52, 52, 256)       0         \n",
      "                                                                 \n",
      " batch_normalization_7 (Batc  (None, 52, 52, 256)      1024      \n",
      " hNormalization)                                                 \n",
      "                                                                 \n",
      " conv2d_8 (Conv2D)           (None, 52, 52, 256)       590080    \n",
      "                                                                 \n",
      " activation_8 (Activation)   (None, 52, 52, 256)       0         \n",
      "                                                                 \n",
      " batch_normalization_8 (Batc  (None, 52, 52, 256)      1024      \n",
      " hNormalization)                                                 \n",
      "                                                                 \n",
      " conv2d_9 (Conv2D)           (None, 52, 52, 128)       32896     \n",
      "                                                                 \n",
      " max_pooling2d_2 (MaxPooling  (None, 25, 25, 128)      0         \n",
      " 2D)                                                             \n",
      "                                                                 \n",
      " flatten (Flatten)           (None, 80000)             0         \n",
      "                                                                 \n",
      " dense (Dense)               (None, 1000)              80001000  \n",
      "                                                                 \n",
      " dropout (Dropout)           (None, 1000)              0         \n",
      "                                                                 \n",
      " batch_normalization_9 (Batc  (None, 1000)             4000      \n",
      " hNormalization)                                                 \n",
      "                                                                 \n",
      " dense_1 (Dense)             (None, 256)               256256    \n",
      "                                                                 \n",
      " dropout_1 (Dropout)         (None, 256)               0         \n",
      "                                                                 \n",
      " batch_normalization_10 (Bat  (None, 256)              1024      \n",
      " chNormalization)                                                \n",
      "                                                                 \n",
      " dense_2 (Dense)             (None, 4)                 1028      \n",
      "                                                                 \n",
      "=================================================================\n",
      "Total params: 82,225,260\n",
      "Trainable params: 82,220,220\n",
      "Non-trainable params: 5,040\n",
      "_________________________________________________________________\n"
     ]
    }
   ],
   "source": [
    "model.compile(\n",
    "    loss='categorical_crossentropy',\n",
    "    optimizer=tf.optimizers.SGD(learning_rate=0.001),\n",
    "    metrics=['accuracy']    \n",
    ")\n",
    "model.summary()"
   ]
  },
  {
   "cell_type": "code",
   "execution_count": 12,
   "id": "0c37267b",
   "metadata": {},
   "outputs": [],
   "source": [
    "## number of trainable parameters are too high (more than original)"
   ]
  },
  {
   "cell_type": "code",
   "execution_count": 13,
   "id": "b5a92b13",
   "metadata": {},
   "outputs": [
    {
     "name": "stdout",
     "output_type": "stream",
     "text": [
      "Epoch 1/50\n",
      "75/75 [==============================] - 58s 623ms/step - loss: 1.5868 - accuracy: 0.3592 - val_loss: 1.4352 - val_accuracy: 0.2500\n",
      "Epoch 2/50\n",
      "75/75 [==============================] - 47s 625ms/step - loss: 1.1364 - accuracy: 0.5058 - val_loss: 1.7123 - val_accuracy: 0.2500\n",
      "Epoch 3/50\n",
      "75/75 [==============================] - 47s 628ms/step - loss: 0.8056 - accuracy: 0.6775 - val_loss: 1.8350 - val_accuracy: 0.2500\n",
      "Epoch 4/50\n",
      "75/75 [==============================] - 47s 628ms/step - loss: 0.5792 - accuracy: 0.7550 - val_loss: 1.8590 - val_accuracy: 0.3775\n",
      "Epoch 5/50\n",
      "75/75 [==============================] - 47s 624ms/step - loss: 0.5475 - accuracy: 0.7800 - val_loss: 2.5225 - val_accuracy: 0.4975\n",
      "Epoch 6/50\n",
      "75/75 [==============================] - 47s 623ms/step - loss: 0.4149 - accuracy: 0.8483 - val_loss: 1.6142 - val_accuracy: 0.6975\n",
      "Epoch 7/50\n",
      "75/75 [==============================] - 47s 623ms/step - loss: 0.3363 - accuracy: 0.8808 - val_loss: 1.4112 - val_accuracy: 0.7125\n",
      "Epoch 8/50\n",
      "75/75 [==============================] - 47s 623ms/step - loss: 0.2991 - accuracy: 0.9058 - val_loss: 0.5284 - val_accuracy: 0.7975\n",
      "Epoch 9/50\n",
      "75/75 [==============================] - 47s 623ms/step - loss: 0.3096 - accuracy: 0.8875 - val_loss: 0.5210 - val_accuracy: 0.7550\n",
      "Epoch 10/50\n",
      "75/75 [==============================] - 47s 623ms/step - loss: 0.3752 - accuracy: 0.8733 - val_loss: 0.2601 - val_accuracy: 0.9125\n",
      "Epoch 11/50\n",
      "75/75 [==============================] - 47s 626ms/step - loss: 0.3373 - accuracy: 0.8792 - val_loss: 0.6330 - val_accuracy: 0.7300\n",
      "Epoch 12/50\n",
      "75/75 [==============================] - 47s 625ms/step - loss: 0.3191 - accuracy: 0.8925 - val_loss: 0.1913 - val_accuracy: 0.9250\n",
      "Epoch 13/50\n",
      "75/75 [==============================] - 47s 625ms/step - loss: 0.2897 - accuracy: 0.8900 - val_loss: 0.1844 - val_accuracy: 0.9350\n",
      "Epoch 14/50\n",
      "75/75 [==============================] - 47s 630ms/step - loss: 0.2950 - accuracy: 0.9117 - val_loss: 0.1330 - val_accuracy: 0.9550\n",
      "Epoch 15/50\n",
      "75/75 [==============================] - 47s 626ms/step - loss: 0.2983 - accuracy: 0.8967 - val_loss: 0.1468 - val_accuracy: 0.9400\n",
      "Epoch 16/50\n",
      "75/75 [==============================] - 47s 625ms/step - loss: 0.2696 - accuracy: 0.9208 - val_loss: 0.5228 - val_accuracy: 0.8250\n",
      "Epoch 17/50\n",
      "75/75 [==============================] - 47s 625ms/step - loss: 0.2503 - accuracy: 0.9167 - val_loss: 0.5075 - val_accuracy: 0.8425\n",
      "Epoch 18/50\n",
      "75/75 [==============================] - 47s 625ms/step - loss: 0.2852 - accuracy: 0.9067 - val_loss: 2.4666 - val_accuracy: 0.4025\n",
      "Epoch 19/50\n",
      "75/75 [==============================] - 47s 626ms/step - loss: 0.2300 - accuracy: 0.9192 - val_loss: 1.8526 - val_accuracy: 0.4675\n",
      "Epoch 20/50\n",
      "75/75 [==============================] - 47s 624ms/step - loss: 0.2347 - accuracy: 0.9258 - val_loss: 0.1698 - val_accuracy: 0.9375\n",
      "Epoch 21/50\n",
      "75/75 [==============================] - 47s 624ms/step - loss: 0.2263 - accuracy: 0.9242 - val_loss: 2.9766 - val_accuracy: 0.3600\n",
      "Epoch 22/50\n",
      "75/75 [==============================] - 47s 624ms/step - loss: 0.2633 - accuracy: 0.9050 - val_loss: 0.1603 - val_accuracy: 0.9350\n",
      "Epoch 23/50\n",
      "75/75 [==============================] - 47s 625ms/step - loss: 0.2327 - accuracy: 0.9158 - val_loss: 0.1009 - val_accuracy: 0.9700\n",
      "Epoch 24/50\n",
      "75/75 [==============================] - 47s 626ms/step - loss: 0.2110 - accuracy: 0.9300 - val_loss: 1.0212 - val_accuracy: 0.7075\n",
      "Epoch 25/50\n",
      "75/75 [==============================] - 47s 627ms/step - loss: 0.2060 - accuracy: 0.9292 - val_loss: 0.4111 - val_accuracy: 0.8600\n",
      "Epoch 26/50\n",
      "75/75 [==============================] - 47s 625ms/step - loss: 0.2364 - accuracy: 0.9183 - val_loss: 0.0702 - val_accuracy: 0.9750\n",
      "Epoch 27/50\n",
      "75/75 [==============================] - 47s 626ms/step - loss: 0.2396 - accuracy: 0.9192 - val_loss: 0.5014 - val_accuracy: 0.7950\n",
      "Epoch 28/50\n",
      "75/75 [==============================] - 47s 625ms/step - loss: 0.2017 - accuracy: 0.9358 - val_loss: 0.1686 - val_accuracy: 0.9450\n",
      "Epoch 29/50\n",
      "75/75 [==============================] - 47s 626ms/step - loss: 0.1907 - accuracy: 0.9392 - val_loss: 0.0877 - val_accuracy: 0.9675\n",
      "Epoch 30/50\n",
      "75/75 [==============================] - 47s 629ms/step - loss: 0.1732 - accuracy: 0.9483 - val_loss: 0.0406 - val_accuracy: 0.9850\n",
      "Epoch 31/50\n",
      "75/75 [==============================] - 48s 634ms/step - loss: 0.1768 - accuracy: 0.9367 - val_loss: 1.2385 - val_accuracy: 0.7100\n",
      "Epoch 32/50\n",
      "75/75 [==============================] - 48s 633ms/step - loss: 0.1814 - accuracy: 0.9392 - val_loss: 0.0349 - val_accuracy: 0.9850\n",
      "Epoch 33/50\n",
      "75/75 [==============================] - 47s 628ms/step - loss: 0.1853 - accuracy: 0.9467 - val_loss: 0.0600 - val_accuracy: 0.9775\n",
      "Epoch 34/50\n",
      "75/75 [==============================] - 47s 626ms/step - loss: 0.1554 - accuracy: 0.9458 - val_loss: 0.0647 - val_accuracy: 0.9800\n",
      "Epoch 35/50\n",
      "75/75 [==============================] - 47s 626ms/step - loss: 0.1633 - accuracy: 0.9458 - val_loss: 0.1627 - val_accuracy: 0.9425\n",
      "Epoch 36/50\n",
      "75/75 [==============================] - 47s 626ms/step - loss: 0.1476 - accuracy: 0.9508 - val_loss: 0.1051 - val_accuracy: 0.9650\n",
      "Epoch 37/50\n",
      "75/75 [==============================] - 47s 625ms/step - loss: 0.1986 - accuracy: 0.9400 - val_loss: 0.0440 - val_accuracy: 0.9825\n",
      "Epoch 38/50\n",
      "75/75 [==============================] - 47s 625ms/step - loss: 0.1526 - accuracy: 0.9500 - val_loss: 0.1527 - val_accuracy: 0.9450\n",
      "Epoch 39/50\n",
      "75/75 [==============================] - 47s 624ms/step - loss: 0.1647 - accuracy: 0.9450 - val_loss: 0.0907 - val_accuracy: 0.9725\n",
      "Epoch 40/50\n",
      "75/75 [==============================] - 47s 624ms/step - loss: 0.1471 - accuracy: 0.9508 - val_loss: 0.0813 - val_accuracy: 0.9750\n",
      "Epoch 41/50\n",
      "75/75 [==============================] - 47s 624ms/step - loss: 0.1656 - accuracy: 0.9475 - val_loss: 0.0423 - val_accuracy: 0.9800\n",
      "Epoch 42/50\n",
      "75/75 [==============================] - 47s 624ms/step - loss: 0.1315 - accuracy: 0.9558 - val_loss: 0.0340 - val_accuracy: 0.9800\n",
      "Epoch 43/50\n",
      "75/75 [==============================] - 47s 624ms/step - loss: 0.1145 - accuracy: 0.9642 - val_loss: 0.0436 - val_accuracy: 0.9850\n",
      "Epoch 44/50\n",
      "75/75 [==============================] - 47s 625ms/step - loss: 0.1259 - accuracy: 0.9633 - val_loss: 0.1034 - val_accuracy: 0.9650\n",
      "Epoch 45/50\n",
      "75/75 [==============================] - 47s 624ms/step - loss: 0.1320 - accuracy: 0.9600 - val_loss: 0.2763 - val_accuracy: 0.9050\n",
      "Epoch 46/50\n",
      "75/75 [==============================] - 47s 624ms/step - loss: 0.1501 - accuracy: 0.9508 - val_loss: 0.0431 - val_accuracy: 0.9825\n",
      "Epoch 47/50\n",
      "75/75 [==============================] - 47s 624ms/step - loss: 0.1300 - accuracy: 0.9642 - val_loss: 0.0828 - val_accuracy: 0.9750\n",
      "Epoch 48/50\n",
      "75/75 [==============================] - 47s 625ms/step - loss: 0.1601 - accuracy: 0.9500 - val_loss: 0.0483 - val_accuracy: 0.9850\n",
      "Epoch 49/50\n",
      "75/75 [==============================] - 47s 624ms/step - loss: 0.1444 - accuracy: 0.9600 - val_loss: 0.0230 - val_accuracy: 0.9950\n",
      "Epoch 50/50\n",
      "75/75 [==============================] - 47s 623ms/step - loss: 0.1325 - accuracy: 0.9533 - val_loss: 0.0375 - val_accuracy: 0.9850\n"
     ]
    }
   ],
   "source": [
    "# fit the model\n",
    "epochs = 50\n",
    "history = model.fit(training_set, validation_data=test_set,epochs=epochs,\n",
    "            steps_per_epoch=len(training_set),\n",
    "            validation_steps=len(test_set), \n",
    "            verbose=1,)"
   ]
  },
  {
   "cell_type": "code",
   "execution_count": 14,
   "id": "a52027a7",
   "metadata": {},
   "outputs": [
    {
     "name": "stdout",
     "output_type": "stream",
     "text": [
      "25/25 [==============================] - 4s 163ms/step - loss: 0.0375 - accuracy: 0.9850\n"
     ]
    }
   ],
   "source": [
    "scores = model.evaluate(test_set)"
   ]
  },
  {
   "cell_type": "code",
   "execution_count": 15,
   "id": "7e85fe20",
   "metadata": {},
   "outputs": [
    {
     "name": "stdout",
     "output_type": "stream",
     "text": [
      "test loss 0.03746357560157776\n",
      "test accuracy 0.9850000143051147\n"
     ]
    }
   ],
   "source": [
    "print(\"test loss\",scores[0])\n",
    "print(\"test accuracy\",scores[1])"
   ]
  },
  {
   "cell_type": "code",
   "execution_count": 16,
   "id": "7b47b7c4",
   "metadata": {},
   "outputs": [
    {
     "data": {
      "image/png": "[encoded data removed]",
      "text/plain": [
       "<Figure size 640x480 with 1 Axes>"
      ]
     },
     "metadata": {},
     "output_type": "display_data"
    },
    {
     "data": {
      "image/png": "[encoded data removed]",
      "text/plain": [
       "<Figure size 640x480 with 1 Axes>"
      ]
     },
     "metadata": {},
     "output_type": "display_data"
    }
   ],
   "source": [
    "plt.plot(history.history['loss'], label='Loss (training data)')\n",
    "plt.plot(history.history['val_loss'], label='Loss (validation data)')\n",
    "plt.title('Loss for Training')\n",
    "plt.ylabel('Loss')\n",
    "plt.xlabel('No. epoch')\n",
    "plt.legend(['train', 'validation'], loc=\"upper left\")\n",
    "plt.show()\n",
    "plt.plot(history.history['accuracy'])\n",
    "plt.plot(history.history['val_accuracy'])\n",
    "plt.title('model accuracy')\n",
    "plt.ylabel('accuracy')\n",
    "plt.xlabel('epoch')\n",
    "plt.legend(['train', 'validation'], loc='upper left')\n",
    "plt.show()"
   ]
  },
  {
   "cell_type": "code",
   "execution_count": null,
   "id": "6fd8d6b4",
   "metadata": {},
   "outputs": [],
   "source": []
  }
 ],
 "metadata": {
  "kernelspec": {
   "display_name": "Python 3 (ipykernel)",
   "language": "python",
   "name": "python3"
  },
  "language_info": {
   "codemirror_mode": {
    "name": "ipython",
    "version": 3
   },
   "file_extension": ".py",
   "mimetype": "text/x-python",
   "name": "python",
   "nbconvert_exporter": "python",
   "pygments_lexer": "ipython3",
   "version": "3.9.12"
  }
 },
 "nbformat": 4,
 "nbformat_minor": 5
}
