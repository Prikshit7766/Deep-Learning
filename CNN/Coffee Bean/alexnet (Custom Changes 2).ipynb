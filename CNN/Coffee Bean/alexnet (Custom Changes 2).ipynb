{
 "cells": [
  {
   "cell_type": "markdown",
   "id": "82565028",
   "metadata": {},
   "source": [
    "## changes that I made:- \n",
    "- Replaced FILTER (11,11) with  one (5,5) with stride (2,2) and three (3,3) filters with stride (1,1) and increasing the number of filters from 16 to 96 step by step  .\n",
    "- Replaced FILTER (5,5) with two (3,3) filters .\n",
    "- Added one (1,1) layer before last MAX Pooling layer in the end to reduce the number of filters .\n",
    "- Manuplated number of kernels in every layer .\n",
    "- Reduced the number of neurons from the Dense layer\n",
    "- using maxpooling with pool_size=(2,2),strides=(2,2),padding=\"valid\")"
   ]
  },
  {
   "cell_type": "markdown",
   "id": "255c2ea3",
   "metadata": {},
   "source": [
    "## result \n",
    "- Trainable parameters are less than the origanl (trainable parameters are reduced by half)\n",
    "- test loss 1.3300436735153198\n",
    "- test accuracy 0.612500011920929\n"
   ]
  },
  {
   "cell_type": "markdown",
   "id": "44e73eae",
   "metadata": {},
   "source": [
    "\n",
    "**[Coffee Bean Dataset](https://www.kaggle.com/datasets/gpiosenka/coffee-bean-dataset-resized-224-x-224?select=train)**"
   ]
  },
  {
   "cell_type": "code",
   "execution_count": 1,
   "id": "449a71cd",
   "metadata": {},
   "outputs": [],
   "source": [
    "import numpy as np\n",
    "import pandas as pd\n",
    "\n",
    "import io\n",
    "import os\n",
    "\n",
    "\n",
    "from PIL import Image\n",
    "from glob import glob\n",
    "import itertools\n",
    "\n",
    "import plotly.graph_objects as go\n",
    "import plotly.express as px\n",
    "from plotly.subplots import make_subplots\n",
    "import matplotlib.pyplot as plt\n",
    "import seaborn as sns\n",
    "\n",
    "\n",
    "import tensorflow as tf\n",
    "from tensorflow.keras.preprocessing.image import ImageDataGenerator\n",
    "import tensorflow.keras\n",
    "from tensorflow.keras.models import Sequential\n",
    "from tensorflow.keras.layers import Dense, Activation, Dropout, Flatten,Conv2D, MaxPooling2D,BatchNormalization\n",
    "from tensorflow.keras.callbacks import ReduceLROnPlateau, EarlyStopping , ModelCheckpoint\n",
    "\n",
    "from sklearn.model_selection import train_test_split\n",
    "from sklearn.metrics import classification_report, confusion_matrix\n"
   ]
  },
  {
   "cell_type": "code",
   "execution_count": 2,
   "id": "674ef102",
   "metadata": {},
   "outputs": [],
   "source": [
    "train_dir = os.path.join( 'Coffee Bean Dataset/train')\n",
    "test_dir = os.path.join('Coffee Bean Dataset/test')"
   ]
  },
  {
   "cell_type": "code",
   "execution_count": 3,
   "id": "d8c08aed",
   "metadata": {},
   "outputs": [],
   "source": [
    "df=pd.read_csv(\"Coffee Bean Dataset/Coffee Bean.csv\")"
   ]
  },
  {
   "cell_type": "code",
   "execution_count": 4,
   "id": "d1edb332",
   "metadata": {},
   "outputs": [
    {
     "data": {
      "text/html": [
       "<div>\n",
       "<style scoped>\n",
       "    .dataframe tbody tr th:only-of-type {\n",
       "        vertical-align: middle;\n",
       "    }\n",
       "\n",
       "    .dataframe tbody tr th {\n",
       "        vertical-align: top;\n",
       "    }\n",
       "\n",
       "    .dataframe thead th {\n",
       "        text-align: right;\n",
       "    }\n",
       "</style>\n",
       "<table border=\"1\" class=\"dataframe\">\n",
       "  <thead>\n",
       "    <tr style=\"text-align: right;\">\n",
       "      <th></th>\n",
       "      <th>class index</th>\n",
       "      <th>filepaths</th>\n",
       "      <th>labels</th>\n",
       "      <th>data set</th>\n",
       "    </tr>\n",
       "  </thead>\n",
       "  <tbody>\n",
       "    <tr>\n",
       "      <th>0</th>\n",
       "      <td>0</td>\n",
       "      <td>train/Dark/dark (1).png</td>\n",
       "      <td>Dark</td>\n",
       "      <td>train</td>\n",
       "    </tr>\n",
       "    <tr>\n",
       "      <th>1</th>\n",
       "      <td>0</td>\n",
       "      <td>train/Dark/dark (10).png</td>\n",
       "      <td>Dark</td>\n",
       "      <td>train</td>\n",
       "    </tr>\n",
       "    <tr>\n",
       "      <th>2</th>\n",
       "      <td>0</td>\n",
       "      <td>train/Dark/dark (100).png</td>\n",
       "      <td>Dark</td>\n",
       "      <td>train</td>\n",
       "    </tr>\n",
       "    <tr>\n",
       "      <th>3</th>\n",
       "      <td>0</td>\n",
       "      <td>train/Dark/dark (101).png</td>\n",
       "      <td>Dark</td>\n",
       "      <td>train</td>\n",
       "    </tr>\n",
       "    <tr>\n",
       "      <th>4</th>\n",
       "      <td>0</td>\n",
       "      <td>train/Dark/dark (102).png</td>\n",
       "      <td>Dark</td>\n",
       "      <td>train</td>\n",
       "    </tr>\n",
       "  </tbody>\n",
       "</table>\n",
       "</div>"
      ],
      "text/plain": [
       "   class index                  filepaths labels data set\n",
       "0            0    train/Dark/dark (1).png   Dark    train\n",
       "1            0   train/Dark/dark (10).png   Dark    train\n",
       "2            0  train/Dark/dark (100).png   Dark    train\n",
       "3            0  train/Dark/dark (101).png   Dark    train\n",
       "4            0  train/Dark/dark (102).png   Dark    train"
      ]
     },
     "execution_count": 4,
     "metadata": {},
     "output_type": "execute_result"
    }
   ],
   "source": [
    "df.head()"
   ]
  },
  {
   "cell_type": "code",
   "execution_count": 5,
   "id": "995049b5",
   "metadata": {},
   "outputs": [
    {
     "data": {
      "text/plain": [
       "Dark      400\n",
       "Green     400\n",
       "Light     400\n",
       "Medium    400\n",
       "Name: labels, dtype: int64"
      ]
     },
     "execution_count": 5,
     "metadata": {},
     "output_type": "execute_result"
    }
   ],
   "source": [
    "df.labels.value_counts()"
   ]
  },
  {
   "cell_type": "code",
   "execution_count": 6,
   "id": "eb229aec",
   "metadata": {},
   "outputs": [
    {
     "data": {
      "text/plain": [
       "train    1200\n",
       "test      400\n",
       "Name: data set, dtype: int64"
      ]
     },
     "execution_count": 6,
     "metadata": {},
     "output_type": "execute_result"
    }
   ],
   "source": [
    "df[\"data set\"].value_counts()"
   ]
  },
  {
   "cell_type": "markdown",
   "id": "135cf420",
   "metadata": {},
   "source": [
    "**Data pre-processing and data augmentation**\n",
    "\n",
    "In order to make the most of our few training examples, we will \"augment\" them via a number of random transformations, so that our model would never see twice the exact same picture. This helps prevent overfitting and helps the model generalize better.\n",
    "\n",
    "In Keras this can be done via the keras.preprocessing.image.ImageDataGenerator class. This class allows you to:\n",
    "\n",
    "- configure random transformations and normalization operations to be done on your image data during training\n",
    "- instantiate generators of augmented image batches (and their labels) via .flow(data, labels) or .flow_from_directory(directory). These generators can then be used with the Keras model methods that accept data generators as inputs, fit_generator, evaluate_generator and predict_generator."
   ]
  },
  {
   "cell_type": "code",
   "execution_count": 7,
   "id": "f86b48e1",
   "metadata": {},
   "outputs": [],
   "source": [
    "# Use the Image Data Generator to import the images from the dataset\n",
    "from tensorflow.keras.preprocessing.image import ImageDataGenerator\n",
    "\n",
    "train_datagen = ImageDataGenerator(\n",
    "        rotation_range=40,\n",
    "        width_shift_range=0.2,\n",
    "        height_shift_range=0.2,\n",
    "        rescale=1./255,\n",
    "        shear_range=0.2,\n",
    "        zoom_range=0.2,\n",
    "        horizontal_flip=True,\n",
    "        fill_mode='nearest')\n",
    "\n",
    "test_datagen = ImageDataGenerator(rescale = 1./255)"
   ]
  },
  {
   "cell_type": "markdown",
   "id": "f7426b9a",
   "metadata": {},
   "source": [
    "These are just a few of the options available :-\n",
    "\n",
    "- **rotation_range** is a value in degrees (0-180), a range within which to randomly rotate pictures\n",
    "- **width_shift** and height_shift are ranges (as a fraction of total width or height) within which to randomly translate pictures vertically or horizontally\n",
    "- **rescale** is a value by which we will multiply the data before any other processing. Our original images consist in RGB coefficients in the 0-255, but such values would be too high for our models to process (given a typical learning rate), so we target values between 0 and 1 instead by scaling with a 1/255. factor.\n",
    "- **shear_range** is for randomly applying shearing transformations\n",
    "- **zoom_range** is for randomly zooming inside pictures\n",
    "- **horizontal_flip** is for randomly flipping half of the images horizontally --relevant when there are no assumptions of horizontal assymetry (e.g. real-world pictures).\n",
    "- **fill_mode** is the strategy used for filling in newly created pixels, which can appear after a rotation or a width/height shift.\n",
    "\n"
   ]
  },
  {
   "cell_type": "code",
   "execution_count": 8,
   "id": "4a2ebe21",
   "metadata": {},
   "outputs": [
    {
     "name": "stdout",
     "output_type": "stream",
     "text": [
      "Found 1200 images belonging to 4 classes.\n",
      "Found 400 images belonging to 4 classes.\n"
     ]
    }
   ],
   "source": [
    "training_set = train_datagen.flow_from_directory(train_dir,\n",
    "                                                 target_size = (224, 224),\n",
    "                                                 batch_size = 16,\n",
    "                                                 class_mode = 'categorical')\n",
    "\n",
    "test_set = test_datagen.flow_from_directory(test_dir,\n",
    "                                            target_size = (224, 224),\n",
    "                                            batch_size = 16,\n",
    "                                            class_mode = 'categorical')"
   ]
  },
  {
   "cell_type": "code",
   "execution_count": 9,
   "id": "615edc38",
   "metadata": {},
   "outputs": [
    {
     "data": {
      "text/plain": [
       "['Coffee Bean Dataset/train\\\\Dark',\n",
       " 'Coffee Bean Dataset/train\\\\Green',\n",
       " 'Coffee Bean Dataset/train\\\\Light',\n",
       " 'Coffee Bean Dataset/train\\\\Medium']"
      ]
     },
     "execution_count": 9,
     "metadata": {},
     "output_type": "execute_result"
    }
   ],
   "source": [
    "folders = glob('Coffee Bean Dataset/train/*')\n",
    "folders"
   ]
  },
  {
   "cell_type": "code",
   "execution_count": null,
   "id": "e653d8a9",
   "metadata": {},
   "outputs": [],
   "source": []
  },
  {
   "cell_type": "markdown",
   "id": "9ca7c194",
   "metadata": {},
   "source": [
    "## Model creation "
   ]
  },
  {
   "cell_type": "code",
   "execution_count": 10,
   "id": "79688962",
   "metadata": {},
   "outputs": [],
   "source": [
    "model = Sequential()\n",
    "\n",
    "# Convolutional layer\n",
    "\n",
    "model.add(Conv2D(filters=16, kernel_size=(5, 5), strides=(2, 2), padding='valid', input_shape=(224, 224, 3)))\n",
    "model.add(Activation(\"relu\"))\n",
    "model.add(Conv2D(filters=32,kernel_size=(3,3),strides=(1,1),padding=\"valid\"))     \n",
    "model.add(Activation(\"relu\"))\n",
    "model.add(Conv2D(filters=64,kernel_size=(3,3),strides=(1,1),padding=\"valid\"))     \n",
    "model.add(Activation(\"relu\")) \n",
    "model.add(Conv2D(filters=96,kernel_size=(3,3),strides=(1,1),padding=\"valid\"))     \n",
    "model.add(Activation(\"relu\")) \n",
    "model.add(MaxPooling2D(pool_size=(2,2),strides=(2,2),padding=\"valid\")) \n",
    "\n",
    "\n",
    "model.add(Conv2D(filters=128,kernel_size=(3,3),strides=(1,1),padding=\"same\"))     \n",
    "model.add(Activation(\"relu\"))\n",
    "model.add(Conv2D(filters=160,kernel_size=(3,3),strides=(1,1),padding=\"same\"))     \n",
    "model.add(Activation(\"relu\"))    \n",
    "model.add(MaxPooling2D(pool_size=(2,2),strides=(2,2),padding=\"valid\"))\n",
    "\n",
    "\n",
    "model.add(Conv2D(filters=256,kernel_size=(3,3),strides=(1,1),padding=\"same\"))\n",
    "model.add(Activation(\"relu\"))\n",
    "\n",
    "model.add(Conv2D(filters=256,kernel_size=(3,3),strides=(1,1),padding=\"same\"))\n",
    "model.add(Activation(\"relu\"))\n",
    "\n",
    "model.add(Conv2D(filters=256,kernel_size=(3,3),strides=(1,1),padding=\"same\"))\n",
    "model.add(Activation(\"relu\"))\n",
    "\n",
    "model.add(Conv2D(filters=128,kernel_size=(1,1), activation='relu', padding='same'))     \n",
    "\n",
    "\n",
    "model.add(MaxPooling2D(pool_size=(2,2),strides=(2,2),padding=\"valid\"))\n",
    "\n",
    "# Fully connected layers\n",
    "model.add(Flatten())\n",
    "model.add(Dense(1000,activation='relu'))\n",
    "model.add(Dropout(0.5))\n",
    "model.add(Dense(256,activation='relu'))\n",
    "model.add(Dropout(0.5))\n",
    "model.add(Dense(4,activation='softmax'))  \n"
   ]
  },
  {
   "cell_type": "code",
   "execution_count": 11,
   "id": "bb9f7880",
   "metadata": {},
   "outputs": [
    {
     "name": "stdout",
     "output_type": "stream",
     "text": [
      "Model: \"sequential\"\n",
      "_________________________________________________________________\n",
      " Layer (type)                Output Shape              Param #   \n",
      "=================================================================\n",
      " conv2d (Conv2D)             (None, 110, 110, 16)      1216      \n",
      "                                                                 \n",
      " activation (Activation)     (None, 110, 110, 16)      0         \n",
      "                                                                 \n",
      " conv2d_1 (Conv2D)           (None, 108, 108, 32)      4640      \n",
      "                                                                 \n",
      " activation_1 (Activation)   (None, 108, 108, 32)      0         \n",
      "                                                                 \n",
      " conv2d_2 (Conv2D)           (None, 106, 106, 64)      18496     \n",
      "                                                                 \n",
      " activation_2 (Activation)   (None, 106, 106, 64)      0         \n",
      "                                                                 \n",
      " conv2d_3 (Conv2D)           (None, 104, 104, 96)      55392     \n",
      "                                                                 \n",
      " activation_3 (Activation)   (None, 104, 104, 96)      0         \n",
      "                                                                 \n",
      " max_pooling2d (MaxPooling2D  (None, 52, 52, 96)       0         \n",
      " )                                                               \n",
      "                                                                 \n",
      " conv2d_4 (Conv2D)           (None, 52, 52, 128)       110720    \n",
      "                                                                 \n",
      " activation_4 (Activation)   (None, 52, 52, 128)       0         \n",
      "                                                                 \n",
      " conv2d_5 (Conv2D)           (None, 52, 52, 160)       184480    \n",
      "                                                                 \n",
      " activation_5 (Activation)   (None, 52, 52, 160)       0         \n",
      "                                                                 \n",
      " max_pooling2d_1 (MaxPooling  (None, 26, 26, 160)      0         \n",
      " 2D)                                                             \n",
      "                                                                 \n",
      " conv2d_6 (Conv2D)           (None, 26, 26, 256)       368896    \n",
      "                                                                 \n",
      " activation_6 (Activation)   (None, 26, 26, 256)       0         \n",
      "                                                                 \n",
      " conv2d_7 (Conv2D)           (None, 26, 26, 256)       590080    \n",
      "                                                                 \n",
      " activation_7 (Activation)   (None, 26, 26, 256)       0         \n",
      "                                                                 \n",
      " conv2d_8 (Conv2D)           (None, 26, 26, 256)       590080    \n",
      "                                                                 \n",
      " activation_8 (Activation)   (None, 26, 26, 256)       0         \n",
      "                                                                 \n",
      " conv2d_9 (Conv2D)           (None, 26, 26, 128)       32896     \n",
      "                                                                 \n",
      " max_pooling2d_2 (MaxPooling  (None, 13, 13, 128)      0         \n",
      " 2D)                                                             \n",
      "                                                                 \n",
      " flatten (Flatten)           (None, 21632)             0         \n",
      "                                                                 \n",
      " dense (Dense)               (None, 1000)              21633000  \n",
      "                                                                 \n",
      " dropout (Dropout)           (None, 1000)              0         \n",
      "                                                                 \n",
      " dense_1 (Dense)             (None, 256)               256256    \n",
      "                                                                 \n",
      " dropout_1 (Dropout)         (None, 256)               0         \n",
      "                                                                 \n",
      " dense_2 (Dense)             (None, 4)                 1028      \n",
      "                                                                 \n",
      "=================================================================\n",
      "Total params: 23,847,180\n",
      "Trainable params: 23,847,180\n",
      "Non-trainable params: 0\n",
      "_________________________________________________________________\n"
     ]
    },
    {
     "name": "stderr",
     "output_type": "stream",
     "text": [
      "C:\\Users\\HP\\Anaconda3\\lib\\site-packages\\keras\\optimizers\\optimizer_v2\\gradient_descent.py:111: UserWarning: The `lr` argument is deprecated, use `learning_rate` instead.\n",
      "  super().__init__(name, **kwargs)\n"
     ]
    }
   ],
   "source": [
    "model.compile(\n",
    "    loss='categorical_crossentropy',\n",
    "    optimizer=tf.optimizers.SGD(lr=0.001),\n",
    "    metrics=['accuracy']    \n",
    ")\n",
    "model.summary()"
   ]
  },
  {
   "cell_type": "code",
   "execution_count": null,
   "id": "12c0e2fb",
   "metadata": {},
   "outputs": [],
   "source": [
    "# Trainable parameters are less than the origanl (trainable parameters are reduced by half)"
   ]
  },
  {
   "cell_type": "code",
   "execution_count": 12,
   "id": "b5a92b13",
   "metadata": {},
   "outputs": [
    {
     "name": "stdout",
     "output_type": "stream",
     "text": [
      "Epoch 1/50\n",
      "75/75 [==============================] - 21s 211ms/step - loss: 1.3863 - accuracy: 0.2392 - val_loss: 1.3860 - val_accuracy: 0.2725\n",
      "Epoch 2/50\n",
      "75/75 [==============================] - 16s 210ms/step - loss: 1.3863 - accuracy: 0.2500 - val_loss: 1.3859 - val_accuracy: 0.3975\n",
      "Epoch 3/50\n",
      "75/75 [==============================] - 16s 212ms/step - loss: 1.3862 - accuracy: 0.2525 - val_loss: 1.3858 - val_accuracy: 0.3350\n",
      "Epoch 4/50\n",
      "75/75 [==============================] - 16s 215ms/step - loss: 1.3861 - accuracy: 0.2400 - val_loss: 1.3857 - val_accuracy: 0.4750\n",
      "Epoch 5/50\n",
      "75/75 [==============================] - 16s 216ms/step - loss: 1.3858 - accuracy: 0.2800 - val_loss: 1.3856 - val_accuracy: 0.3625\n",
      "Epoch 6/50\n",
      "75/75 [==============================] - 16s 217ms/step - loss: 1.3854 - accuracy: 0.2992 - val_loss: 1.3854 - val_accuracy: 0.2750\n",
      "Epoch 7/50\n",
      "75/75 [==============================] - 16s 218ms/step - loss: 1.3857 - accuracy: 0.2958 - val_loss: 1.3853 - val_accuracy: 0.4375\n",
      "Epoch 8/50\n",
      "75/75 [==============================] - 16s 218ms/step - loss: 1.3859 - accuracy: 0.2625 - val_loss: 1.3852 - val_accuracy: 0.5425\n",
      "Epoch 9/50\n",
      "75/75 [==============================] - 17s 220ms/step - loss: 1.3857 - accuracy: 0.2883 - val_loss: 1.3851 - val_accuracy: 0.4625\n",
      "Epoch 10/50\n",
      "75/75 [==============================] - 17s 222ms/step - loss: 1.3856 - accuracy: 0.2767 - val_loss: 1.3850 - val_accuracy: 0.4625\n",
      "Epoch 11/50\n",
      "75/75 [==============================] - 16s 217ms/step - loss: 1.3855 - accuracy: 0.2833 - val_loss: 1.3849 - val_accuracy: 0.5325\n",
      "Epoch 12/50\n",
      "75/75 [==============================] - 16s 218ms/step - loss: 1.3853 - accuracy: 0.3042 - val_loss: 1.3847 - val_accuracy: 0.6550\n",
      "Epoch 13/50\n",
      "75/75 [==============================] - 17s 219ms/step - loss: 1.3854 - accuracy: 0.3000 - val_loss: 1.3846 - val_accuracy: 0.5200\n",
      "Epoch 14/50\n",
      "75/75 [==============================] - 17s 220ms/step - loss: 1.3853 - accuracy: 0.2833 - val_loss: 1.3845 - val_accuracy: 0.6450\n",
      "Epoch 15/50\n",
      "75/75 [==============================] - 17s 219ms/step - loss: 1.3853 - accuracy: 0.2950 - val_loss: 1.3843 - val_accuracy: 0.7075\n",
      "Epoch 16/50\n",
      "75/75 [==============================] - 17s 224ms/step - loss: 1.3853 - accuracy: 0.2800 - val_loss: 1.3842 - val_accuracy: 0.7175\n",
      "Epoch 17/50\n",
      "75/75 [==============================] - 17s 225ms/step - loss: 1.3854 - accuracy: 0.2742 - val_loss: 1.3840 - val_accuracy: 0.5650\n",
      "Epoch 18/50\n",
      "75/75 [==============================] - 17s 221ms/step - loss: 1.3847 - accuracy: 0.3342 - val_loss: 1.3839 - val_accuracy: 0.6675\n",
      "Epoch 19/50\n",
      "75/75 [==============================] - 17s 221ms/step - loss: 1.3848 - accuracy: 0.3225 - val_loss: 1.3837 - val_accuracy: 0.6350\n",
      "Epoch 20/50\n",
      "75/75 [==============================] - 17s 220ms/step - loss: 1.3841 - accuracy: 0.3525 - val_loss: 1.3835 - val_accuracy: 0.6450\n",
      "Epoch 21/50\n",
      "75/75 [==============================] - 18s 239ms/step - loss: 1.3840 - accuracy: 0.3392 - val_loss: 1.3833 - val_accuracy: 0.6425\n",
      "Epoch 22/50\n",
      "75/75 [==============================] - 18s 236ms/step - loss: 1.3842 - accuracy: 0.3308 - val_loss: 1.3831 - val_accuracy: 0.4200\n",
      "Epoch 23/50\n",
      "75/75 [==============================] - 17s 221ms/step - loss: 1.3844 - accuracy: 0.3417 - val_loss: 1.3828 - val_accuracy: 0.7150\n",
      "Epoch 24/50\n",
      "75/75 [==============================] - 17s 220ms/step - loss: 1.3840 - accuracy: 0.3325 - val_loss: 1.3825 - val_accuracy: 0.7200\n",
      "Epoch 25/50\n",
      "75/75 [==============================] - 17s 222ms/step - loss: 1.3837 - accuracy: 0.3600 - val_loss: 1.3823 - val_accuracy: 0.7025\n",
      "Epoch 26/50\n",
      "75/75 [==============================] - 17s 222ms/step - loss: 1.3835 - accuracy: 0.3425 - val_loss: 1.3820 - val_accuracy: 0.6825\n",
      "Epoch 27/50\n",
      "75/75 [==============================] - 17s 222ms/step - loss: 1.3828 - accuracy: 0.3608 - val_loss: 1.3817 - val_accuracy: 0.6725\n",
      "Epoch 28/50\n",
      "75/75 [==============================] - 17s 221ms/step - loss: 1.3830 - accuracy: 0.3583 - val_loss: 1.3813 - val_accuracy: 0.6125\n",
      "Epoch 29/50\n",
      "75/75 [==============================] - 17s 222ms/step - loss: 1.3830 - accuracy: 0.3600 - val_loss: 1.3809 - val_accuracy: 0.7000\n",
      "Epoch 30/50\n",
      "75/75 [==============================] - 17s 221ms/step - loss: 1.3827 - accuracy: 0.3800 - val_loss: 1.3805 - val_accuracy: 0.5725\n",
      "Epoch 31/50\n",
      "75/75 [==============================] - 17s 222ms/step - loss: 1.3821 - accuracy: 0.3942 - val_loss: 1.3799 - val_accuracy: 0.6775\n",
      "Epoch 32/50\n",
      "75/75 [==============================] - 17s 222ms/step - loss: 1.3817 - accuracy: 0.3992 - val_loss: 1.3795 - val_accuracy: 0.6375\n",
      "Epoch 33/50\n",
      "75/75 [==============================] - 17s 221ms/step - loss: 1.3819 - accuracy: 0.4000 - val_loss: 1.3789 - val_accuracy: 0.7200\n",
      "Epoch 34/50\n",
      "75/75 [==============================] - 17s 224ms/step - loss: 1.3808 - accuracy: 0.4208 - val_loss: 1.3782 - val_accuracy: 0.6925\n",
      "Epoch 35/50\n",
      "75/75 [==============================] - 17s 223ms/step - loss: 1.3804 - accuracy: 0.4275 - val_loss: 1.3775 - val_accuracy: 0.7600\n",
      "Epoch 36/50\n",
      "75/75 [==============================] - 17s 223ms/step - loss: 1.3796 - accuracy: 0.4392 - val_loss: 1.3766 - val_accuracy: 0.7725\n",
      "Epoch 37/50\n",
      "75/75 [==============================] - 17s 221ms/step - loss: 1.3791 - accuracy: 0.4575 - val_loss: 1.3756 - val_accuracy: 0.7525\n",
      "Epoch 38/50\n",
      "75/75 [==============================] - 17s 220ms/step - loss: 1.3783 - accuracy: 0.4475 - val_loss: 1.3745 - val_accuracy: 0.7425\n",
      "Epoch 39/50\n",
      "75/75 [==============================] - 17s 221ms/step - loss: 1.3777 - accuracy: 0.4517 - val_loss: 1.3732 - val_accuracy: 0.7875\n",
      "Epoch 40/50\n",
      "75/75 [==============================] - 17s 220ms/step - loss: 1.3764 - accuracy: 0.4733 - val_loss: 1.3716 - val_accuracy: 0.7625\n",
      "Epoch 41/50\n",
      "75/75 [==============================] - 17s 223ms/step - loss: 1.3753 - accuracy: 0.4683 - val_loss: 1.3701 - val_accuracy: 0.7275\n",
      "Epoch 42/50\n",
      "75/75 [==============================] - 17s 228ms/step - loss: 1.3728 - accuracy: 0.4992 - val_loss: 1.3678 - val_accuracy: 0.7225\n",
      "Epoch 43/50\n",
      "75/75 [==============================] - 17s 223ms/step - loss: 1.3727 - accuracy: 0.4800 - val_loss: 1.3656 - val_accuracy: 0.6925\n",
      "Epoch 44/50\n",
      "75/75 [==============================] - 17s 223ms/step - loss: 1.3714 - accuracy: 0.4758 - val_loss: 1.3629 - val_accuracy: 0.7175\n",
      "Epoch 45/50\n",
      "75/75 [==============================] - 17s 226ms/step - loss: 1.3683 - accuracy: 0.4983 - val_loss: 1.3598 - val_accuracy: 0.6525\n",
      "Epoch 46/50\n",
      "75/75 [==============================] - 17s 228ms/step - loss: 1.3669 - accuracy: 0.5042 - val_loss: 1.3561 - val_accuracy: 0.6750\n",
      "Epoch 47/50\n",
      "75/75 [==============================] - 19s 246ms/step - loss: 1.3636 - accuracy: 0.5233 - val_loss: 1.3514 - val_accuracy: 0.6600\n",
      "Epoch 48/50\n",
      "75/75 [==============================] - 17s 231ms/step - loss: 1.3603 - accuracy: 0.5092 - val_loss: 1.3456 - val_accuracy: 0.6550\n",
      "Epoch 49/50\n",
      "75/75 [==============================] - 18s 236ms/step - loss: 1.3554 - accuracy: 0.5375 - val_loss: 1.3388 - val_accuracy: 0.6425\n",
      "Epoch 50/50\n",
      "75/75 [==============================] - 17s 226ms/step - loss: 1.3491 - accuracy: 0.5450 - val_loss: 1.3300 - val_accuracy: 0.6125\n"
     ]
    }
   ],
   "source": [
    "# fit the model\n",
    "epochs = 50\n",
    "history = model.fit(training_set, validation_data=test_set,epochs=epochs,\n",
    "            steps_per_epoch=len(training_set),\n",
    "            validation_steps=len(test_set), \n",
    "            verbose=1,)"
   ]
  },
  {
   "cell_type": "code",
   "execution_count": 13,
   "id": "a52027a7",
   "metadata": {},
   "outputs": [
    {
     "name": "stdout",
     "output_type": "stream",
     "text": [
      "25/25 [==============================] - 1s 45ms/step - loss: 1.3300 - accuracy: 0.6125\n"
     ]
    }
   ],
   "source": [
    "scores = model.evaluate(test_set)"
   ]
  },
  {
   "cell_type": "code",
   "execution_count": 14,
   "id": "7e85fe20",
   "metadata": {},
   "outputs": [
    {
     "name": "stdout",
     "output_type": "stream",
     "text": [
      "test loss 1.3300436735153198\n",
      "test accuracy 0.612500011920929\n"
     ]
    }
   ],
   "source": [
    "print(\"test loss\",scores[0])\n",
    "print(\"test accuracy\",scores[1])"
   ]
  },
  {
   "cell_type": "code",
   "execution_count": 15,
   "id": "7b47b7c4",
   "metadata": {},
   "outputs": [
    {
     "data": {
      "image/png": "[encoded data removed]",
      "text/plain": [
       "<Figure size 640x480 with 1 Axes>"
      ]
     },
     "metadata": {},
     "output_type": "display_data"
    },
    {
     "data": {
      "image/png": "[encoded data removed]",
      "text/plain": [
       "<Figure size 640x480 with 1 Axes>"
      ]
     },
     "metadata": {},
     "output_type": "display_data"
    }
   ],
   "source": [
    "plt.plot(history.history['loss'], label='Loss (training data)')\n",
    "plt.plot(history.history['val_loss'], label='Loss (validation data)')\n",
    "plt.title('Loss for Training')\n",
    "plt.ylabel('Loss')\n",
    "plt.xlabel('No. epoch')\n",
    "plt.legend(['train', 'validation'], loc=\"upper left\")\n",
    "plt.show()\n",
    "plt.plot(history.history['accuracy'])\n",
    "plt.plot(history.history['val_accuracy'])\n",
    "plt.title('model accuracy')\n",
    "plt.ylabel('accuracy')\n",
    "plt.xlabel('epoch')\n",
    "plt.legend(['train', 'validation'], loc='upper left')\n",
    "plt.show()"
   ]
  },
  {
   "cell_type": "code",
   "execution_count": null,
   "id": "5073a966",
   "metadata": {},
   "outputs": [],
   "source": []
  }
 ],
 "metadata": {
  "kernelspec": {
   "display_name": "Python 3 (ipykernel)",
   "language": "python",
   "name": "python3"
  },
  "language_info": {
   "codemirror_mode": {
    "name": "ipython",
    "version": 3
   },
   "file_extension": ".py",
   "mimetype": "text/x-python",
   "name": "python",
   "nbconvert_exporter": "python",
   "pygments_lexer": "ipython3",
   "version": "3.9.12"
  }
 },
 "nbformat": 4,
 "nbformat_minor": 5
}
