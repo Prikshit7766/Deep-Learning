{
 "cells": [
  {
   "cell_type": "markdown",
   "id": "a5784c33",
   "metadata": {},
   "source": [
    "## changes that I made:- \n",
    "- Replaced FILTER (11,11) with  one (5,5) with stride (1,1) and three (3,3) filters with stride (1,1) and increasing the number of filters from 16 to 96 step by step  .\n",
    "- Replaced FILTER (5,5) with two (3,3) filters .\n",
    "- Added one (1,1) layer before last MAX Pooling layer in the end to reduce the number of filters .\n",
    "- Manuplated number of kernels in every layer .\n",
    "- Reduced the number of neurons from the Dense layer \n",
    "- using maxpooling with pool_size=(3,3),strides=(2,2),padding=\"valid\""
   ]
  },
  {
   "cell_type": "markdown",
   "id": "8a171359",
   "metadata": {},
   "source": [
    "## result \n",
    "- number of trainable parameters are too high (more than original)\n",
    "- test loss 0.627069354057312\n",
    "- test accuracy 0.7024999856948853"
   ]
  },
  {
   "cell_type": "markdown",
   "id": "44e73eae",
   "metadata": {},
   "source": [
    "\n",
    "**[Coffee Bean Dataset](https://www.kaggle.com/datasets/gpiosenka/coffee-bean-dataset-resized-224-x-224?select=train)**"
   ]
  },
  {
   "cell_type": "code",
   "execution_count": 3,
   "id": "449a71cd",
   "metadata": {},
   "outputs": [],
   "source": [
    "import numpy as np\n",
    "import pandas as pd\n",
    "\n",
    "import io\n",
    "import os\n",
    "\n",
    "\n",
    "from PIL import Image\n",
    "from glob import glob\n",
    "import itertools\n",
    "\n",
    "import plotly.graph_objects as go\n",
    "import plotly.express as px\n",
    "from plotly.subplots import make_subplots\n",
    "import matplotlib.pyplot as plt\n",
    "import seaborn as sns\n",
    "\n",
    "\n",
    "import tensorflow as tf\n",
    "from tensorflow.keras.preprocessing.image import ImageDataGenerator\n",
    "import tensorflow.keras\n",
    "from tensorflow.keras.models import Sequential\n",
    "from tensorflow.keras.layers import Dense, Activation, Dropout, Flatten,Conv2D, MaxPooling2D,BatchNormalization\n",
    "from tensorflow.keras.callbacks import ReduceLROnPlateau, EarlyStopping , ModelCheckpoint\n",
    "\n",
    "from sklearn.model_selection import train_test_split\n",
    "from sklearn.metrics import classification_report, confusion_matrix\n"
   ]
  },
  {
   "cell_type": "code",
   "execution_count": 4,
   "id": "674ef102",
   "metadata": {},
   "outputs": [],
   "source": [
    "train_dir = os.path.join( 'Coffee Bean Dataset/train')\n",
    "test_dir = os.path.join('Coffee Bean Dataset/test')"
   ]
  },
  {
   "cell_type": "code",
   "execution_count": 5,
   "id": "d8c08aed",
   "metadata": {},
   "outputs": [],
   "source": [
    "df=pd.read_csv(\"Coffee Bean Dataset/Coffee Bean.csv\")"
   ]
  },
  {
   "cell_type": "code",
   "execution_count": 6,
   "id": "d1edb332",
   "metadata": {},
   "outputs": [
    {
     "data": {
      "text/html": [
       "<div>\n",
       "<style scoped>\n",
       "    .dataframe tbody tr th:only-of-type {\n",
       "        vertical-align: middle;\n",
       "    }\n",
       "\n",
       "    .dataframe tbody tr th {\n",
       "        vertical-align: top;\n",
       "    }\n",
       "\n",
       "    .dataframe thead th {\n",
       "        text-align: right;\n",
       "    }\n",
       "</style>\n",
       "<table border=\"1\" class=\"dataframe\">\n",
       "  <thead>\n",
       "    <tr style=\"text-align: right;\">\n",
       "      <th></th>\n",
       "      <th>class index</th>\n",
       "      <th>filepaths</th>\n",
       "      <th>labels</th>\n",
       "      <th>data set</th>\n",
       "    </tr>\n",
       "  </thead>\n",
       "  <tbody>\n",
       "    <tr>\n",
       "      <th>0</th>\n",
       "      <td>0</td>\n",
       "      <td>train/Dark/dark (1).png</td>\n",
       "      <td>Dark</td>\n",
       "      <td>train</td>\n",
       "    </tr>\n",
       "    <tr>\n",
       "      <th>1</th>\n",
       "      <td>0</td>\n",
       "      <td>train/Dark/dark (10).png</td>\n",
       "      <td>Dark</td>\n",
       "      <td>train</td>\n",
       "    </tr>\n",
       "    <tr>\n",
       "      <th>2</th>\n",
       "      <td>0</td>\n",
       "      <td>train/Dark/dark (100).png</td>\n",
       "      <td>Dark</td>\n",
       "      <td>train</td>\n",
       "    </tr>\n",
       "    <tr>\n",
       "      <th>3</th>\n",
       "      <td>0</td>\n",
       "      <td>train/Dark/dark (101).png</td>\n",
       "      <td>Dark</td>\n",
       "      <td>train</td>\n",
       "    </tr>\n",
       "    <tr>\n",
       "      <th>4</th>\n",
       "      <td>0</td>\n",
       "      <td>train/Dark/dark (102).png</td>\n",
       "      <td>Dark</td>\n",
       "      <td>train</td>\n",
       "    </tr>\n",
       "  </tbody>\n",
       "</table>\n",
       "</div>"
      ],
      "text/plain": [
       "   class index                  filepaths labels data set\n",
       "0            0    train/Dark/dark (1).png   Dark    train\n",
       "1            0   train/Dark/dark (10).png   Dark    train\n",
       "2            0  train/Dark/dark (100).png   Dark    train\n",
       "3            0  train/Dark/dark (101).png   Dark    train\n",
       "4            0  train/Dark/dark (102).png   Dark    train"
      ]
     },
     "execution_count": 6,
     "metadata": {},
     "output_type": "execute_result"
    }
   ],
   "source": [
    "df.head()"
   ]
  },
  {
   "cell_type": "code",
   "execution_count": 7,
   "id": "995049b5",
   "metadata": {},
   "outputs": [
    {
     "data": {
      "text/plain": [
       "Dark      400\n",
       "Green     400\n",
       "Light     400\n",
       "Medium    400\n",
       "Name: labels, dtype: int64"
      ]
     },
     "execution_count": 7,
     "metadata": {},
     "output_type": "execute_result"
    }
   ],
   "source": [
    "df.labels.value_counts()"
   ]
  },
  {
   "cell_type": "code",
   "execution_count": 8,
   "id": "eb229aec",
   "metadata": {},
   "outputs": [
    {
     "data": {
      "text/plain": [
       "train    1200\n",
       "test      400\n",
       "Name: data set, dtype: int64"
      ]
     },
     "execution_count": 8,
     "metadata": {},
     "output_type": "execute_result"
    }
   ],
   "source": [
    "df[\"data set\"].value_counts()"
   ]
  },
  {
   "cell_type": "markdown",
   "id": "135cf420",
   "metadata": {},
   "source": [
    "**Data pre-processing and data augmentation**\n",
    "\n",
    "In order to make the most of our few training examples, we will \"augment\" them via a number of random transformations, so that our model would never see twice the exact same picture. This helps prevent overfitting and helps the model generalize better.\n",
    "\n",
    "In Keras this can be done via the keras.preprocessing.image.ImageDataGenerator class. This class allows you to:\n",
    "\n",
    "- configure random transformations and normalization operations to be done on your image data during training\n",
    "- instantiate generators of augmented image batches (and their labels) via .flow(data, labels) or .flow_from_directory(directory). These generators can then be used with the Keras model methods that accept data generators as inputs, fit_generator, evaluate_generator and predict_generator."
   ]
  },
  {
   "cell_type": "code",
   "execution_count": 9,
   "id": "f86b48e1",
   "metadata": {},
   "outputs": [],
   "source": [
    "# Use the Image Data Generator to import the images from the dataset\n",
    "from tensorflow.keras.preprocessing.image import ImageDataGenerator\n",
    "\n",
    "train_datagen = ImageDataGenerator(\n",
    "        rotation_range=40,\n",
    "        width_shift_range=0.2,\n",
    "        height_shift_range=0.2,\n",
    "        rescale=1./255,\n",
    "        shear_range=0.2,\n",
    "        zoom_range=0.2,\n",
    "        horizontal_flip=True,\n",
    "        fill_mode='nearest')\n",
    "\n",
    "test_datagen = ImageDataGenerator(rescale = 1./255)"
   ]
  },
  {
   "cell_type": "markdown",
   "id": "f7426b9a",
   "metadata": {},
   "source": [
    "These are just a few of the options available :-\n",
    "\n",
    "- **rotation_range** is a value in degrees (0-180), a range within which to randomly rotate pictures\n",
    "- **width_shift** and height_shift are ranges (as a fraction of total width or height) within which to randomly translate pictures vertically or horizontally\n",
    "- **rescale** is a value by which we will multiply the data before any other processing. Our original images consist in RGB coefficients in the 0-255, but such values would be too high for our models to process (given a typical learning rate), so we target values between 0 and 1 instead by scaling with a 1/255. factor.\n",
    "- **shear_range** is for randomly applying shearing transformations\n",
    "- **zoom_range** is for randomly zooming inside pictures\n",
    "- **horizontal_flip** is for randomly flipping half of the images horizontally --relevant when there are no assumptions of horizontal assymetry (e.g. real-world pictures).\n",
    "- **fill_mode** is the strategy used for filling in newly created pixels, which can appear after a rotation or a width/height shift.\n",
    "\n"
   ]
  },
  {
   "cell_type": "code",
   "execution_count": 10,
   "id": "4a2ebe21",
   "metadata": {},
   "outputs": [
    {
     "name": "stdout",
     "output_type": "stream",
     "text": [
      "Found 1200 images belonging to 4 classes.\n",
      "Found 400 images belonging to 4 classes.\n"
     ]
    }
   ],
   "source": [
    "training_set = train_datagen.flow_from_directory(train_dir,\n",
    "                                                 target_size = (224, 224),\n",
    "                                                 batch_size = 16,\n",
    "                                                 class_mode = 'categorical')\n",
    "\n",
    "test_set = test_datagen.flow_from_directory(test_dir,\n",
    "                                            target_size = (224, 224),\n",
    "                                            batch_size = 16,\n",
    "                                            class_mode = 'categorical')"
   ]
  },
  {
   "cell_type": "code",
   "execution_count": 11,
   "id": "615edc38",
   "metadata": {},
   "outputs": [
    {
     "data": {
      "text/plain": [
       "['Coffee Bean Dataset/train\\\\Dark',\n",
       " 'Coffee Bean Dataset/train\\\\Green',\n",
       " 'Coffee Bean Dataset/train\\\\Light',\n",
       " 'Coffee Bean Dataset/train\\\\Medium']"
      ]
     },
     "execution_count": 11,
     "metadata": {},
     "output_type": "execute_result"
    }
   ],
   "source": [
    "folders = glob('Coffee Bean Dataset/train/*')\n",
    "folders"
   ]
  },
  {
   "cell_type": "code",
   "execution_count": null,
   "id": "e653d8a9",
   "metadata": {},
   "outputs": [],
   "source": []
  },
  {
   "cell_type": "markdown",
   "id": "9ca7c194",
   "metadata": {},
   "source": [
    "## Model creation  "
   ]
  },
  {
   "cell_type": "code",
   "execution_count": 12,
   "id": "79688962",
   "metadata": {},
   "outputs": [],
   "source": [
    "model = Sequential()\n",
    "\n",
    "# Convolutional layer\n",
    "\n",
    "model.add(Conv2D(filters=16, kernel_size=(5, 5), strides=(1, 1), padding='valid', input_shape=(224, 224, 3)))\n",
    "model.add(Activation(\"relu\"))\n",
    "model.add(Conv2D(filters=32,kernel_size=(3,3),strides=(1,1),padding=\"valid\"))     \n",
    "model.add(Activation(\"relu\")) \n",
    "model.add(Conv2D(filters=64,kernel_size=(3,3),strides=(1,1),padding=\"valid\"))     \n",
    "model.add(Activation(\"relu\")) \n",
    "model.add(Conv2D(filters=96,kernel_size=(3,3),strides=(1,1),padding=\"valid\"))     \n",
    "model.add(Activation(\"relu\")) \n",
    "model.add(MaxPooling2D(pool_size=(3,3),strides=(2,2),padding=\"valid\")) \n",
    "\n",
    "\n",
    "model.add(Conv2D(filters=128,kernel_size=(3,3),strides=(1,1),padding=\"same\"))     \n",
    "model.add(Activation(\"relu\"))\n",
    "model.add(Conv2D(filters=160,kernel_size=(3,3),strides=(1,1),padding=\"same\"))     \n",
    "model.add(Activation(\"relu\"))    \n",
    "model.add(MaxPooling2D(pool_size=(3,3),strides=(2,2),padding=\"valid\"))\n",
    "\n",
    "\n",
    "model.add(Conv2D(filters=256,kernel_size=(3,3),strides=(1,1),padding=\"same\"))\n",
    "model.add(Activation(\"relu\"))\n",
    "\n",
    "model.add(Conv2D(filters=256,kernel_size=(3,3),strides=(1,1),padding=\"same\"))\n",
    "model.add(Activation(\"relu\"))\n",
    "\n",
    "model.add(Conv2D(filters=256,kernel_size=(3,3),strides=(1,1),padding=\"same\"))\n",
    "model.add(Activation(\"relu\"))\n",
    "\n",
    "model.add(Conv2D(filters=128,kernel_size=(1,1), activation='relu', padding='same'))     \n",
    "\n",
    "\n",
    "model.add(MaxPooling2D(pool_size=(3,3),strides=(2,2),padding=\"valid\"))\n",
    "\n",
    "# Fully connected layers\n",
    "model.add(Flatten())\n",
    "model.add(Dense(1000,activation='relu'))\n",
    "model.add(Dropout(0.5))\n",
    "model.add(Dense(256,activation='relu'))\n",
    "model.add(Dropout(0.5))\n",
    "model.add(Dense(4,activation='softmax'))  \n"
   ]
  },
  {
   "cell_type": "code",
   "execution_count": 13,
   "id": "bb9f7880",
   "metadata": {},
   "outputs": [
    {
     "name": "stdout",
     "output_type": "stream",
     "text": [
      "Model: \"sequential\"\n",
      "_________________________________________________________________\n",
      " Layer (type)                Output Shape              Param #   \n",
      "=================================================================\n",
      " conv2d (Conv2D)             (None, 220, 220, 16)      1216      \n",
      "                                                                 \n",
      " activation (Activation)     (None, 220, 220, 16)      0         \n",
      "                                                                 \n",
      " conv2d_1 (Conv2D)           (None, 218, 218, 32)      4640      \n",
      "                                                                 \n",
      " activation_1 (Activation)   (None, 218, 218, 32)      0         \n",
      "                                                                 \n",
      " conv2d_2 (Conv2D)           (None, 216, 216, 64)      18496     \n",
      "                                                                 \n",
      " activation_2 (Activation)   (None, 216, 216, 64)      0         \n",
      "                                                                 \n",
      " conv2d_3 (Conv2D)           (None, 214, 214, 96)      55392     \n",
      "                                                                 \n",
      " activation_3 (Activation)   (None, 214, 214, 96)      0         \n",
      "                                                                 \n",
      " max_pooling2d (MaxPooling2D  (None, 106, 106, 96)     0         \n",
      " )                                                               \n",
      "                                                                 \n",
      " conv2d_4 (Conv2D)           (None, 106, 106, 128)     110720    \n",
      "                                                                 \n",
      " activation_4 (Activation)   (None, 106, 106, 128)     0         \n",
      "                                                                 \n",
      " conv2d_5 (Conv2D)           (None, 106, 106, 160)     184480    \n",
      "                                                                 \n",
      " activation_5 (Activation)   (None, 106, 106, 160)     0         \n",
      "                                                                 \n",
      " max_pooling2d_1 (MaxPooling  (None, 52, 52, 160)      0         \n",
      " 2D)                                                             \n",
      "                                                                 \n",
      " conv2d_6 (Conv2D)           (None, 52, 52, 256)       368896    \n",
      "                                                                 \n",
      " activation_6 (Activation)   (None, 52, 52, 256)       0         \n",
      "                                                                 \n",
      " conv2d_7 (Conv2D)           (None, 52, 52, 256)       590080    \n",
      "                                                                 \n",
      " activation_7 (Activation)   (None, 52, 52, 256)       0         \n",
      "                                                                 \n",
      " conv2d_8 (Conv2D)           (None, 52, 52, 256)       590080    \n",
      "                                                                 \n",
      " activation_8 (Activation)   (None, 52, 52, 256)       0         \n",
      "                                                                 \n",
      " conv2d_9 (Conv2D)           (None, 52, 52, 128)       32896     \n",
      "                                                                 \n",
      " max_pooling2d_2 (MaxPooling  (None, 25, 25, 128)      0         \n",
      " 2D)                                                             \n",
      "                                                                 \n",
      " flatten (Flatten)           (None, 80000)             0         \n",
      "                                                                 \n",
      " dense (Dense)               (None, 1000)              80001000  \n",
      "                                                                 \n",
      " dropout (Dropout)           (None, 1000)              0         \n",
      "                                                                 \n",
      " dense_1 (Dense)             (None, 256)               256256    \n",
      "                                                                 \n",
      " dropout_1 (Dropout)         (None, 256)               0         \n",
      "                                                                 \n",
      " dense_2 (Dense)             (None, 4)                 1028      \n",
      "                                                                 \n",
      "=================================================================\n",
      "Total params: 82,215,180\n",
      "Trainable params: 82,215,180\n",
      "Non-trainable params: 0\n",
      "_________________________________________________________________\n"
     ]
    },
    {
     "name": "stderr",
     "output_type": "stream",
     "text": [
      "C:\\Users\\HP\\Anaconda3\\lib\\site-packages\\keras\\optimizers\\optimizer_v2\\gradient_descent.py:111: UserWarning: The `lr` argument is deprecated, use `learning_rate` instead.\n",
      "  super().__init__(name, **kwargs)\n"
     ]
    }
   ],
   "source": [
    "model.compile(\n",
    "    loss='categorical_crossentropy',\n",
    "    optimizer=tf.optimizers.SGD(lr=0.001),\n",
    "    metrics=['accuracy']    \n",
    ")\n",
    "model.summary()"
   ]
  },
  {
   "cell_type": "code",
   "execution_count": 14,
   "id": "d6fc576e",
   "metadata": {},
   "outputs": [],
   "source": [
    "## number of trainable parameters are too high  (more than original)"
   ]
  },
  {
   "cell_type": "code",
   "execution_count": 15,
   "id": "532bbfbe",
   "metadata": {},
   "outputs": [
    {
     "name": "stdout",
     "output_type": "stream",
     "text": [
      "Epoch 1/50\n",
      "75/75 [==============================] - 78s 823ms/step - loss: 1.3863 - accuracy: 0.2408 - val_loss: 1.3860 - val_accuracy: 0.2500\n",
      "Epoch 2/50\n",
      "75/75 [==============================] - 42s 558ms/step - loss: 1.3861 - accuracy: 0.2717 - val_loss: 1.3858 - val_accuracy: 0.2525\n",
      "Epoch 3/50\n",
      "75/75 [==============================] - 42s 560ms/step - loss: 1.3856 - accuracy: 0.2717 - val_loss: 1.3855 - val_accuracy: 0.2625\n",
      "Epoch 4/50\n",
      "75/75 [==============================] - 42s 563ms/step - loss: 1.3857 - accuracy: 0.2767 - val_loss: 1.3853 - val_accuracy: 0.2625\n",
      "Epoch 5/50\n",
      "75/75 [==============================] - 42s 562ms/step - loss: 1.3854 - accuracy: 0.2833 - val_loss: 1.3851 - val_accuracy: 0.2900\n",
      "Epoch 6/50\n",
      "75/75 [==============================] - 42s 563ms/step - loss: 1.3859 - accuracy: 0.2742 - val_loss: 1.3849 - val_accuracy: 0.3475\n",
      "Epoch 7/50\n",
      "75/75 [==============================] - 42s 563ms/step - loss: 1.3855 - accuracy: 0.2975 - val_loss: 1.3846 - val_accuracy: 0.3850\n",
      "Epoch 8/50\n",
      "75/75 [==============================] - 43s 565ms/step - loss: 1.3851 - accuracy: 0.2833 - val_loss: 1.3844 - val_accuracy: 0.3100\n",
      "Epoch 9/50\n",
      "75/75 [==============================] - 43s 567ms/step - loss: 1.3848 - accuracy: 0.2850 - val_loss: 1.3841 - val_accuracy: 0.3950\n",
      "Epoch 10/50\n",
      "75/75 [==============================] - 43s 566ms/step - loss: 1.3852 - accuracy: 0.2675 - val_loss: 1.3838 - val_accuracy: 0.4900\n",
      "Epoch 11/50\n",
      "75/75 [==============================] - 42s 564ms/step - loss: 1.3844 - accuracy: 0.3167 - val_loss: 1.3835 - val_accuracy: 0.3700\n",
      "Epoch 12/50\n",
      "75/75 [==============================] - 43s 570ms/step - loss: 1.3841 - accuracy: 0.3008 - val_loss: 1.3830 - val_accuracy: 0.4600\n",
      "Epoch 13/50\n",
      "75/75 [==============================] - 44s 585ms/step - loss: 1.3842 - accuracy: 0.2883 - val_loss: 1.3825 - val_accuracy: 0.3925\n",
      "Epoch 14/50\n",
      "75/75 [==============================] - 43s 577ms/step - loss: 1.3838 - accuracy: 0.3025 - val_loss: 1.3821 - val_accuracy: 0.2900\n",
      "Epoch 15/50\n",
      "75/75 [==============================] - 43s 575ms/step - loss: 1.3838 - accuracy: 0.3017 - val_loss: 1.3815 - val_accuracy: 0.3800\n",
      "Epoch 16/50\n",
      "75/75 [==============================] - 43s 575ms/step - loss: 1.3828 - accuracy: 0.3342 - val_loss: 1.3807 - val_accuracy: 0.4325\n",
      "Epoch 17/50\n",
      "75/75 [==============================] - 42s 563ms/step - loss: 1.3817 - accuracy: 0.3258 - val_loss: 1.3800 - val_accuracy: 0.4525\n",
      "Epoch 18/50\n",
      "75/75 [==============================] - 42s 563ms/step - loss: 1.3818 - accuracy: 0.3100 - val_loss: 1.3790 - val_accuracy: 0.6075\n",
      "Epoch 19/50\n",
      "75/75 [==============================] - 42s 562ms/step - loss: 1.3822 - accuracy: 0.3133 - val_loss: 1.3779 - val_accuracy: 0.6275\n",
      "Epoch 20/50\n",
      "75/75 [==============================] - 42s 563ms/step - loss: 1.3802 - accuracy: 0.3467 - val_loss: 1.3766 - val_accuracy: 0.5575\n",
      "Epoch 21/50\n",
      "75/75 [==============================] - 42s 563ms/step - loss: 1.3791 - accuracy: 0.3350 - val_loss: 1.3750 - val_accuracy: 0.5725\n",
      "Epoch 22/50\n",
      "75/75 [==============================] - 43s 567ms/step - loss: 1.3798 - accuracy: 0.3092 - val_loss: 1.3730 - val_accuracy: 0.6175\n",
      "Epoch 23/50\n",
      "75/75 [==============================] - 43s 568ms/step - loss: 1.3761 - accuracy: 0.3458 - val_loss: 1.3701 - val_accuracy: 0.5325\n",
      "Epoch 24/50\n",
      "75/75 [==============================] - 43s 566ms/step - loss: 1.3740 - accuracy: 0.3717 - val_loss: 1.3665 - val_accuracy: 0.5250\n",
      "Epoch 25/50\n",
      "75/75 [==============================] - 43s 571ms/step - loss: 1.3712 - accuracy: 0.3583 - val_loss: 1.3617 - val_accuracy: 0.5450\n",
      "Epoch 26/50\n",
      "75/75 [==============================] - 46s 612ms/step - loss: 1.3666 - accuracy: 0.3533 - val_loss: 1.3549 - val_accuracy: 0.4975\n",
      "Epoch 27/50\n",
      "75/75 [==============================] - 47s 627ms/step - loss: 1.3599 - accuracy: 0.4083 - val_loss: 1.3450 - val_accuracy: 0.5100\n",
      "Epoch 28/50\n",
      "75/75 [==============================] - 47s 622ms/step - loss: 1.3538 - accuracy: 0.3883 - val_loss: 1.3317 - val_accuracy: 0.5375\n",
      "Epoch 29/50\n",
      "75/75 [==============================] - 42s 563ms/step - loss: 1.3425 - accuracy: 0.4100 - val_loss: 1.3108 - val_accuracy: 0.5675\n",
      "Epoch 30/50\n",
      "75/75 [==============================] - 42s 563ms/step - loss: 1.3298 - accuracy: 0.4117 - val_loss: 1.2840 - val_accuracy: 0.5275\n",
      "Epoch 31/50\n",
      "75/75 [==============================] - 42s 562ms/step - loss: 1.3056 - accuracy: 0.3825 - val_loss: 1.2340 - val_accuracy: 0.6225\n",
      "Epoch 32/50\n",
      "75/75 [==============================] - 42s 562ms/step - loss: 1.2664 - accuracy: 0.4042 - val_loss: 1.1667 - val_accuracy: 0.5400\n",
      "Epoch 33/50\n",
      "75/75 [==============================] - 42s 564ms/step - loss: 1.2372 - accuracy: 0.3983 - val_loss: 1.1009 - val_accuracy: 0.4975\n",
      "Epoch 34/50\n",
      "75/75 [==============================] - 47s 623ms/step - loss: 1.1686 - accuracy: 0.4517 - val_loss: 1.0648 - val_accuracy: 0.4250\n",
      "Epoch 35/50\n",
      "75/75 [==============================] - 47s 623ms/step - loss: 1.1384 - accuracy: 0.4250 - val_loss: 1.0233 - val_accuracy: 0.4450\n",
      "Epoch 36/50\n",
      "75/75 [==============================] - 47s 623ms/step - loss: 1.0744 - accuracy: 0.4742 - val_loss: 0.9172 - val_accuracy: 0.5525\n",
      "Epoch 37/50\n",
      "75/75 [==============================] - 47s 623ms/step - loss: 1.0251 - accuracy: 0.4850 - val_loss: 0.8310 - val_accuracy: 0.6900\n",
      "Epoch 38/50\n",
      "75/75 [==============================] - 47s 624ms/step - loss: 0.9580 - accuracy: 0.5150 - val_loss: 0.7895 - val_accuracy: 0.6450\n",
      "Epoch 39/50\n",
      "75/75 [==============================] - 47s 624ms/step - loss: 0.9002 - accuracy: 0.5567 - val_loss: 0.6863 - val_accuracy: 0.8050\n",
      "Epoch 40/50\n",
      "75/75 [==============================] - 47s 624ms/step - loss: 0.8552 - accuracy: 0.5975 - val_loss: 0.6370 - val_accuracy: 0.7600\n",
      "Epoch 41/50\n",
      "75/75 [==============================] - 45s 591ms/step - loss: 0.8173 - accuracy: 0.6217 - val_loss: 0.6163 - val_accuracy: 0.7525\n",
      "Epoch 42/50\n",
      "75/75 [==============================] - 42s 563ms/step - loss: 0.7512 - accuracy: 0.6733 - val_loss: 0.5394 - val_accuracy: 0.8125\n",
      "Epoch 43/50\n",
      "75/75 [==============================] - 43s 574ms/step - loss: 0.7382 - accuracy: 0.6633 - val_loss: 0.5800 - val_accuracy: 0.7775\n",
      "Epoch 44/50\n",
      "75/75 [==============================] - 47s 623ms/step - loss: 0.7234 - accuracy: 0.6842 - val_loss: 0.4917 - val_accuracy: 0.8100\n",
      "Epoch 45/50\n",
      "75/75 [==============================] - 47s 624ms/step - loss: 0.6870 - accuracy: 0.7008 - val_loss: 0.4474 - val_accuracy: 0.8500\n",
      "Epoch 46/50\n",
      "75/75 [==============================] - 47s 624ms/step - loss: 0.6373 - accuracy: 0.7283 - val_loss: 0.6003 - val_accuracy: 0.7575\n",
      "Epoch 47/50\n",
      "75/75 [==============================] - 47s 624ms/step - loss: 0.6167 - accuracy: 0.7550 - val_loss: 0.4208 - val_accuracy: 0.8450\n",
      "Epoch 48/50\n",
      "75/75 [==============================] - 47s 624ms/step - loss: 0.6152 - accuracy: 0.7417 - val_loss: 0.4239 - val_accuracy: 0.8375\n",
      "Epoch 49/50\n",
      "75/75 [==============================] - 45s 594ms/step - loss: 0.6064 - accuracy: 0.7567 - val_loss: 0.3503 - val_accuracy: 0.8575\n",
      "Epoch 50/50\n",
      "75/75 [==============================] - 47s 626ms/step - loss: 0.5684 - accuracy: 0.7600 - val_loss: 0.6271 - val_accuracy: 0.7025\n"
     ]
    }
   ],
   "source": [
    "# fit the model\n",
    "epochs = 50\n",
    "history = model.fit(training_set, validation_data=test_set,epochs=epochs,\n",
    "            steps_per_epoch=len(training_set),\n",
    "            validation_steps=len(test_set), \n",
    "            verbose=1,)"
   ]
  },
  {
   "cell_type": "code",
   "execution_count": 16,
   "id": "a52027a7",
   "metadata": {},
   "outputs": [
    {
     "name": "stdout",
     "output_type": "stream",
     "text": [
      "25/25 [==============================] - 4s 169ms/step - loss: 0.6271 - accuracy: 0.7025\n"
     ]
    }
   ],
   "source": [
    "scores = model.evaluate(test_set)"
   ]
  },
  {
   "cell_type": "code",
   "execution_count": 17,
   "id": "7e85fe20",
   "metadata": {},
   "outputs": [
    {
     "name": "stdout",
     "output_type": "stream",
     "text": [
      "test loss 0.627069354057312\n",
      "test accuracy 0.7024999856948853\n"
     ]
    }
   ],
   "source": [
    "print(\"test loss\",scores[0])\n",
    "print(\"test accuracy\",scores[1])"
   ]
  },
  {
   "cell_type": "code",
   "execution_count": 18,
   "id": "7b47b7c4",
   "metadata": {},
   "outputs": [
    {
     "data": {
      "image/png": "[encoded data removed]",
      "text/plain": [
       "<Figure size 640x480 with 1 Axes>"
      ]
     },
     "metadata": {},
     "output_type": "display_data"
    },
    {
     "data": {
      "image/png": "[encoded data removed]",
      "text/plain": [
       "<Figure size 640x480 with 1 Axes>"
      ]
     },
     "metadata": {},
     "output_type": "display_data"
    }
   ],
   "source": [
    "plt.plot(history.history['loss'], label='Loss (training data)')\n",
    "plt.plot(history.history['val_loss'], label='Loss (validation data)')\n",
    "plt.title('Loss for Training')\n",
    "plt.ylabel('Loss')\n",
    "plt.xlabel('No. epoch')\n",
    "plt.legend(['train', 'validation'], loc=\"upper left\")\n",
    "plt.show()\n",
    "plt.plot(history.history['accuracy'])\n",
    "plt.plot(history.history['val_accuracy'])\n",
    "plt.title('model accuracy')\n",
    "plt.ylabel('accuracy')\n",
    "plt.xlabel('epoch')\n",
    "plt.legend(['train', 'validation'], loc='upper left')\n",
    "plt.show()"
   ]
  },
  {
   "cell_type": "code",
   "execution_count": null,
   "id": "5073a966",
   "metadata": {},
   "outputs": [],
   "source": []
  }
 ],
 "metadata": {
  "kernelspec": {
   "display_name": "Python 3 (ipykernel)",
   "language": "python",
   "name": "python3"
  },
  "language_info": {
   "codemirror_mode": {
    "name": "ipython",
    "version": 3
   },
   "file_extension": ".py",
   "mimetype": "text/x-python",
   "name": "python",
   "nbconvert_exporter": "python",
   "pygments_lexer": "ipython3",
   "version": "3.9.12"
  }
 },
 "nbformat": 4,
 "nbformat_minor": 5
}
