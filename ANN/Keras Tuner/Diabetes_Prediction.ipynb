{
 "cells": [
  {
   "cell_type": "code",
   "execution_count": 1,
   "id": "cf6dcdbc",
   "metadata": {},
   "outputs": [],
   "source": [
    "import pandas as pd\n",
    "import numpy as np\n",
    "import warnings\n",
    "warnings.filterwarnings('ignore')"
   ]
  },
  {
   "cell_type": "code",
   "execution_count": 2,
   "id": "e6ebc772",
   "metadata": {},
   "outputs": [],
   "source": [
    "df=pd.read_csv(\"diabetes.csv\")"
   ]
  },
  {
   "cell_type": "code",
   "execution_count": 3,
   "id": "b34b8e19",
   "metadata": {},
   "outputs": [],
   "source": [
    "df.to_csv(\"diabetes.csv\",index=False)"
   ]
  },
  {
   "cell_type": "code",
   "execution_count": 4,
   "id": "1f07be6d",
   "metadata": {},
   "outputs": [
    {
     "data": {
      "text/html": [
       "<div>\n",
       "<style scoped>\n",
       "    .dataframe tbody tr th:only-of-type {\n",
       "        vertical-align: middle;\n",
       "    }\n",
       "\n",
       "    .dataframe tbody tr th {\n",
       "        vertical-align: top;\n",
       "    }\n",
       "\n",
       "    .dataframe thead th {\n",
       "        text-align: right;\n",
       "    }\n",
       "</style>\n",
       "<table border=\"1\" class=\"dataframe\">\n",
       "  <thead>\n",
       "    <tr style=\"text-align: right;\">\n",
       "      <th></th>\n",
       "      <th>Pregnancies</th>\n",
       "      <th>Glucose</th>\n",
       "      <th>BloodPressure</th>\n",
       "      <th>SkinThickness</th>\n",
       "      <th>Insulin</th>\n",
       "      <th>BMI</th>\n",
       "      <th>DiabetesPedigreeFunction</th>\n",
       "      <th>Age</th>\n",
       "      <th>Outcome</th>\n",
       "    </tr>\n",
       "  </thead>\n",
       "  <tbody>\n",
       "    <tr>\n",
       "      <th>0</th>\n",
       "      <td>6</td>\n",
       "      <td>148</td>\n",
       "      <td>72</td>\n",
       "      <td>35</td>\n",
       "      <td>0</td>\n",
       "      <td>33.6</td>\n",
       "      <td>0.627</td>\n",
       "      <td>50</td>\n",
       "      <td>1</td>\n",
       "    </tr>\n",
       "    <tr>\n",
       "      <th>1</th>\n",
       "      <td>1</td>\n",
       "      <td>85</td>\n",
       "      <td>66</td>\n",
       "      <td>29</td>\n",
       "      <td>0</td>\n",
       "      <td>26.6</td>\n",
       "      <td>0.351</td>\n",
       "      <td>31</td>\n",
       "      <td>0</td>\n",
       "    </tr>\n",
       "    <tr>\n",
       "      <th>2</th>\n",
       "      <td>8</td>\n",
       "      <td>183</td>\n",
       "      <td>64</td>\n",
       "      <td>0</td>\n",
       "      <td>0</td>\n",
       "      <td>23.3</td>\n",
       "      <td>0.672</td>\n",
       "      <td>32</td>\n",
       "      <td>1</td>\n",
       "    </tr>\n",
       "    <tr>\n",
       "      <th>3</th>\n",
       "      <td>1</td>\n",
       "      <td>89</td>\n",
       "      <td>66</td>\n",
       "      <td>23</td>\n",
       "      <td>94</td>\n",
       "      <td>28.1</td>\n",
       "      <td>0.167</td>\n",
       "      <td>21</td>\n",
       "      <td>0</td>\n",
       "    </tr>\n",
       "    <tr>\n",
       "      <th>4</th>\n",
       "      <td>0</td>\n",
       "      <td>137</td>\n",
       "      <td>40</td>\n",
       "      <td>35</td>\n",
       "      <td>168</td>\n",
       "      <td>43.1</td>\n",
       "      <td>2.288</td>\n",
       "      <td>33</td>\n",
       "      <td>1</td>\n",
       "    </tr>\n",
       "  </tbody>\n",
       "</table>\n",
       "</div>"
      ],
      "text/plain": [
       "   Pregnancies  Glucose  BloodPressure  SkinThickness  Insulin   BMI  \\\n",
       "0            6      148             72             35        0  33.6   \n",
       "1            1       85             66             29        0  26.6   \n",
       "2            8      183             64              0        0  23.3   \n",
       "3            1       89             66             23       94  28.1   \n",
       "4            0      137             40             35      168  43.1   \n",
       "\n",
       "   DiabetesPedigreeFunction  Age  Outcome  \n",
       "0                     0.627   50        1  \n",
       "1                     0.351   31        0  \n",
       "2                     0.672   32        1  \n",
       "3                     0.167   21        0  \n",
       "4                     2.288   33        1  "
      ]
     },
     "execution_count": 4,
     "metadata": {},
     "output_type": "execute_result"
    }
   ],
   "source": [
    "df.head()"
   ]
  },
  {
   "cell_type": "code",
   "execution_count": 5,
   "id": "14978d6e",
   "metadata": {},
   "outputs": [
    {
     "data": {
      "text/plain": [
       "Pregnancies                 0.221898\n",
       "Glucose                     0.466581\n",
       "BloodPressure               0.065068\n",
       "SkinThickness               0.074752\n",
       "Insulin                     0.130548\n",
       "BMI                         0.292695\n",
       "DiabetesPedigreeFunction    0.173844\n",
       "Age                         0.238356\n",
       "Outcome                     1.000000\n",
       "Name: Outcome, dtype: float64"
      ]
     },
     "execution_count": 5,
     "metadata": {},
     "output_type": "execute_result"
    }
   ],
   "source": [
    "df.corr()[\"Outcome\"]"
   ]
  },
  {
   "cell_type": "code",
   "execution_count": 6,
   "id": "b7f588ff",
   "metadata": {},
   "outputs": [],
   "source": [
    "from sklearn.model_selection import StratifiedShuffleSplit"
   ]
  },
  {
   "cell_type": "code",
   "execution_count": null,
   "id": "965b5501",
   "metadata": {},
   "outputs": [],
   "source": [
    "# on the basis of the target we are spliting our data\n",
    "split=StratifiedShuffleSplit(n_splits=1,test_size=0.3,random_state=42)\n",
    "for train_index,test_index in split.split(df,df[\"Outcome\"]):\n",
    "    strat_train_set=df.loc[train_index]\n",
    "    strat_test_set=df.loc[test_index]"
   ]
  },
  {
   "cell_type": "code",
   "execution_count": 8,
   "id": "3cb44362",
   "metadata": {},
   "outputs": [],
   "source": [
    "x_train=strat_train_set.drop(\"Outcome\",axis=1)\n",
    "y_train=strat_train_set[\"Outcome\"]\n",
    "x_test=strat_test_set.drop(\"Outcome\",axis=1)\n",
    "y_test=strat_test_set[\"Outcome\"]"
   ]
  },
  {
   "cell_type": "code",
   "execution_count": 9,
   "id": "141f0418",
   "metadata": {},
   "outputs": [
    {
     "data": {
      "text/plain": [
       "Pregnancies                 0\n",
       "Glucose                     0\n",
       "BloodPressure               0\n",
       "SkinThickness               0\n",
       "Insulin                     0\n",
       "BMI                         0\n",
       "DiabetesPedigreeFunction    0\n",
       "Age                         0\n",
       "dtype: int64"
      ]
     },
     "execution_count": 9,
     "metadata": {},
     "output_type": "execute_result"
    }
   ],
   "source": [
    "x_test.isna().sum()"
   ]
  },
  {
   "cell_type": "code",
   "execution_count": 10,
   "id": "c324cf52",
   "metadata": {},
   "outputs": [
    {
     "data": {
      "text/plain": [
       "Pregnancies                 0\n",
       "Glucose                     0\n",
       "BloodPressure               0\n",
       "SkinThickness               0\n",
       "Insulin                     0\n",
       "BMI                         0\n",
       "DiabetesPedigreeFunction    0\n",
       "Age                         0\n",
       "dtype: int64"
      ]
     },
     "execution_count": 10,
     "metadata": {},
     "output_type": "execute_result"
    }
   ],
   "source": [
    "x_train.isna().sum()"
   ]
  },
  {
   "cell_type": "code",
   "execution_count": 11,
   "id": "d876bfd7",
   "metadata": {},
   "outputs": [],
   "source": [
    "from sklearn.preprocessing import StandardScaler\n",
    "scaler=StandardScaler()\n",
    "s_x_train=scaler.fit_transform(x_train)\n",
    "s_x_test=scaler.transform(x_test)"
   ]
  },
  {
   "cell_type": "code",
   "execution_count": 12,
   "id": "0104d5bd",
   "metadata": {},
   "outputs": [],
   "source": [
    "import tensorflow\n",
    "from tensorflow import keras \n",
    "from keras import Sequential\n",
    "from keras.layers import Dense ,Dropout"
   ]
  },
  {
   "cell_type": "code",
   "execution_count": 13,
   "id": "5ed2f01d",
   "metadata": {},
   "outputs": [],
   "source": [
    "model=Sequential()\n",
    "model.add(Dense(32,kernel_initializer='he_uniform',activation='relu',input_dim=8))\n",
    "model.add(Dense(units = 12, kernel_initializer = 'he_uniform',activation='relu'))\n",
    "model.add(Dense(units = 1, kernel_initializer = 'glorot_uniform', activation = 'sigmoid'))\n",
    "\n",
    "model.compile(optimizer='Adam',loss='binary_crossentropy',metrics=['accuracy'])"
   ]
  },
  {
   "cell_type": "code",
   "execution_count": 14,
   "id": "29ae285f",
   "metadata": {},
   "outputs": [
    {
     "name": "stdout",
     "output_type": "stream",
     "text": [
      "Epoch 1/50\n",
      "45/45 [==============================] - 1s 10ms/step - loss: 0.8008 - accuracy: 0.4823 - val_loss: 0.7200 - val_accuracy: 0.5455\n",
      "Epoch 2/50\n",
      "45/45 [==============================] - 0s 6ms/step - loss: 0.6593 - accuracy: 0.6276 - val_loss: 0.6290 - val_accuracy: 0.6537\n",
      "Epoch 3/50\n",
      "45/45 [==============================] - 0s 7ms/step - loss: 0.5902 - accuracy: 0.6853 - val_loss: 0.5800 - val_accuracy: 0.6970\n",
      "Epoch 4/50\n",
      "45/45 [==============================] - 0s 6ms/step - loss: 0.5481 - accuracy: 0.7002 - val_loss: 0.5483 - val_accuracy: 0.7273\n",
      "Epoch 5/50\n",
      "45/45 [==============================] - 0s 6ms/step - loss: 0.5203 - accuracy: 0.7300 - val_loss: 0.5310 - val_accuracy: 0.7229\n",
      "Epoch 6/50\n",
      "45/45 [==============================] - 0s 6ms/step - loss: 0.5021 - accuracy: 0.7561 - val_loss: 0.5171 - val_accuracy: 0.7229\n",
      "Epoch 7/50\n",
      "45/45 [==============================] - 0s 6ms/step - loss: 0.4848 - accuracy: 0.7523 - val_loss: 0.5049 - val_accuracy: 0.7273\n",
      "Epoch 8/50\n",
      "45/45 [==============================] - 0s 6ms/step - loss: 0.4747 - accuracy: 0.7635 - val_loss: 0.4980 - val_accuracy: 0.7403\n",
      "Epoch 9/50\n",
      "45/45 [==============================] - 0s 6ms/step - loss: 0.4672 - accuracy: 0.7747 - val_loss: 0.4933 - val_accuracy: 0.7316\n",
      "Epoch 10/50\n",
      "45/45 [==============================] - 0s 6ms/step - loss: 0.4592 - accuracy: 0.7728 - val_loss: 0.4923 - val_accuracy: 0.7273\n",
      "Epoch 11/50\n",
      "45/45 [==============================] - 0s 6ms/step - loss: 0.4519 - accuracy: 0.7858 - val_loss: 0.4859 - val_accuracy: 0.7489\n",
      "Epoch 12/50\n",
      "45/45 [==============================] - 0s 6ms/step - loss: 0.4472 - accuracy: 0.7896 - val_loss: 0.4867 - val_accuracy: 0.7403\n",
      "Epoch 13/50\n",
      "45/45 [==============================] - 0s 6ms/step - loss: 0.4430 - accuracy: 0.7803 - val_loss: 0.4849 - val_accuracy: 0.7446\n",
      "Epoch 14/50\n",
      "45/45 [==============================] - 0s 6ms/step - loss: 0.4375 - accuracy: 0.8007 - val_loss: 0.4846 - val_accuracy: 0.7403\n",
      "Epoch 15/50\n",
      "45/45 [==============================] - 0s 6ms/step - loss: 0.4347 - accuracy: 0.7933 - val_loss: 0.4837 - val_accuracy: 0.7489\n",
      "Epoch 16/50\n",
      "45/45 [==============================] - 0s 6ms/step - loss: 0.4289 - accuracy: 0.7970 - val_loss: 0.4840 - val_accuracy: 0.7359\n",
      "Epoch 17/50\n",
      "45/45 [==============================] - 0s 6ms/step - loss: 0.4262 - accuracy: 0.7989 - val_loss: 0.4840 - val_accuracy: 0.7359\n",
      "Epoch 18/50\n",
      "45/45 [==============================] - 0s 6ms/step - loss: 0.4226 - accuracy: 0.7989 - val_loss: 0.4815 - val_accuracy: 0.7446\n",
      "Epoch 19/50\n",
      "45/45 [==============================] - 0s 6ms/step - loss: 0.4211 - accuracy: 0.7989 - val_loss: 0.4809 - val_accuracy: 0.7489\n",
      "Epoch 20/50\n",
      "45/45 [==============================] - 0s 5ms/step - loss: 0.4164 - accuracy: 0.7989 - val_loss: 0.4812 - val_accuracy: 0.7403\n",
      "Epoch 21/50\n",
      "45/45 [==============================] - 0s 6ms/step - loss: 0.4123 - accuracy: 0.8101 - val_loss: 0.4820 - val_accuracy: 0.7403\n",
      "Epoch 22/50\n",
      "45/45 [==============================] - 0s 6ms/step - loss: 0.4097 - accuracy: 0.8082 - val_loss: 0.4841 - val_accuracy: 0.7446\n",
      "Epoch 23/50\n",
      "45/45 [==============================] - 0s 6ms/step - loss: 0.4069 - accuracy: 0.8119 - val_loss: 0.4802 - val_accuracy: 0.7532\n",
      "Epoch 24/50\n",
      "45/45 [==============================] - 0s 6ms/step - loss: 0.4050 - accuracy: 0.8026 - val_loss: 0.4817 - val_accuracy: 0.7532\n",
      "Epoch 25/50\n",
      "45/45 [==============================] - 0s 6ms/step - loss: 0.4004 - accuracy: 0.8212 - val_loss: 0.4837 - val_accuracy: 0.7403\n",
      "Epoch 26/50\n",
      "45/45 [==============================] - 0s 6ms/step - loss: 0.3987 - accuracy: 0.8194 - val_loss: 0.4835 - val_accuracy: 0.7446\n",
      "Epoch 27/50\n",
      "45/45 [==============================] - 0s 6ms/step - loss: 0.3967 - accuracy: 0.8212 - val_loss: 0.4826 - val_accuracy: 0.7489\n",
      "Epoch 28/50\n",
      "45/45 [==============================] - 0s 6ms/step - loss: 0.3928 - accuracy: 0.8194 - val_loss: 0.4842 - val_accuracy: 0.7489\n",
      "Epoch 29/50\n",
      "45/45 [==============================] - 0s 6ms/step - loss: 0.3907 - accuracy: 0.8268 - val_loss: 0.4843 - val_accuracy: 0.7576\n",
      "Epoch 30/50\n",
      "45/45 [==============================] - 0s 6ms/step - loss: 0.3876 - accuracy: 0.8231 - val_loss: 0.4871 - val_accuracy: 0.7229\n",
      "Epoch 31/50\n",
      "45/45 [==============================] - 0s 6ms/step - loss: 0.3850 - accuracy: 0.8305 - val_loss: 0.4860 - val_accuracy: 0.7532\n",
      "Epoch 32/50\n",
      "45/45 [==============================] - 0s 6ms/step - loss: 0.3825 - accuracy: 0.8343 - val_loss: 0.4886 - val_accuracy: 0.7532\n",
      "Epoch 33/50\n",
      "45/45 [==============================] - 0s 6ms/step - loss: 0.3811 - accuracy: 0.8268 - val_loss: 0.4901 - val_accuracy: 0.7186\n",
      "Epoch 34/50\n",
      "45/45 [==============================] - 0s 6ms/step - loss: 0.3779 - accuracy: 0.8305 - val_loss: 0.4898 - val_accuracy: 0.7446\n",
      "Epoch 35/50\n",
      "45/45 [==============================] - 0s 6ms/step - loss: 0.3752 - accuracy: 0.8324 - val_loss: 0.4926 - val_accuracy: 0.7316\n",
      "Epoch 36/50\n",
      "45/45 [==============================] - 0s 6ms/step - loss: 0.3717 - accuracy: 0.8343 - val_loss: 0.4943 - val_accuracy: 0.7273\n",
      "Epoch 37/50\n",
      "45/45 [==============================] - 0s 6ms/step - loss: 0.3715 - accuracy: 0.8380 - val_loss: 0.4932 - val_accuracy: 0.7403\n",
      "Epoch 38/50\n",
      "45/45 [==============================] - 0s 6ms/step - loss: 0.3675 - accuracy: 0.8324 - val_loss: 0.4988 - val_accuracy: 0.7229\n",
      "Epoch 39/50\n",
      "45/45 [==============================] - 0s 6ms/step - loss: 0.3662 - accuracy: 0.8343 - val_loss: 0.4973 - val_accuracy: 0.7273\n",
      "Epoch 40/50\n",
      "45/45 [==============================] - 0s 6ms/step - loss: 0.3619 - accuracy: 0.8473 - val_loss: 0.4981 - val_accuracy: 0.7273\n",
      "Epoch 41/50\n",
      "45/45 [==============================] - 0s 6ms/step - loss: 0.3616 - accuracy: 0.8417 - val_loss: 0.5019 - val_accuracy: 0.7273\n",
      "Epoch 42/50\n",
      "45/45 [==============================] - 0s 6ms/step - loss: 0.3578 - accuracy: 0.8454 - val_loss: 0.5032 - val_accuracy: 0.7273\n",
      "Epoch 43/50\n",
      "45/45 [==============================] - 0s 6ms/step - loss: 0.3568 - accuracy: 0.8492 - val_loss: 0.5030 - val_accuracy: 0.7273\n",
      "Epoch 44/50\n",
      "45/45 [==============================] - 0s 7ms/step - loss: 0.3558 - accuracy: 0.8436 - val_loss: 0.5059 - val_accuracy: 0.7273\n",
      "Epoch 45/50\n",
      "45/45 [==============================] - 0s 7ms/step - loss: 0.3517 - accuracy: 0.8492 - val_loss: 0.5080 - val_accuracy: 0.7273\n",
      "Epoch 46/50\n",
      "45/45 [==============================] - 0s 8ms/step - loss: 0.3523 - accuracy: 0.8436 - val_loss: 0.5105 - val_accuracy: 0.7143\n",
      "Epoch 47/50\n",
      "45/45 [==============================] - 0s 7ms/step - loss: 0.3459 - accuracy: 0.8547 - val_loss: 0.5108 - val_accuracy: 0.7229\n",
      "Epoch 48/50\n",
      "45/45 [==============================] - 0s 7ms/step - loss: 0.3461 - accuracy: 0.8529 - val_loss: 0.5096 - val_accuracy: 0.7229\n",
      "Epoch 49/50\n",
      "45/45 [==============================] - 0s 6ms/step - loss: 0.3434 - accuracy: 0.8547 - val_loss: 0.5119 - val_accuracy: 0.7316\n",
      "Epoch 50/50\n",
      "45/45 [==============================] - 0s 7ms/step - loss: 0.3413 - accuracy: 0.8585 - val_loss: 0.5141 - val_accuracy: 0.7229\n"
     ]
    },
    {
     "data": {
      "text/plain": [
       "<keras.callbacks.History at 0x1c93418d7f0>"
      ]
     },
     "execution_count": 14,
     "metadata": {},
     "output_type": "execute_result"
    }
   ],
   "source": [
    "model.fit(s_x_train,y_train,batch_size=12,epochs=50,validation_data=(s_x_test,y_test))"
   ]
  },
  {
   "cell_type": "markdown",
   "id": "d1fd871c",
   "metadata": {},
   "source": [
    "**Hyperparameter Tuning a Neural Network**"
   ]
  },
  {
   "cell_type": "markdown",
   "id": "dcc8c8c9",
   "metadata": {},
   "source": [
    "1. how to select appropriate optimizer\n",
    "2. no. of nodes in a layer\n",
    "3. how to select no. of layers\n",
    "4. All in all one model "
   ]
  },
  {
   "cell_type": "markdown",
   "id": "d28b65ef",
   "metadata": {},
   "source": [
    "**how to select appropriate optimizer**"
   ]
  },
  {
   "cell_type": "code",
   "execution_count": 15,
   "id": "5057a8bd",
   "metadata": {},
   "outputs": [],
   "source": [
    "import kerastuner as kt"
   ]
  },
  {
   "cell_type": "code",
   "execution_count": 16,
   "id": "89304cbf",
   "metadata": {},
   "outputs": [],
   "source": [
    "def build_model(hp):\n",
    "  model=Sequential()\n",
    "  model.add(Dense(units=32,kernel_initializer = 'he_uniform',activation='relu',input_dim=8))\n",
    "  model.add(Dense(units = 12, kernel_initializer = 'he_uniform',activation='relu'))\n",
    "  model.add(Dense(1,kernel_initializer = 'glorot_uniform',activation='sigmoid'))\n",
    "  optimizer=hp.Choice(\"optimizer\",values=[\"adam\",\"sgd\",\"rmsprop\",\"adadelta\"])\n",
    "  model.compile(optimizer=optimizer,loss='binary_crossentropy',metrics=['accuracy'])\n",
    "  return model"
   ]
  },
  {
   "cell_type": "code",
   "execution_count": 17,
   "id": "93c82348",
   "metadata": {},
   "outputs": [
    {
     "data": {
      "text/plain": [
       "keras_tuner.tuners.gridsearch.GridSearch"
      ]
     },
     "execution_count": 17,
     "metadata": {},
     "output_type": "execute_result"
    }
   ],
   "source": [
    "kt.GridSearch"
   ]
  },
  {
   "cell_type": "code",
   "execution_count": 18,
   "id": "15f3b56c",
   "metadata": {},
   "outputs": [],
   "source": [
    "tuner=kt.RandomSearch(build_model,objective='val_accuracy',max_trials=5,directory='FOLDER1')"
   ]
  },
  {
   "cell_type": "code",
   "execution_count": 19,
   "id": "ea0fe605",
   "metadata": {},
   "outputs": [
    {
     "name": "stdout",
     "output_type": "stream",
     "text": [
      "Trial 4 Complete [00h 00m 02s]\n",
      "val_accuracy: 0.6190476417541504\n",
      "\n",
      "Best val_accuracy So Far: 0.761904776096344\n",
      "Total elapsed time: 00h 00m 10s\n",
      "INFO:tensorflow:Oracle triggered exit\n"
     ]
    }
   ],
   "source": [
    "tuner.search(s_x_train,y_train,validation_data=(s_x_test,y_test),epochs=5)"
   ]
  },
  {
   "cell_type": "code",
   "execution_count": 20,
   "id": "c7648a1d",
   "metadata": {},
   "outputs": [
    {
     "data": {
      "text/plain": [
       "{'optimizer': 'adam'}"
      ]
     },
     "execution_count": 20,
     "metadata": {},
     "output_type": "execute_result"
    }
   ],
   "source": [
    "tuner.get_best_hyperparameters()[0].values  # to get the best object"
   ]
  },
  {
   "cell_type": "code",
   "execution_count": 21,
   "id": "842afbb8",
   "metadata": {},
   "outputs": [],
   "source": [
    "model=tuner.get_best_models(num_models=1)[0]"
   ]
  },
  {
   "cell_type": "code",
   "execution_count": 22,
   "id": "31360636",
   "metadata": {},
   "outputs": [
    {
     "name": "stdout",
     "output_type": "stream",
     "text": [
      "Model: \"sequential\"\n",
      "_________________________________________________________________\n",
      " Layer (type)                Output Shape              Param #   \n",
      "=================================================================\n",
      " dense (Dense)               (None, 32)                288       \n",
      "                                                                 \n",
      " dense_1 (Dense)             (None, 12)                396       \n",
      "                                                                 \n",
      " dense_2 (Dense)             (None, 1)                 13        \n",
      "                                                                 \n",
      "=================================================================\n",
      "Total params: 697\n",
      "Trainable params: 697\n",
      "Non-trainable params: 0\n",
      "_________________________________________________________________\n"
     ]
    }
   ],
   "source": [
    "model.summary()"
   ]
  },
  {
   "cell_type": "code",
   "execution_count": 23,
   "id": "eb3f8190",
   "metadata": {},
   "outputs": [
    {
     "name": "stdout",
     "output_type": "stream",
     "text": [
      "Epoch 7/50\n",
      "45/45 [==============================] - 1s 8ms/step - loss: 0.4964 - accuracy: 0.7300 - val_loss: 0.4798 - val_accuracy: 0.7706\n",
      "Epoch 8/50\n",
      "45/45 [==============================] - 0s 6ms/step - loss: 0.4797 - accuracy: 0.7616 - val_loss: 0.4764 - val_accuracy: 0.7576\n",
      "Epoch 9/50\n",
      "45/45 [==============================] - 0s 6ms/step - loss: 0.4660 - accuracy: 0.7765 - val_loss: 0.4714 - val_accuracy: 0.7619\n",
      "Epoch 10/50\n",
      "45/45 [==============================] - 0s 5ms/step - loss: 0.4562 - accuracy: 0.7784 - val_loss: 0.4708 - val_accuracy: 0.7619\n",
      "Epoch 11/50\n",
      "45/45 [==============================] - 0s 5ms/step - loss: 0.4532 - accuracy: 0.7896 - val_loss: 0.4664 - val_accuracy: 0.7619\n",
      "Epoch 12/50\n",
      "45/45 [==============================] - 0s 5ms/step - loss: 0.4451 - accuracy: 0.7933 - val_loss: 0.4717 - val_accuracy: 0.7576\n",
      "Epoch 13/50\n",
      "45/45 [==============================] - 0s 5ms/step - loss: 0.4396 - accuracy: 0.7896 - val_loss: 0.4697 - val_accuracy: 0.7576\n",
      "Epoch 14/50\n",
      "45/45 [==============================] - 0s 5ms/step - loss: 0.4350 - accuracy: 0.8045 - val_loss: 0.4700 - val_accuracy: 0.7446\n",
      "Epoch 15/50\n",
      "45/45 [==============================] - 0s 5ms/step - loss: 0.4303 - accuracy: 0.8007 - val_loss: 0.4728 - val_accuracy: 0.7532\n",
      "Epoch 16/50\n",
      "45/45 [==============================] - 0s 5ms/step - loss: 0.4281 - accuracy: 0.7970 - val_loss: 0.4718 - val_accuracy: 0.7489\n",
      "Epoch 17/50\n",
      "45/45 [==============================] - 0s 5ms/step - loss: 0.4245 - accuracy: 0.8026 - val_loss: 0.4718 - val_accuracy: 0.7532\n",
      "Epoch 18/50\n",
      "45/45 [==============================] - 0s 5ms/step - loss: 0.4207 - accuracy: 0.8026 - val_loss: 0.4719 - val_accuracy: 0.7359\n",
      "Epoch 19/50\n",
      "45/45 [==============================] - 0s 5ms/step - loss: 0.4177 - accuracy: 0.8045 - val_loss: 0.4769 - val_accuracy: 0.7273\n",
      "Epoch 20/50\n",
      "45/45 [==============================] - 0s 5ms/step - loss: 0.4139 - accuracy: 0.8082 - val_loss: 0.4766 - val_accuracy: 0.7359\n",
      "Epoch 21/50\n",
      "45/45 [==============================] - 0s 5ms/step - loss: 0.4152 - accuracy: 0.8101 - val_loss: 0.4765 - val_accuracy: 0.7403\n",
      "Epoch 22/50\n",
      "45/45 [==============================] - 0s 5ms/step - loss: 0.4101 - accuracy: 0.8138 - val_loss: 0.4778 - val_accuracy: 0.7359\n",
      "Epoch 23/50\n",
      "45/45 [==============================] - 0s 6ms/step - loss: 0.4067 - accuracy: 0.8138 - val_loss: 0.4780 - val_accuracy: 0.7359\n",
      "Epoch 24/50\n",
      "45/45 [==============================] - 0s 5ms/step - loss: 0.4020 - accuracy: 0.8082 - val_loss: 0.4846 - val_accuracy: 0.7273\n",
      "Epoch 25/50\n",
      "45/45 [==============================] - 0s 6ms/step - loss: 0.4004 - accuracy: 0.8156 - val_loss: 0.4819 - val_accuracy: 0.7359\n",
      "Epoch 26/50\n",
      "45/45 [==============================] - 0s 5ms/step - loss: 0.3986 - accuracy: 0.8082 - val_loss: 0.4816 - val_accuracy: 0.7359\n",
      "Epoch 27/50\n",
      "45/45 [==============================] - 0s 5ms/step - loss: 0.3935 - accuracy: 0.8231 - val_loss: 0.4830 - val_accuracy: 0.7359\n",
      "Epoch 28/50\n",
      "45/45 [==============================] - 0s 5ms/step - loss: 0.3938 - accuracy: 0.8156 - val_loss: 0.4852 - val_accuracy: 0.7273\n",
      "Epoch 29/50\n",
      "45/45 [==============================] - 0s 5ms/step - loss: 0.3923 - accuracy: 0.8156 - val_loss: 0.4840 - val_accuracy: 0.7273\n",
      "Epoch 30/50\n",
      "45/45 [==============================] - 0s 5ms/step - loss: 0.3880 - accuracy: 0.8212 - val_loss: 0.4841 - val_accuracy: 0.7316\n",
      "Epoch 31/50\n",
      "45/45 [==============================] - 0s 7ms/step - loss: 0.3866 - accuracy: 0.8194 - val_loss: 0.4885 - val_accuracy: 0.7316\n",
      "Epoch 32/50\n",
      "45/45 [==============================] - 0s 5ms/step - loss: 0.3848 - accuracy: 0.8287 - val_loss: 0.4865 - val_accuracy: 0.7359\n",
      "Epoch 33/50\n",
      "45/45 [==============================] - 0s 5ms/step - loss: 0.3826 - accuracy: 0.8268 - val_loss: 0.4894 - val_accuracy: 0.7359\n",
      "Epoch 34/50\n",
      "45/45 [==============================] - 0s 5ms/step - loss: 0.3815 - accuracy: 0.8287 - val_loss: 0.4922 - val_accuracy: 0.7359\n",
      "Epoch 35/50\n",
      "45/45 [==============================] - 0s 5ms/step - loss: 0.3787 - accuracy: 0.8305 - val_loss: 0.4925 - val_accuracy: 0.7273\n",
      "Epoch 36/50\n",
      "45/45 [==============================] - 0s 5ms/step - loss: 0.3778 - accuracy: 0.8250 - val_loss: 0.4925 - val_accuracy: 0.7316\n",
      "Epoch 37/50\n",
      "45/45 [==============================] - 0s 5ms/step - loss: 0.3742 - accuracy: 0.8380 - val_loss: 0.4928 - val_accuracy: 0.7316\n",
      "Epoch 38/50\n",
      "45/45 [==============================] - 0s 6ms/step - loss: 0.3735 - accuracy: 0.8380 - val_loss: 0.4932 - val_accuracy: 0.7359\n",
      "Epoch 39/50\n",
      "45/45 [==============================] - 0s 5ms/step - loss: 0.3706 - accuracy: 0.8324 - val_loss: 0.4988 - val_accuracy: 0.7316\n",
      "Epoch 40/50\n",
      "45/45 [==============================] - 0s 5ms/step - loss: 0.3685 - accuracy: 0.8324 - val_loss: 0.4983 - val_accuracy: 0.7403\n",
      "Epoch 41/50\n",
      "45/45 [==============================] - 0s 5ms/step - loss: 0.3720 - accuracy: 0.8361 - val_loss: 0.4964 - val_accuracy: 0.7403\n",
      "Epoch 42/50\n",
      "45/45 [==============================] - 0s 6ms/step - loss: 0.3648 - accuracy: 0.8492 - val_loss: 0.4995 - val_accuracy: 0.7359\n",
      "Epoch 43/50\n",
      "45/45 [==============================] - 0s 5ms/step - loss: 0.3645 - accuracy: 0.8380 - val_loss: 0.4998 - val_accuracy: 0.7446\n",
      "Epoch 44/50\n",
      "45/45 [==============================] - 0s 5ms/step - loss: 0.3603 - accuracy: 0.8436 - val_loss: 0.5021 - val_accuracy: 0.7403\n",
      "Epoch 45/50\n",
      "45/45 [==============================] - 0s 5ms/step - loss: 0.3591 - accuracy: 0.8380 - val_loss: 0.5026 - val_accuracy: 0.7403\n",
      "Epoch 46/50\n",
      "45/45 [==============================] - 0s 5ms/step - loss: 0.3581 - accuracy: 0.8473 - val_loss: 0.5062 - val_accuracy: 0.7446\n",
      "Epoch 47/50\n",
      "45/45 [==============================] - 0s 5ms/step - loss: 0.3560 - accuracy: 0.8361 - val_loss: 0.5117 - val_accuracy: 0.7403\n",
      "Epoch 48/50\n",
      "45/45 [==============================] - 0s 5ms/step - loss: 0.3585 - accuracy: 0.8492 - val_loss: 0.5072 - val_accuracy: 0.7446\n",
      "Epoch 49/50\n",
      "45/45 [==============================] - 0s 5ms/step - loss: 0.3520 - accuracy: 0.8547 - val_loss: 0.5072 - val_accuracy: 0.7403\n",
      "Epoch 50/50\n",
      "45/45 [==============================] - 0s 5ms/step - loss: 0.3511 - accuracy: 0.8454 - val_loss: 0.5101 - val_accuracy: 0.7446\n"
     ]
    },
    {
     "data": {
      "text/plain": [
       "<keras.callbacks.History at 0x1c93464bf40>"
      ]
     },
     "execution_count": 23,
     "metadata": {},
     "output_type": "execute_result"
    }
   ],
   "source": [
    "model.fit(s_x_train,y_train,batch_size=12,epochs=50,validation_data=(s_x_test,y_test),initial_epoch=6)"
   ]
  },
  {
   "cell_type": "markdown",
   "id": "d6d3140f",
   "metadata": {},
   "source": [
    "**no. of nodes in a layer**"
   ]
  },
  {
   "cell_type": "code",
   "execution_count": 25,
   "id": "6fd77006",
   "metadata": {},
   "outputs": [],
   "source": [
    "def build_model(hp):\n",
    "  model=Sequential()\n",
    "  units=hp.Int('units',min_value=8,max_value=128,step=8)        # hp.Int(initia_value,last_value,step)\n",
    "  model.add(Dense(units=units,activation='relu',input_dim=8))\n",
    "  model.add(Dense(1,activation='sigmoid'))\n",
    "  model.compile(optimizer='adam',loss='binary_crossentropy',metrics=['accuracy'])\n",
    "  \n",
    "\n",
    "  return model"
   ]
  },
  {
   "cell_type": "code",
   "execution_count": 26,
   "id": "092d7926",
   "metadata": {},
   "outputs": [],
   "source": [
    "tuner=kt.RandomSearch(build_model,objective='val_accuracy',max_trials=5,directory='FOLDER2')"
   ]
  },
  {
   "cell_type": "code",
   "execution_count": 27,
   "id": "be758294",
   "metadata": {},
   "outputs": [
    {
     "name": "stdout",
     "output_type": "stream",
     "text": [
      "Trial 5 Complete [00h 00m 02s]\n",
      "val_accuracy: 0.7402597665786743\n",
      "\n",
      "Best val_accuracy So Far: 0.7402597665786743\n",
      "Total elapsed time: 00h 00m 12s\n",
      "INFO:tensorflow:Oracle triggered exit\n"
     ]
    }
   ],
   "source": [
    "tuner.search(s_x_train,y_train,validation_data=(s_x_test,y_test),epochs=5)"
   ]
  },
  {
   "cell_type": "code",
   "execution_count": 28,
   "id": "b55dd4da",
   "metadata": {},
   "outputs": [
    {
     "data": {
      "text/plain": [
       "{'units': 112}"
      ]
     },
     "execution_count": 28,
     "metadata": {},
     "output_type": "execute_result"
    }
   ],
   "source": [
    "tuner.get_best_hyperparameters()[0].values  # to get the best object"
   ]
  },
  {
   "cell_type": "code",
   "execution_count": 29,
   "id": "2a616fe1",
   "metadata": {},
   "outputs": [],
   "source": [
    "model=tuner.get_best_models(num_models=1)[0]"
   ]
  },
  {
   "cell_type": "code",
   "execution_count": 30,
   "id": "e52d182a",
   "metadata": {},
   "outputs": [
    {
     "name": "stdout",
     "output_type": "stream",
     "text": [
      "Model: \"sequential\"\n",
      "_________________________________________________________________\n",
      " Layer (type)                Output Shape              Param #   \n",
      "=================================================================\n",
      " dense (Dense)               (None, 112)               1008      \n",
      "                                                                 \n",
      " dense_1 (Dense)             (None, 1)                 113       \n",
      "                                                                 \n",
      "=================================================================\n",
      "Total params: 1,121\n",
      "Trainable params: 1,121\n",
      "Non-trainable params: 0\n",
      "_________________________________________________________________\n"
     ]
    }
   ],
   "source": [
    "model.summary()"
   ]
  },
  {
   "cell_type": "code",
   "execution_count": 31,
   "id": "61afc178",
   "metadata": {},
   "outputs": [
    {
     "name": "stdout",
     "output_type": "stream",
     "text": [
      "Epoch 6/50\n",
      "45/45 [==============================] - 1s 8ms/step - loss: 0.4898 - accuracy: 0.7821 - val_loss: 0.4755 - val_accuracy: 0.7446\n",
      "Epoch 7/50\n",
      "45/45 [==============================] - 0s 6ms/step - loss: 0.4713 - accuracy: 0.7858 - val_loss: 0.4674 - val_accuracy: 0.7489\n",
      "Epoch 8/50\n",
      "45/45 [==============================] - 0s 6ms/step - loss: 0.4605 - accuracy: 0.7970 - val_loss: 0.4640 - val_accuracy: 0.7532\n",
      "Epoch 9/50\n",
      "45/45 [==============================] - 0s 5ms/step - loss: 0.4551 - accuracy: 0.7877 - val_loss: 0.4644 - val_accuracy: 0.7446\n",
      "Epoch 10/50\n",
      "45/45 [==============================] - 0s 5ms/step - loss: 0.4509 - accuracy: 0.7933 - val_loss: 0.4635 - val_accuracy: 0.7359\n",
      "Epoch 11/50\n",
      "45/45 [==============================] - 0s 6ms/step - loss: 0.4458 - accuracy: 0.7970 - val_loss: 0.4650 - val_accuracy: 0.7403\n",
      "Epoch 12/50\n",
      "45/45 [==============================] - 0s 5ms/step - loss: 0.4443 - accuracy: 0.7952 - val_loss: 0.4650 - val_accuracy: 0.7359\n",
      "Epoch 13/50\n",
      "45/45 [==============================] - 0s 5ms/step - loss: 0.4413 - accuracy: 0.8007 - val_loss: 0.4646 - val_accuracy: 0.7446\n",
      "Epoch 14/50\n",
      "45/45 [==============================] - 0s 5ms/step - loss: 0.4403 - accuracy: 0.8026 - val_loss: 0.4663 - val_accuracy: 0.7403\n",
      "Epoch 15/50\n",
      "45/45 [==============================] - 0s 5ms/step - loss: 0.4376 - accuracy: 0.7952 - val_loss: 0.4640 - val_accuracy: 0.7403\n",
      "Epoch 16/50\n",
      "45/45 [==============================] - 0s 5ms/step - loss: 0.4336 - accuracy: 0.8026 - val_loss: 0.4654 - val_accuracy: 0.7403\n",
      "Epoch 17/50\n",
      "45/45 [==============================] - 0s 5ms/step - loss: 0.4333 - accuracy: 0.7989 - val_loss: 0.4662 - val_accuracy: 0.7489\n",
      "Epoch 18/50\n",
      "45/45 [==============================] - 0s 5ms/step - loss: 0.4296 - accuracy: 0.8026 - val_loss: 0.4670 - val_accuracy: 0.7446\n",
      "Epoch 19/50\n",
      "45/45 [==============================] - 0s 5ms/step - loss: 0.4282 - accuracy: 0.8063 - val_loss: 0.4660 - val_accuracy: 0.7489\n",
      "Epoch 20/50\n",
      "45/45 [==============================] - 0s 5ms/step - loss: 0.4262 - accuracy: 0.8082 - val_loss: 0.4678 - val_accuracy: 0.7446\n",
      "Epoch 21/50\n",
      "45/45 [==============================] - 0s 5ms/step - loss: 0.4248 - accuracy: 0.8063 - val_loss: 0.4684 - val_accuracy: 0.7403\n",
      "Epoch 22/50\n",
      "45/45 [==============================] - 0s 5ms/step - loss: 0.4236 - accuracy: 0.7989 - val_loss: 0.4679 - val_accuracy: 0.7403\n",
      "Epoch 23/50\n",
      "45/45 [==============================] - 0s 4ms/step - loss: 0.4220 - accuracy: 0.8101 - val_loss: 0.4684 - val_accuracy: 0.7446\n",
      "Epoch 24/50\n",
      "45/45 [==============================] - 0s 5ms/step - loss: 0.4196 - accuracy: 0.8082 - val_loss: 0.4711 - val_accuracy: 0.7446\n",
      "Epoch 25/50\n",
      "45/45 [==============================] - 0s 5ms/step - loss: 0.4182 - accuracy: 0.8045 - val_loss: 0.4708 - val_accuracy: 0.7446\n",
      "Epoch 26/50\n",
      "45/45 [==============================] - 0s 5ms/step - loss: 0.4171 - accuracy: 0.8119 - val_loss: 0.4709 - val_accuracy: 0.7446\n",
      "Epoch 27/50\n",
      "45/45 [==============================] - 0s 5ms/step - loss: 0.4152 - accuracy: 0.8101 - val_loss: 0.4709 - val_accuracy: 0.7532\n",
      "Epoch 28/50\n",
      "45/45 [==============================] - 0s 5ms/step - loss: 0.4141 - accuracy: 0.8045 - val_loss: 0.4734 - val_accuracy: 0.7446\n",
      "Epoch 29/50\n",
      "45/45 [==============================] - 0s 5ms/step - loss: 0.4120 - accuracy: 0.8082 - val_loss: 0.4742 - val_accuracy: 0.7403\n",
      "Epoch 30/50\n",
      "45/45 [==============================] - 0s 5ms/step - loss: 0.4096 - accuracy: 0.8101 - val_loss: 0.4743 - val_accuracy: 0.7446\n",
      "Epoch 31/50\n",
      "45/45 [==============================] - 0s 5ms/step - loss: 0.4088 - accuracy: 0.8212 - val_loss: 0.4743 - val_accuracy: 0.7359\n",
      "Epoch 32/50\n",
      "45/45 [==============================] - 0s 5ms/step - loss: 0.4080 - accuracy: 0.8082 - val_loss: 0.4748 - val_accuracy: 0.7489\n",
      "Epoch 33/50\n",
      "45/45 [==============================] - 0s 5ms/step - loss: 0.4055 - accuracy: 0.8175 - val_loss: 0.4760 - val_accuracy: 0.7446\n",
      "Epoch 34/50\n",
      "45/45 [==============================] - 0s 5ms/step - loss: 0.4045 - accuracy: 0.8119 - val_loss: 0.4770 - val_accuracy: 0.7403\n",
      "Epoch 35/50\n",
      "45/45 [==============================] - 0s 5ms/step - loss: 0.4040 - accuracy: 0.8212 - val_loss: 0.4775 - val_accuracy: 0.7359\n",
      "Epoch 36/50\n",
      "45/45 [==============================] - 0s 5ms/step - loss: 0.4018 - accuracy: 0.8101 - val_loss: 0.4782 - val_accuracy: 0.7446\n",
      "Epoch 37/50\n",
      "45/45 [==============================] - 0s 5ms/step - loss: 0.4021 - accuracy: 0.8175 - val_loss: 0.4804 - val_accuracy: 0.7359\n",
      "Epoch 38/50\n",
      "45/45 [==============================] - 0s 4ms/step - loss: 0.3992 - accuracy: 0.8156 - val_loss: 0.4799 - val_accuracy: 0.7532\n",
      "Epoch 39/50\n",
      "45/45 [==============================] - 0s 5ms/step - loss: 0.3978 - accuracy: 0.8212 - val_loss: 0.4837 - val_accuracy: 0.7316\n",
      "Epoch 40/50\n",
      "45/45 [==============================] - 0s 4ms/step - loss: 0.3975 - accuracy: 0.8231 - val_loss: 0.4842 - val_accuracy: 0.7489\n",
      "Epoch 41/50\n",
      "45/45 [==============================] - 0s 6ms/step - loss: 0.3965 - accuracy: 0.8194 - val_loss: 0.4844 - val_accuracy: 0.7403\n",
      "Epoch 42/50\n",
      "45/45 [==============================] - 0s 4ms/step - loss: 0.3955 - accuracy: 0.8231 - val_loss: 0.4857 - val_accuracy: 0.7359\n",
      "Epoch 43/50\n",
      "45/45 [==============================] - 0s 5ms/step - loss: 0.3935 - accuracy: 0.8175 - val_loss: 0.4863 - val_accuracy: 0.7403\n",
      "Epoch 44/50\n",
      "45/45 [==============================] - 0s 5ms/step - loss: 0.3920 - accuracy: 0.8212 - val_loss: 0.4870 - val_accuracy: 0.7316\n",
      "Epoch 45/50\n",
      "45/45 [==============================] - 0s 5ms/step - loss: 0.3898 - accuracy: 0.8175 - val_loss: 0.4887 - val_accuracy: 0.7359\n",
      "Epoch 46/50\n",
      "45/45 [==============================] - 0s 5ms/step - loss: 0.3888 - accuracy: 0.8231 - val_loss: 0.4898 - val_accuracy: 0.7446\n",
      "Epoch 47/50\n",
      "45/45 [==============================] - 0s 5ms/step - loss: 0.3890 - accuracy: 0.8212 - val_loss: 0.4912 - val_accuracy: 0.7316\n",
      "Epoch 48/50\n",
      "45/45 [==============================] - 0s 5ms/step - loss: 0.3878 - accuracy: 0.8231 - val_loss: 0.4918 - val_accuracy: 0.7446\n",
      "Epoch 49/50\n",
      "45/45 [==============================] - 0s 5ms/step - loss: 0.3850 - accuracy: 0.8287 - val_loss: 0.4940 - val_accuracy: 0.7446\n",
      "Epoch 50/50\n",
      "45/45 [==============================] - 0s 5ms/step - loss: 0.3845 - accuracy: 0.8231 - val_loss: 0.4929 - val_accuracy: 0.7403\n"
     ]
    },
    {
     "data": {
      "text/plain": [
       "<keras.callbacks.History at 0x1c951500ac0>"
      ]
     },
     "execution_count": 31,
     "metadata": {},
     "output_type": "execute_result"
    }
   ],
   "source": [
    "model.fit(s_x_train,y_train,batch_size=12,epochs=50,validation_data=(s_x_test,y_test),initial_epoch=5)"
   ]
  },
  {
   "cell_type": "markdown",
   "id": "7990b8c1",
   "metadata": {},
   "source": [
    "**how to select no. of layers**"
   ]
  },
  {
   "cell_type": "code",
   "execution_count": 53,
   "id": "9131955a",
   "metadata": {},
   "outputs": [],
   "source": [
    "def build_model(hp):\n",
    "    \n",
    "    model = Sequential()\n",
    "    \n",
    "    model.add(Dense(units=72,activation='relu',input_dim=8)) # defining my input layer\n",
    "    \n",
    "    for i in range (hp.Int('num_layers',min_value=1,max_value=10)):\n",
    "        model.add(Dense(units=72,activation='relu'))\n",
    "        \n",
    "    model.add(Dense(1, activation='sigmoid'))\n",
    "    model.compile\n",
    "    model.compile(optimizer='rmsprop',loss='binary_crossentropy',metrics=['accuracy'])\n",
    "\n",
    "    return model"
   ]
  },
  {
   "cell_type": "code",
   "execution_count": 54,
   "id": "43a26998",
   "metadata": {},
   "outputs": [],
   "source": [
    "tuner=kt.RandomSearch(build_model,objective='val_accuracy',max_trials=5,directory='FOLDER3')"
   ]
  },
  {
   "cell_type": "code",
   "execution_count": 55,
   "id": "b925e71f",
   "metadata": {},
   "outputs": [
    {
     "name": "stdout",
     "output_type": "stream",
     "text": [
      "Trial 5 Complete [00h 00m 03s]\n",
      "val_accuracy: 0.7792207598686218\n",
      "\n",
      "Best val_accuracy So Far: 0.7792207598686218\n",
      "Total elapsed time: 00h 00m 16s\n",
      "INFO:tensorflow:Oracle triggered exit\n"
     ]
    }
   ],
   "source": [
    "tuner.search(s_x_train,y_train,validation_data=(s_x_test,y_test),epochs=5)"
   ]
  },
  {
   "cell_type": "code",
   "execution_count": 56,
   "id": "77c3eadd",
   "metadata": {},
   "outputs": [
    {
     "data": {
      "text/plain": [
       "{'num_layers': 6}"
      ]
     },
     "execution_count": 56,
     "metadata": {},
     "output_type": "execute_result"
    }
   ],
   "source": [
    "tuner.get_best_hyperparameters()[0].values  # to get the best object"
   ]
  },
  {
   "cell_type": "code",
   "execution_count": 57,
   "id": "61c72526",
   "metadata": {},
   "outputs": [],
   "source": [
    "model=tuner.get_best_models(num_models=1)[0]"
   ]
  },
  {
   "cell_type": "code",
   "execution_count": 58,
   "id": "ed7cb7b3",
   "metadata": {},
   "outputs": [
    {
     "name": "stdout",
     "output_type": "stream",
     "text": [
      "Model: \"sequential\"\n",
      "_________________________________________________________________\n",
      " Layer (type)                Output Shape              Param #   \n",
      "=================================================================\n",
      " dense (Dense)               (None, 72)                648       \n",
      "                                                                 \n",
      " dense_1 (Dense)             (None, 72)                5256      \n",
      "                                                                 \n",
      " dense_2 (Dense)             (None, 72)                5256      \n",
      "                                                                 \n",
      " dense_3 (Dense)             (None, 72)                5256      \n",
      "                                                                 \n",
      " dense_4 (Dense)             (None, 72)                5256      \n",
      "                                                                 \n",
      " dense_5 (Dense)             (None, 72)                5256      \n",
      "                                                                 \n",
      " dense_6 (Dense)             (None, 72)                5256      \n",
      "                                                                 \n",
      " dense_7 (Dense)             (None, 1)                 73        \n",
      "                                                                 \n",
      "=================================================================\n",
      "Total params: 32,257\n",
      "Trainable params: 32,257\n",
      "Non-trainable params: 0\n",
      "_________________________________________________________________\n"
     ]
    }
   ],
   "source": [
    "model.summary()"
   ]
  },
  {
   "cell_type": "code",
   "execution_count": 59,
   "id": "57d5a403",
   "metadata": {},
   "outputs": [
    {
     "name": "stdout",
     "output_type": "stream",
     "text": [
      "Epoch 7/50\n",
      "45/45 [==============================] - 1s 11ms/step - loss: 0.4775 - accuracy: 0.7654 - val_loss: 0.5998 - val_accuracy: 0.7273\n",
      "Epoch 8/50\n",
      "45/45 [==============================] - 0s 8ms/step - loss: 0.4570 - accuracy: 0.7914 - val_loss: 0.5873 - val_accuracy: 0.7359\n",
      "Epoch 9/50\n",
      "45/45 [==============================] - 0s 9ms/step - loss: 0.4550 - accuracy: 0.7933 - val_loss: 0.5032 - val_accuracy: 0.7489\n",
      "Epoch 10/50\n",
      "45/45 [==============================] - 0s 8ms/step - loss: 0.4316 - accuracy: 0.7896 - val_loss: 0.5619 - val_accuracy: 0.7403\n",
      "Epoch 11/50\n",
      "45/45 [==============================] - 0s 9ms/step - loss: 0.4246 - accuracy: 0.8175 - val_loss: 0.5016 - val_accuracy: 0.7576\n",
      "Epoch 12/50\n",
      "45/45 [==============================] - 0s 9ms/step - loss: 0.4079 - accuracy: 0.8119 - val_loss: 0.5082 - val_accuracy: 0.7446\n",
      "Epoch 13/50\n",
      "45/45 [==============================] - 0s 8ms/step - loss: 0.3905 - accuracy: 0.8268 - val_loss: 0.5273 - val_accuracy: 0.7619\n",
      "Epoch 14/50\n",
      "45/45 [==============================] - 0s 8ms/step - loss: 0.3704 - accuracy: 0.8529 - val_loss: 0.5537 - val_accuracy: 0.7403\n",
      "Epoch 15/50\n",
      "45/45 [==============================] - 0s 9ms/step - loss: 0.3620 - accuracy: 0.8380 - val_loss: 0.5874 - val_accuracy: 0.7446\n",
      "Epoch 16/50\n",
      "45/45 [==============================] - 0s 8ms/step - loss: 0.3469 - accuracy: 0.8547 - val_loss: 0.5844 - val_accuracy: 0.7576\n",
      "Epoch 17/50\n",
      "45/45 [==============================] - 0s 8ms/step - loss: 0.3325 - accuracy: 0.8547 - val_loss: 0.6300 - val_accuracy: 0.7229\n",
      "Epoch 18/50\n",
      "45/45 [==============================] - 0s 9ms/step - loss: 0.3053 - accuracy: 0.8622 - val_loss: 0.7041 - val_accuracy: 0.7446\n",
      "Epoch 19/50\n",
      "45/45 [==============================] - 0s 8ms/step - loss: 0.2940 - accuracy: 0.8827 - val_loss: 0.6458 - val_accuracy: 0.7359\n",
      "Epoch 20/50\n",
      "45/45 [==============================] - 0s 8ms/step - loss: 0.2635 - accuracy: 0.8920 - val_loss: 0.7543 - val_accuracy: 0.7489\n",
      "Epoch 21/50\n",
      "45/45 [==============================] - 0s 8ms/step - loss: 0.2553 - accuracy: 0.9013 - val_loss: 0.6513 - val_accuracy: 0.7273\n",
      "Epoch 22/50\n",
      "45/45 [==============================] - 0s 8ms/step - loss: 0.2682 - accuracy: 0.8939 - val_loss: 0.6587 - val_accuracy: 0.7273\n",
      "Epoch 23/50\n",
      "45/45 [==============================] - 0s 8ms/step - loss: 0.2212 - accuracy: 0.9181 - val_loss: 0.8357 - val_accuracy: 0.7273\n",
      "Epoch 24/50\n",
      "45/45 [==============================] - 0s 8ms/step - loss: 0.2273 - accuracy: 0.9069 - val_loss: 0.8818 - val_accuracy: 0.7143\n",
      "Epoch 25/50\n",
      "45/45 [==============================] - 0s 8ms/step - loss: 0.1976 - accuracy: 0.9218 - val_loss: 0.8294 - val_accuracy: 0.7359\n",
      "Epoch 26/50\n",
      "45/45 [==============================] - 0s 8ms/step - loss: 0.1791 - accuracy: 0.9255 - val_loss: 0.7810 - val_accuracy: 0.7100\n",
      "Epoch 27/50\n",
      "45/45 [==============================] - 0s 8ms/step - loss: 0.1689 - accuracy: 0.9385 - val_loss: 1.0583 - val_accuracy: 0.7013\n",
      "Epoch 28/50\n",
      "45/45 [==============================] - 0s 8ms/step - loss: 0.1444 - accuracy: 0.9516 - val_loss: 1.1575 - val_accuracy: 0.6883\n",
      "Epoch 29/50\n",
      "45/45 [==============================] - 0s 8ms/step - loss: 0.1582 - accuracy: 0.9423 - val_loss: 0.9820 - val_accuracy: 0.6797\n",
      "Epoch 30/50\n",
      "45/45 [==============================] - 0s 8ms/step - loss: 0.1155 - accuracy: 0.9497 - val_loss: 1.3057 - val_accuracy: 0.7100\n",
      "Epoch 31/50\n",
      "45/45 [==============================] - 0s 8ms/step - loss: 0.1162 - accuracy: 0.9646 - val_loss: 1.2219 - val_accuracy: 0.7143\n",
      "Epoch 32/50\n",
      "45/45 [==============================] - 0s 8ms/step - loss: 0.1294 - accuracy: 0.9516 - val_loss: 1.2356 - val_accuracy: 0.7186\n",
      "Epoch 33/50\n",
      "45/45 [==============================] - 0s 8ms/step - loss: 0.1099 - accuracy: 0.9646 - val_loss: 1.2869 - val_accuracy: 0.7013\n",
      "Epoch 34/50\n",
      "45/45 [==============================] - 0s 9ms/step - loss: 0.0858 - accuracy: 0.9702 - val_loss: 1.4512 - val_accuracy: 0.7056\n",
      "Epoch 35/50\n",
      "45/45 [==============================] - 0s 8ms/step - loss: 0.1239 - accuracy: 0.9534 - val_loss: 1.3030 - val_accuracy: 0.7056\n",
      "Epoch 36/50\n",
      "45/45 [==============================] - 0s 8ms/step - loss: 0.0529 - accuracy: 0.9832 - val_loss: 1.7674 - val_accuracy: 0.7013\n",
      "Epoch 37/50\n",
      "45/45 [==============================] - 0s 9ms/step - loss: 0.0921 - accuracy: 0.9758 - val_loss: 1.7956 - val_accuracy: 0.6926\n",
      "Epoch 38/50\n",
      "45/45 [==============================] - 0s 8ms/step - loss: 0.0769 - accuracy: 0.9739 - val_loss: 1.8663 - val_accuracy: 0.7143\n",
      "Epoch 39/50\n",
      "45/45 [==============================] - 0s 8ms/step - loss: 0.1213 - accuracy: 0.9702 - val_loss: 1.7301 - val_accuracy: 0.6883\n",
      "Epoch 40/50\n",
      "45/45 [==============================] - 0s 8ms/step - loss: 0.0709 - accuracy: 0.9814 - val_loss: 1.7112 - val_accuracy: 0.7013\n",
      "Epoch 41/50\n",
      "45/45 [==============================] - 0s 8ms/step - loss: 0.0542 - accuracy: 0.9814 - val_loss: 1.8170 - val_accuracy: 0.6883\n",
      "Epoch 42/50\n",
      "45/45 [==============================] - 0s 8ms/step - loss: 0.0756 - accuracy: 0.9739 - val_loss: 1.7770 - val_accuracy: 0.7143\n",
      "Epoch 43/50\n",
      "45/45 [==============================] - 0s 8ms/step - loss: 0.0511 - accuracy: 0.9851 - val_loss: 2.3345 - val_accuracy: 0.6970\n",
      "Epoch 44/50\n",
      "45/45 [==============================] - 0s 8ms/step - loss: 0.0846 - accuracy: 0.9721 - val_loss: 1.7960 - val_accuracy: 0.6926\n",
      "Epoch 45/50\n",
      "45/45 [==============================] - 0s 8ms/step - loss: 0.0711 - accuracy: 0.9870 - val_loss: 1.9900 - val_accuracy: 0.6970\n",
      "Epoch 46/50\n",
      "45/45 [==============================] - 0s 8ms/step - loss: 0.0894 - accuracy: 0.9739 - val_loss: 1.9167 - val_accuracy: 0.6840\n",
      "Epoch 47/50\n",
      "45/45 [==============================] - 0s 8ms/step - loss: 0.0577 - accuracy: 0.9795 - val_loss: 2.0622 - val_accuracy: 0.6970\n",
      "Epoch 48/50\n",
      "45/45 [==============================] - 0s 9ms/step - loss: 0.0456 - accuracy: 0.9832 - val_loss: 2.0081 - val_accuracy: 0.7359\n",
      "Epoch 49/50\n",
      "45/45 [==============================] - 0s 8ms/step - loss: 0.0510 - accuracy: 0.9814 - val_loss: 2.0635 - val_accuracy: 0.7186\n",
      "Epoch 50/50\n",
      "45/45 [==============================] - 0s 9ms/step - loss: 0.0469 - accuracy: 0.9814 - val_loss: 2.1041 - val_accuracy: 0.7056\n"
     ]
    },
    {
     "data": {
      "text/plain": [
       "<keras.callbacks.History at 0x1ca1ec00460>"
      ]
     },
     "execution_count": 59,
     "metadata": {},
     "output_type": "execute_result"
    }
   ],
   "source": [
    "model.fit(s_x_train,y_train,batch_size=12,epochs=50,validation_data=(s_x_test,y_test),initial_epoch=6)"
   ]
  },
  {
   "cell_type": "code",
   "execution_count": 60,
   "id": "a5671d24",
   "metadata": {},
   "outputs": [],
   "source": [
    "# model overfittling"
   ]
  },
  {
   "cell_type": "markdown",
   "id": "0bfd3f21",
   "metadata": {},
   "source": [
    "# All in all one model"
   ]
  },
  {
   "cell_type": "code",
   "execution_count": 46,
   "id": "2473bdf2",
   "metadata": {},
   "outputs": [],
   "source": [
    "def build_model(hp):\n",
    "    \n",
    "    model = Sequential()\n",
    "    counter=0 \n",
    "    for i in range(hp.Int('num_layers',min_value=1,max_value=10)):\n",
    "        if counter==0:\n",
    "            model.add(Dense(hp.Int('units'+str(i),min_value=8,max_value=128,step=8),\n",
    "                           activation=hp.Choice('activation'+str(i),values=['relu','tanh','sigmoid'])\n",
    "                            ,input_dim=8\n",
    "                           )\n",
    "                     )\n",
    "            model.add(Dropout(hp.Choice('dropout'+str(i),values=[0.1,0.2,0.3,0.4,0.5,0.6,0.7,0.8,0.9])))\n",
    "            \n",
    "        else:\n",
    "                  \n",
    "            model.add(Dense(hp.Int('units'+str(i),min_value=8,max_value=128,step=8),\n",
    "                           activation=hp.Choice('activation'+str(i),values=['relu','tanh','sigmoid'])\n",
    "                          \n",
    "                           )\n",
    "                     )\n",
    "            model.add(Dropout(hp.Choice('dropout'+str(i),values=[0.1,0.2,0.3,0.4,0.5,0.6,0.7,0.8,0.9])))\n",
    "        counter+=1\n",
    "    \n",
    "        \n",
    "        \n",
    "    model.add(Dense(1, activation='sigmoid'))\n",
    "    model.compile(optimizer=hp.Choice(\"optimizer\",values=[\"adam\",\"sgd\",\"rmsprop\",\"adadelta\"]),loss='binary_crossentropy',metrics=['accuracy'])\n",
    "\n",
    "    return model"
   ]
  },
  {
   "cell_type": "code",
   "execution_count": 47,
   "id": "93cb07ef",
   "metadata": {},
   "outputs": [],
   "source": [
    "tuner=kt.RandomSearch(build_model,objective='val_accuracy',max_trials=5,directory='FOLDER4')"
   ]
  },
  {
   "cell_type": "code",
   "execution_count": 48,
   "id": "15d2136e",
   "metadata": {},
   "outputs": [
    {
     "name": "stdout",
     "output_type": "stream",
     "text": [
      "Trial 5 Complete [00h 00m 03s]\n",
      "val_accuracy: 0.7359307408332825\n",
      "\n",
      "Best val_accuracy So Far: 0.7359307408332825\n",
      "Total elapsed time: 00h 00m 13s\n",
      "INFO:tensorflow:Oracle triggered exit\n"
     ]
    }
   ],
   "source": [
    "tuner.search(s_x_train,y_train,validation_data=(s_x_test,y_test),epochs=5)"
   ]
  },
  {
   "cell_type": "code",
   "execution_count": 49,
   "id": "88cb6944",
   "metadata": {},
   "outputs": [
    {
     "data": {
      "text/plain": [
       "{'num_layers': 1,\n",
       " 'units0': 24,\n",
       " 'activation0': 'tanh',\n",
       " 'dropout0': 0.2,\n",
       " 'optimizer': 'rmsprop',\n",
       " 'units1': 16,\n",
       " 'activation1': 'relu',\n",
       " 'dropout1': 0.5,\n",
       " 'units2': 8,\n",
       " 'activation2': 'sigmoid',\n",
       " 'dropout2': 0.9,\n",
       " 'units3': 48,\n",
       " 'activation3': 'relu',\n",
       " 'dropout3': 0.5,\n",
       " 'units4': 32,\n",
       " 'activation4': 'sigmoid',\n",
       " 'dropout4': 0.3,\n",
       " 'units5': 56,\n",
       " 'activation5': 'tanh',\n",
       " 'dropout5': 0.1,\n",
       " 'units6': 96,\n",
       " 'activation6': 'tanh',\n",
       " 'dropout6': 0.8,\n",
       " 'units7': 8,\n",
       " 'activation7': 'sigmoid',\n",
       " 'dropout7': 0.5}"
      ]
     },
     "execution_count": 49,
     "metadata": {},
     "output_type": "execute_result"
    }
   ],
   "source": [
    "tuner.get_best_hyperparameters()[0].values  # to get the best object"
   ]
  },
  {
   "cell_type": "code",
   "execution_count": 50,
   "id": "1ba05397",
   "metadata": {},
   "outputs": [],
   "source": [
    "model=tuner.get_best_models(num_models=1)[0]\n"
   ]
  },
  {
   "cell_type": "code",
   "execution_count": 51,
   "id": "203ba816",
   "metadata": {},
   "outputs": [
    {
     "name": "stdout",
     "output_type": "stream",
     "text": [
      "Model: \"sequential\"\n",
      "_________________________________________________________________\n",
      " Layer (type)                Output Shape              Param #   \n",
      "=================================================================\n",
      " dense (Dense)               (None, 24)                216       \n",
      "                                                                 \n",
      " dropout (Dropout)           (None, 24)                0         \n",
      "                                                                 \n",
      " dense_1 (Dense)             (None, 1)                 25        \n",
      "                                                                 \n",
      "=================================================================\n",
      "Total params: 241\n",
      "Trainable params: 241\n",
      "Non-trainable params: 0\n",
      "_________________________________________________________________\n"
     ]
    }
   ],
   "source": [
    "model.summary()"
   ]
  },
  {
   "cell_type": "code",
   "execution_count": 52,
   "id": "00c5ceea",
   "metadata": {},
   "outputs": [
    {
     "name": "stdout",
     "output_type": "stream",
     "text": [
      "Epoch 7/100\n",
      "45/45 [==============================] - 1s 10ms/step - loss: 0.5172 - accuracy: 0.7542 - val_loss: 0.5116 - val_accuracy: 0.7489\n",
      "Epoch 8/100\n",
      "45/45 [==============================] - 0s 5ms/step - loss: 0.5069 - accuracy: 0.7337 - val_loss: 0.4992 - val_accuracy: 0.7446\n",
      "Epoch 9/100\n",
      "45/45 [==============================] - 0s 5ms/step - loss: 0.4919 - accuracy: 0.7747 - val_loss: 0.4928 - val_accuracy: 0.7403\n",
      "Epoch 10/100\n",
      "45/45 [==============================] - 0s 6ms/step - loss: 0.4881 - accuracy: 0.7672 - val_loss: 0.4892 - val_accuracy: 0.7359\n",
      "Epoch 11/100\n",
      "45/45 [==============================] - 0s 8ms/step - loss: 0.4703 - accuracy: 0.7803 - val_loss: 0.4871 - val_accuracy: 0.7316\n",
      "Epoch 12/100\n",
      "45/45 [==============================] - 0s 6ms/step - loss: 0.4856 - accuracy: 0.7635 - val_loss: 0.4856 - val_accuracy: 0.7359\n",
      "Epoch 13/100\n",
      "45/45 [==============================] - 0s 5ms/step - loss: 0.4752 - accuracy: 0.7803 - val_loss: 0.4855 - val_accuracy: 0.7359\n",
      "Epoch 14/100\n",
      "45/45 [==============================] - 0s 6ms/step - loss: 0.4651 - accuracy: 0.7989 - val_loss: 0.4850 - val_accuracy: 0.7316\n",
      "Epoch 15/100\n",
      "45/45 [==============================] - 0s 7ms/step - loss: 0.4756 - accuracy: 0.7784 - val_loss: 0.4850 - val_accuracy: 0.7316\n",
      "Epoch 16/100\n",
      "45/45 [==============================] - 0s 5ms/step - loss: 0.4711 - accuracy: 0.7840 - val_loss: 0.4858 - val_accuracy: 0.7403\n",
      "Epoch 17/100\n",
      "45/45 [==============================] - 0s 9ms/step - loss: 0.4719 - accuracy: 0.7821 - val_loss: 0.4849 - val_accuracy: 0.7403\n",
      "Epoch 18/100\n",
      "45/45 [==============================] - 0s 9ms/step - loss: 0.4741 - accuracy: 0.7877 - val_loss: 0.4846 - val_accuracy: 0.7403\n",
      "Epoch 19/100\n",
      "45/45 [==============================] - 0s 7ms/step - loss: 0.4681 - accuracy: 0.7858 - val_loss: 0.4851 - val_accuracy: 0.7446\n",
      "Epoch 20/100\n",
      "45/45 [==============================] - 0s 7ms/step - loss: 0.4720 - accuracy: 0.7896 - val_loss: 0.4849 - val_accuracy: 0.7446\n",
      "Epoch 21/100\n",
      "45/45 [==============================] - 0s 6ms/step - loss: 0.4729 - accuracy: 0.7914 - val_loss: 0.4838 - val_accuracy: 0.7446\n",
      "Epoch 22/100\n",
      "45/45 [==============================] - 0s 6ms/step - loss: 0.4665 - accuracy: 0.7821 - val_loss: 0.4846 - val_accuracy: 0.7446\n",
      "Epoch 23/100\n",
      "45/45 [==============================] - 0s 7ms/step - loss: 0.4597 - accuracy: 0.7896 - val_loss: 0.4853 - val_accuracy: 0.7359\n",
      "Epoch 24/100\n",
      "45/45 [==============================] - 0s 7ms/step - loss: 0.4663 - accuracy: 0.7858 - val_loss: 0.4857 - val_accuracy: 0.7403\n",
      "Epoch 25/100\n",
      "45/45 [==============================] - 0s 6ms/step - loss: 0.4646 - accuracy: 0.7858 - val_loss: 0.4847 - val_accuracy: 0.7403\n",
      "Epoch 26/100\n",
      "45/45 [==============================] - 0s 6ms/step - loss: 0.4608 - accuracy: 0.7840 - val_loss: 0.4840 - val_accuracy: 0.7403\n",
      "Epoch 27/100\n",
      "45/45 [==============================] - 0s 7ms/step - loss: 0.4779 - accuracy: 0.7840 - val_loss: 0.4839 - val_accuracy: 0.7403\n",
      "Epoch 28/100\n",
      "45/45 [==============================] - 0s 6ms/step - loss: 0.4647 - accuracy: 0.7933 - val_loss: 0.4836 - val_accuracy: 0.7359\n",
      "Epoch 29/100\n",
      "45/45 [==============================] - 0s 6ms/step - loss: 0.4667 - accuracy: 0.7803 - val_loss: 0.4843 - val_accuracy: 0.7359\n",
      "Epoch 30/100\n",
      "45/45 [==============================] - 0s 6ms/step - loss: 0.4627 - accuracy: 0.7933 - val_loss: 0.4847 - val_accuracy: 0.7359\n",
      "Epoch 31/100\n",
      "45/45 [==============================] - 0s 6ms/step - loss: 0.4615 - accuracy: 0.7970 - val_loss: 0.4845 - val_accuracy: 0.7403\n",
      "Epoch 32/100\n",
      "45/45 [==============================] - 0s 6ms/step - loss: 0.4674 - accuracy: 0.7896 - val_loss: 0.4847 - val_accuracy: 0.7403\n",
      "Epoch 33/100\n",
      "45/45 [==============================] - 0s 6ms/step - loss: 0.4659 - accuracy: 0.7896 - val_loss: 0.4846 - val_accuracy: 0.7403\n",
      "Epoch 34/100\n",
      "45/45 [==============================] - 0s 7ms/step - loss: 0.4604 - accuracy: 0.7952 - val_loss: 0.4846 - val_accuracy: 0.7359\n",
      "Epoch 35/100\n",
      "45/45 [==============================] - 0s 6ms/step - loss: 0.4634 - accuracy: 0.7896 - val_loss: 0.4839 - val_accuracy: 0.7359\n",
      "Epoch 36/100\n",
      "45/45 [==============================] - 0s 6ms/step - loss: 0.4637 - accuracy: 0.7858 - val_loss: 0.4837 - val_accuracy: 0.7403\n",
      "Epoch 37/100\n",
      "45/45 [==============================] - 0s 6ms/step - loss: 0.4503 - accuracy: 0.7877 - val_loss: 0.4840 - val_accuracy: 0.7446\n",
      "Epoch 38/100\n",
      "45/45 [==============================] - 0s 7ms/step - loss: 0.4614 - accuracy: 0.7970 - val_loss: 0.4834 - val_accuracy: 0.7359\n",
      "Epoch 39/100\n",
      "45/45 [==============================] - 0s 7ms/step - loss: 0.4536 - accuracy: 0.7933 - val_loss: 0.4830 - val_accuracy: 0.7359\n",
      "Epoch 40/100\n",
      "45/45 [==============================] - 0s 7ms/step - loss: 0.4623 - accuracy: 0.7858 - val_loss: 0.4826 - val_accuracy: 0.7403\n",
      "Epoch 41/100\n",
      "45/45 [==============================] - 0s 6ms/step - loss: 0.4659 - accuracy: 0.7858 - val_loss: 0.4823 - val_accuracy: 0.7403\n",
      "Epoch 42/100\n",
      "45/45 [==============================] - 0s 6ms/step - loss: 0.4701 - accuracy: 0.7728 - val_loss: 0.4820 - val_accuracy: 0.7403\n",
      "Epoch 43/100\n",
      "45/45 [==============================] - 0s 6ms/step - loss: 0.4408 - accuracy: 0.7952 - val_loss: 0.4819 - val_accuracy: 0.7403\n",
      "Epoch 44/100\n",
      "45/45 [==============================] - 0s 6ms/step - loss: 0.4709 - accuracy: 0.7877 - val_loss: 0.4819 - val_accuracy: 0.7403\n",
      "Epoch 45/100\n",
      "45/45 [==============================] - 0s 6ms/step - loss: 0.4558 - accuracy: 0.7989 - val_loss: 0.4819 - val_accuracy: 0.7446\n",
      "Epoch 46/100\n",
      "45/45 [==============================] - 0s 6ms/step - loss: 0.4527 - accuracy: 0.8045 - val_loss: 0.4822 - val_accuracy: 0.7446\n",
      "Epoch 47/100\n",
      "45/45 [==============================] - 0s 7ms/step - loss: 0.4572 - accuracy: 0.7933 - val_loss: 0.4817 - val_accuracy: 0.7403\n",
      "Epoch 48/100\n",
      "45/45 [==============================] - 0s 6ms/step - loss: 0.4508 - accuracy: 0.7821 - val_loss: 0.4813 - val_accuracy: 0.7403\n",
      "Epoch 49/100\n",
      "45/45 [==============================] - 0s 6ms/step - loss: 0.4494 - accuracy: 0.7970 - val_loss: 0.4810 - val_accuracy: 0.7403\n",
      "Epoch 50/100\n",
      "45/45 [==============================] - 0s 7ms/step - loss: 0.4590 - accuracy: 0.7933 - val_loss: 0.4807 - val_accuracy: 0.7446\n",
      "Epoch 51/100\n",
      "45/45 [==============================] - 0s 6ms/step - loss: 0.4603 - accuracy: 0.7840 - val_loss: 0.4804 - val_accuracy: 0.7403\n",
      "Epoch 52/100\n",
      "45/45 [==============================] - 0s 6ms/step - loss: 0.4480 - accuracy: 0.7989 - val_loss: 0.4800 - val_accuracy: 0.7489\n",
      "Epoch 53/100\n",
      "45/45 [==============================] - 0s 7ms/step - loss: 0.4497 - accuracy: 0.7933 - val_loss: 0.4799 - val_accuracy: 0.7446\n",
      "Epoch 54/100\n",
      "45/45 [==============================] - 0s 7ms/step - loss: 0.4491 - accuracy: 0.7896 - val_loss: 0.4796 - val_accuracy: 0.7403\n",
      "Epoch 55/100\n",
      "45/45 [==============================] - 0s 7ms/step - loss: 0.4667 - accuracy: 0.7896 - val_loss: 0.4793 - val_accuracy: 0.7489\n",
      "Epoch 56/100\n",
      "45/45 [==============================] - 0s 6ms/step - loss: 0.4540 - accuracy: 0.7803 - val_loss: 0.4793 - val_accuracy: 0.7403\n",
      "Epoch 57/100\n",
      "45/45 [==============================] - 0s 6ms/step - loss: 0.4516 - accuracy: 0.7970 - val_loss: 0.4797 - val_accuracy: 0.7359\n",
      "Epoch 58/100\n",
      "45/45 [==============================] - 0s 7ms/step - loss: 0.4600 - accuracy: 0.7933 - val_loss: 0.4792 - val_accuracy: 0.7403\n",
      "Epoch 59/100\n",
      "45/45 [==============================] - 0s 6ms/step - loss: 0.4656 - accuracy: 0.7784 - val_loss: 0.4793 - val_accuracy: 0.7403\n",
      "Epoch 60/100\n",
      "45/45 [==============================] - 0s 7ms/step - loss: 0.4538 - accuracy: 0.7896 - val_loss: 0.4787 - val_accuracy: 0.7403\n",
      "Epoch 61/100\n",
      "45/45 [==============================] - 0s 7ms/step - loss: 0.4523 - accuracy: 0.8007 - val_loss: 0.4791 - val_accuracy: 0.7403\n",
      "Epoch 62/100\n",
      "45/45 [==============================] - 0s 6ms/step - loss: 0.4752 - accuracy: 0.7877 - val_loss: 0.4794 - val_accuracy: 0.7403\n",
      "Epoch 63/100\n",
      "45/45 [==============================] - 0s 7ms/step - loss: 0.4557 - accuracy: 0.7896 - val_loss: 0.4797 - val_accuracy: 0.7359\n",
      "Epoch 64/100\n",
      "45/45 [==============================] - 0s 7ms/step - loss: 0.4486 - accuracy: 0.8026 - val_loss: 0.4802 - val_accuracy: 0.7403\n"
     ]
    },
    {
     "name": "stdout",
     "output_type": "stream",
     "text": [
      "Epoch 65/100\n",
      "45/45 [==============================] - 0s 7ms/step - loss: 0.4417 - accuracy: 0.8063 - val_loss: 0.4807 - val_accuracy: 0.7403\n",
      "Epoch 66/100\n",
      "45/45 [==============================] - 0s 6ms/step - loss: 0.4614 - accuracy: 0.7840 - val_loss: 0.4804 - val_accuracy: 0.7403\n",
      "Epoch 67/100\n",
      "45/45 [==============================] - 0s 6ms/step - loss: 0.4540 - accuracy: 0.7803 - val_loss: 0.4801 - val_accuracy: 0.7446\n",
      "Epoch 68/100\n",
      "45/45 [==============================] - 0s 6ms/step - loss: 0.4555 - accuracy: 0.7896 - val_loss: 0.4795 - val_accuracy: 0.7403\n",
      "Epoch 69/100\n",
      "45/45 [==============================] - 0s 6ms/step - loss: 0.4455 - accuracy: 0.7914 - val_loss: 0.4804 - val_accuracy: 0.7359\n",
      "Epoch 70/100\n",
      "45/45 [==============================] - 0s 6ms/step - loss: 0.4549 - accuracy: 0.7970 - val_loss: 0.4801 - val_accuracy: 0.7359\n",
      "Epoch 71/100\n",
      "45/45 [==============================] - 0s 6ms/step - loss: 0.4374 - accuracy: 0.7970 - val_loss: 0.4804 - val_accuracy: 0.7359\n",
      "Epoch 72/100\n",
      "45/45 [==============================] - 0s 6ms/step - loss: 0.4545 - accuracy: 0.7858 - val_loss: 0.4794 - val_accuracy: 0.7359\n",
      "Epoch 73/100\n",
      "45/45 [==============================] - 0s 6ms/step - loss: 0.4522 - accuracy: 0.7821 - val_loss: 0.4796 - val_accuracy: 0.7359\n",
      "Epoch 74/100\n",
      "45/45 [==============================] - 0s 7ms/step - loss: 0.4544 - accuracy: 0.7989 - val_loss: 0.4793 - val_accuracy: 0.7359\n",
      "Epoch 75/100\n",
      "45/45 [==============================] - 0s 6ms/step - loss: 0.4518 - accuracy: 0.7803 - val_loss: 0.4796 - val_accuracy: 0.7403\n",
      "Epoch 76/100\n",
      "45/45 [==============================] - 0s 6ms/step - loss: 0.4485 - accuracy: 0.7914 - val_loss: 0.4795 - val_accuracy: 0.7359\n",
      "Epoch 77/100\n",
      "45/45 [==============================] - 0s 6ms/step - loss: 0.4496 - accuracy: 0.7970 - val_loss: 0.4794 - val_accuracy: 0.7403\n",
      "Epoch 78/100\n",
      "45/45 [==============================] - 0s 6ms/step - loss: 0.4463 - accuracy: 0.8101 - val_loss: 0.4792 - val_accuracy: 0.7359\n",
      "Epoch 79/100\n",
      "45/45 [==============================] - 0s 7ms/step - loss: 0.4483 - accuracy: 0.7989 - val_loss: 0.4788 - val_accuracy: 0.7359\n",
      "Epoch 80/100\n",
      "45/45 [==============================] - 0s 6ms/step - loss: 0.4490 - accuracy: 0.7970 - val_loss: 0.4794 - val_accuracy: 0.7359\n",
      "Epoch 81/100\n",
      "45/45 [==============================] - 0s 6ms/step - loss: 0.4410 - accuracy: 0.7989 - val_loss: 0.4794 - val_accuracy: 0.7359\n",
      "Epoch 82/100\n",
      "45/45 [==============================] - 0s 7ms/step - loss: 0.4527 - accuracy: 0.7952 - val_loss: 0.4791 - val_accuracy: 0.7359\n",
      "Epoch 83/100\n",
      "45/45 [==============================] - 0s 6ms/step - loss: 0.4495 - accuracy: 0.7896 - val_loss: 0.4794 - val_accuracy: 0.7359\n",
      "Epoch 84/100\n",
      "45/45 [==============================] - 0s 6ms/step - loss: 0.4438 - accuracy: 0.8045 - val_loss: 0.4799 - val_accuracy: 0.7359\n",
      "Epoch 85/100\n",
      "45/45 [==============================] - 0s 6ms/step - loss: 0.4492 - accuracy: 0.7877 - val_loss: 0.4798 - val_accuracy: 0.7359\n",
      "Epoch 86/100\n",
      "45/45 [==============================] - 0s 6ms/step - loss: 0.4516 - accuracy: 0.7989 - val_loss: 0.4798 - val_accuracy: 0.7359\n",
      "Epoch 87/100\n",
      "45/45 [==============================] - 0s 6ms/step - loss: 0.4434 - accuracy: 0.7914 - val_loss: 0.4795 - val_accuracy: 0.7359\n",
      "Epoch 88/100\n",
      "45/45 [==============================] - 0s 7ms/step - loss: 0.4508 - accuracy: 0.7877 - val_loss: 0.4787 - val_accuracy: 0.7359\n",
      "Epoch 89/100\n",
      "45/45 [==============================] - 0s 7ms/step - loss: 0.4462 - accuracy: 0.7914 - val_loss: 0.4789 - val_accuracy: 0.7403\n",
      "Epoch 90/100\n",
      "45/45 [==============================] - 0s 7ms/step - loss: 0.4459 - accuracy: 0.7933 - val_loss: 0.4785 - val_accuracy: 0.7359\n",
      "Epoch 91/100\n",
      "45/45 [==============================] - 0s 6ms/step - loss: 0.4513 - accuracy: 0.7728 - val_loss: 0.4783 - val_accuracy: 0.7359\n",
      "Epoch 92/100\n",
      "45/45 [==============================] - 0s 7ms/step - loss: 0.4404 - accuracy: 0.7933 - val_loss: 0.4785 - val_accuracy: 0.7359\n",
      "Epoch 93/100\n",
      "45/45 [==============================] - 0s 6ms/step - loss: 0.4496 - accuracy: 0.8045 - val_loss: 0.4785 - val_accuracy: 0.7359\n",
      "Epoch 94/100\n",
      "45/45 [==============================] - 0s 7ms/step - loss: 0.4435 - accuracy: 0.7970 - val_loss: 0.4790 - val_accuracy: 0.7359\n",
      "Epoch 95/100\n",
      "45/45 [==============================] - 0s 6ms/step - loss: 0.4441 - accuracy: 0.7989 - val_loss: 0.4792 - val_accuracy: 0.7359\n",
      "Epoch 96/100\n",
      "45/45 [==============================] - 0s 6ms/step - loss: 0.4434 - accuracy: 0.7989 - val_loss: 0.4800 - val_accuracy: 0.7359\n",
      "Epoch 97/100\n",
      "45/45 [==============================] - 0s 6ms/step - loss: 0.4350 - accuracy: 0.7989 - val_loss: 0.4796 - val_accuracy: 0.7359\n",
      "Epoch 98/100\n",
      "45/45 [==============================] - 0s 6ms/step - loss: 0.4546 - accuracy: 0.7821 - val_loss: 0.4788 - val_accuracy: 0.7359\n",
      "Epoch 99/100\n",
      "45/45 [==============================] - 0s 6ms/step - loss: 0.4487 - accuracy: 0.7989 - val_loss: 0.4786 - val_accuracy: 0.7359\n",
      "Epoch 100/100\n",
      "45/45 [==============================] - 0s 7ms/step - loss: 0.4495 - accuracy: 0.7989 - val_loss: 0.4781 - val_accuracy: 0.7359\n"
     ]
    },
    {
     "data": {
      "text/plain": [
       "<keras.callbacks.History at 0x1c95148d280>"
      ]
     },
     "execution_count": 52,
     "metadata": {},
     "output_type": "execute_result"
    }
   ],
   "source": [
    "model.fit(s_x_train,y_train,batch_size=12,epochs=100,validation_data=(s_x_test,y_test),initial_epoch=6)"
   ]
  },
  {
   "cell_type": "code",
   "execution_count": null,
   "id": "6a5aa251",
   "metadata": {},
   "outputs": [],
   "source": []
  }
 ],
 "metadata": {
  "kernelspec": {
   "display_name": "Python 3 (ipykernel)",
   "language": "python",
   "name": "python3"
  },
  "language_info": {
   "codemirror_mode": {
    "name": "ipython",
    "version": 3
   },
   "file_extension": ".py",
   "mimetype": "text/x-python",
   "name": "python",
   "nbconvert_exporter": "python",
   "pygments_lexer": "ipython3",
   "version": "3.9.12"
  }
 },
 "nbformat": 4,
 "nbformat_minor": 5
}
