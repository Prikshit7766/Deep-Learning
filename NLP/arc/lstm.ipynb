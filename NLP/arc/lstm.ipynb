{
 "cells": [
  {
   "cell_type": "code",
   "execution_count": 1,
   "metadata": {},
   "outputs": [],
   "source": [
    "from keras.datasets import imdb\n",
    "from keras.preprocessing.text import Tokenizer\n",
    "from keras.utils import pad_sequences\n",
    "from keras import Sequential\n",
    "from keras.layers import Dense,Embedding,Flatten, LSTM"
   ]
  },
  {
   "cell_type": "code",
   "execution_count": 2,
   "metadata": {},
   "outputs": [],
   "source": [
    "(X_train,y_train),(X_test,y_test) = imdb.load_data()"
   ]
  },
  {
   "cell_type": "code",
   "execution_count": 3,
   "metadata": {},
   "outputs": [],
   "source": [
    "X_train = pad_sequences(X_train,padding='post',maxlen=150)\n",
    "X_test = pad_sequences(X_test,padding='post',maxlen=150)"
   ]
  },
  {
   "cell_type": "code",
   "execution_count": 4,
   "metadata": {},
   "outputs": [],
   "source": [
    "model = Sequential()\n",
    "model.add(Embedding(10000,output_dim=2,input_length=150))\n",
    "model.add(LSTM(32,return_sequences=False))\n",
    "model.add(Dense(1, activation='sigmoid'))\n"
   ]
  },
  {
   "cell_type": "code",
   "execution_count": 6,
   "metadata": {},
   "outputs": [
    {
     "name": "stdout",
     "output_type": "stream",
     "text": [
      "Epoch 1/10\n"
     ]
    },
    {
     "name": "stdout",
     "output_type": "stream",
     "text": [
      "782/782 [==============================] - 24s 27ms/step - loss: 0.4797 - acc: 0.7464 - val_loss: 0.3350 - val_acc: 0.8576\n",
      "Epoch 2/10\n",
      "782/782 [==============================] - 21s 27ms/step - loss: 0.2756 - acc: 0.8938 - val_loss: 0.3333 - val_acc: 0.8615\n",
      "Epoch 3/10\n",
      "782/782 [==============================] - 21s 27ms/step - loss: 0.2207 - acc: 0.9186 - val_loss: 0.4461 - val_acc: 0.8284\n",
      "Epoch 4/10\n",
      "782/782 [==============================] - 23s 30ms/step - loss: 0.1865 - acc: 0.9321 - val_loss: 0.3364 - val_acc: 0.8571\n",
      "Epoch 5/10\n",
      "782/782 [==============================] - 21s 26ms/step - loss: 0.1632 - acc: 0.9428 - val_loss: 0.3742 - val_acc: 0.8518\n",
      "Epoch 6/10\n",
      "782/782 [==============================] - 19s 25ms/step - loss: 0.1484 - acc: 0.9505 - val_loss: 0.4118 - val_acc: 0.8500\n",
      "Epoch 7/10\n",
      "782/782 [==============================] - 19s 25ms/step - loss: 0.1324 - acc: 0.9574 - val_loss: 0.4354 - val_acc: 0.8473\n",
      "Epoch 8/10\n",
      "782/782 [==============================] - 19s 25ms/step - loss: 0.1175 - acc: 0.9624 - val_loss: 0.4925 - val_acc: 0.8421\n",
      "Epoch 9/10\n",
      "782/782 [==============================] - 20s 25ms/step - loss: 0.1084 - acc: 0.9654 - val_loss: 0.4653 - val_acc: 0.8439\n",
      "Epoch 10/10\n",
      "782/782 [==============================] - 19s 25ms/step - loss: 0.1004 - acc: 0.9691 - val_loss: 0.5149 - val_acc: 0.8352\n"
     ]
    }
   ],
   "source": [
    "model.compile(optimizer='adam', loss='binary_crossentropy', metrics=['acc'])\n",
    "history = model.fit(X_train, y_train,epochs=10,validation_data=(X_test,y_test))"
   ]
  },
  {
   "cell_type": "code",
   "execution_count": 9,
   "metadata": {},
   "outputs": [],
   "source": [
    "# Predictions\n",
    "test_data = X_test[0][0:150].reshape(1,-1)"
   ]
  },
  {
   "cell_type": "code",
   "execution_count": 10,
   "metadata": {},
   "outputs": [
    {
     "name": "stdout",
     "output_type": "stream",
     "text": [
      "1/1 [==============================] - 1s 660ms/step\n"
     ]
    },
    {
     "data": {
      "text/plain": [
       "array([[0.0060818]], dtype=float32)"
      ]
     },
     "execution_count": 10,
     "metadata": {},
     "output_type": "execute_result"
    }
   ],
   "source": [
    "model.predict(test_data)"
   ]
  },
  {
   "cell_type": "code",
   "execution_count": null,
   "metadata": {},
   "outputs": [],
   "source": []
  }
 ],
 "metadata": {
  "kernelspec": {
   "display_name": "Deep_learning",
   "language": "python",
   "name": "python3"
  },
  "language_info": {
   "codemirror_mode": {
    "name": "ipython",
    "version": 3
   },
   "file_extension": ".py",
   "mimetype": "text/x-python",
   "name": "python",
   "nbconvert_exporter": "python",
   "pygments_lexer": "ipython3",
   "version": "3.8.16"
  },
  "orig_nbformat": 4
 },
 "nbformat": 4,
 "nbformat_minor": 2
}
