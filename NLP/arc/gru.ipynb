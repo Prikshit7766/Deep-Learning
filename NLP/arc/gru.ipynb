{
 "cells": [
  {
   "cell_type": "code",
   "execution_count": 1,
   "metadata": {},
   "outputs": [],
   "source": [
    "from keras.datasets import imdb\n",
    "from keras.preprocessing.text import Tokenizer\n",
    "from keras.utils import pad_sequences\n",
    "from keras import Sequential\n",
    "from keras.layers import Dense,Embedding,Flatten, GRU, Bidirectional"
   ]
  },
  {
   "cell_type": "code",
   "execution_count": 2,
   "metadata": {},
   "outputs": [],
   "source": [
    "(X_train,y_train),(X_test,y_test) = imdb.load_data()"
   ]
  },
  {
   "cell_type": "code",
   "execution_count": 3,
   "metadata": {},
   "outputs": [],
   "source": [
    "X_train = pad_sequences(X_train,padding='post',maxlen=150)\n",
    "X_test = pad_sequences(X_test,padding='post',maxlen=150)"
   ]
  },
  {
   "cell_type": "code",
   "execution_count": 4,
   "metadata": {},
   "outputs": [
    {
     "name": "stdout",
     "output_type": "stream",
     "text": [
      "Model: \"sequential\"\n",
      "_________________________________________________________________\n",
      " Layer (type)                Output Shape              Param #   \n",
      "=================================================================\n",
      " embedding (Embedding)       (None, 150, 2)            20000     \n",
      "                                                                 \n",
      " gru (GRU)                   (None, 32)                3456      \n",
      "                                                                 \n",
      " dense (Dense)               (None, 1)                 33        \n",
      "                                                                 \n",
      "=================================================================\n",
      "Total params: 23,489\n",
      "Trainable params: 23,489\n",
      "Non-trainable params: 0\n",
      "_________________________________________________________________\n"
     ]
    }
   ],
   "source": [
    "model = Sequential()\n",
    "model.add(Embedding(10000,output_dim=2,input_length=150))\n",
    "model.add(GRU(32,return_sequences=False))\n",
    "model.add(Dense(1, activation='sigmoid'))\n",
    "\n",
    "model.summary()"
   ]
  },
  {
   "cell_type": "code",
   "execution_count": 5,
   "metadata": {},
   "outputs": [
    {
     "name": "stdout",
     "output_type": "stream",
     "text": [
      "Epoch 1/10\n",
      "782/782 [==============================] - 24s 26ms/step - loss: 0.5987 - acc: 0.6364 - val_loss: 0.4334 - val_acc: 0.8016\n",
      "Epoch 2/10\n",
      "782/782 [==============================] - 19s 24ms/step - loss: 0.3145 - acc: 0.8730 - val_loss: 0.3233 - val_acc: 0.8659\n",
      "Epoch 3/10\n",
      "782/782 [==============================] - 19s 24ms/step - loss: 0.2372 - acc: 0.9114 - val_loss: 0.3298 - val_acc: 0.8615\n",
      "Epoch 4/10\n",
      "782/782 [==============================] - 20s 26ms/step - loss: 0.1954 - acc: 0.9306 - val_loss: 0.3791 - val_acc: 0.8600\n",
      "Epoch 5/10\n",
      "782/782 [==============================] - 20s 26ms/step - loss: 0.1726 - acc: 0.9398 - val_loss: 0.3760 - val_acc: 0.8586\n",
      "Epoch 6/10\n",
      "782/782 [==============================] - 21s 27ms/step - loss: 0.1547 - acc: 0.9471 - val_loss: 0.4045 - val_acc: 0.8564\n",
      "Epoch 7/10\n",
      "782/782 [==============================] - 22s 28ms/step - loss: 0.1364 - acc: 0.9566 - val_loss: 0.4211 - val_acc: 0.8508\n",
      "Epoch 8/10\n",
      "782/782 [==============================] - 22s 28ms/step - loss: 0.1222 - acc: 0.9616 - val_loss: 0.4544 - val_acc: 0.8502\n",
      "Epoch 9/10\n",
      "782/782 [==============================] - 21s 27ms/step - loss: 0.1126 - acc: 0.9645 - val_loss: 0.5045 - val_acc: 0.8428\n",
      "Epoch 10/10\n",
      "782/782 [==============================] - 22s 28ms/step - loss: 0.1024 - acc: 0.9678 - val_loss: 0.5198 - val_acc: 0.8398\n"
     ]
    }
   ],
   "source": [
    "model.compile(optimizer='adam', loss='binary_crossentropy', metrics=['acc'])\n",
    "history = model.fit(X_train, y_train,epochs=10,validation_data=(X_test,y_test))"
   ]
  },
  {
   "cell_type": "code",
   "execution_count": 6,
   "metadata": {},
   "outputs": [
    {
     "name": "stdout",
     "output_type": "stream",
     "text": [
      "1/1 [==============================] - 1s 507ms/step\n"
     ]
    },
    {
     "data": {
      "text/plain": [
       "array([[0.05746954]], dtype=float32)"
      ]
     },
     "execution_count": 6,
     "metadata": {},
     "output_type": "execute_result"
    }
   ],
   "source": [
    "test_data = X_test[0][0:150].reshape(1,-1)\n",
    "model.predict(test_data)"
   ]
  },
  {
   "cell_type": "code",
   "execution_count": null,
   "metadata": {},
   "outputs": [],
   "source": []
  }
 ],
 "metadata": {
  "kernelspec": {
   "display_name": "Deep_learning",
   "language": "python",
   "name": "python3"
  },
  "language_info": {
   "codemirror_mode": {
    "name": "ipython",
    "version": 3
   },
   "file_extension": ".py",
   "mimetype": "text/x-python",
   "name": "python",
   "nbconvert_exporter": "python",
   "pygments_lexer": "ipython3",
   "version": "3.8.16"
  },
  "orig_nbformat": 4
 },
 "nbformat": 4,
 "nbformat_minor": 2
}
