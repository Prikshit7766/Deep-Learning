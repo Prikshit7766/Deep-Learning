{
 "cells": [
  {
   "cell_type": "code",
   "execution_count": 2,
   "id": "e73a098e",
   "metadata": {},
   "outputs": [],
   "source": [
    "paragraph= \"\"\"Narendra Damodardas Modi (Gujarati: [ˈnəɾendɾə dɑmodəɾˈdɑs ˈmodiː] (listen); born 17 September 1950)[b] is an Indian politician serving as the 14th and current Prime Minister of India since 2014. Modi was the Chief Minister of Gujarat from 2001 to 2014 and is the Member of Parliament from Varanasi. He is a member of the Bharatiya Janata Party (BJP) and of the Rashtriya Swayamsevak Sangh (RSS), a right-wing Hindu nationalist paramilitary volunteer organisation. He is the longest serving prime minister from outside the Indian National Congress.\n",
    "\n",
    "Modi was born and raised in Vadnagar in northeastern Gujarat, where he completed his secondary education. He was introduced to the RSS at age eight. He has reminisced about helping out after school at his father's tea stall at the Vadnagar railway station. At age 18, Modi was married to Jashodaben Chimanlal Modi, whom he abandoned soon after. He first publicly acknowledged her as his wife more than four decades later when required to do so by Indian law, but has made no contact with her since. Modi has asserted he had travelled in northern India for two years after leaving his parental home, visiting a number of religious centres, but few details of his travels have emerged. Upon his return to Gujarat in 1971, he became a full-time worker for the RSS. After the state of emergency was declared by prime minister Indira Gandhi in 1975, Modi went into hiding. The RSS assigned him to the BJP in 1985 and he held several positions within the party hierarchy until 2001, rising to the rank of general secretary.[c]   \"\"\""
   ]
  },
  {
   "cell_type": "code",
   "execution_count": 3,
   "id": "ddeeb0ab",
   "metadata": {},
   "outputs": [
    {
     "data": {
      "text/plain": [
       "\"Narendra Damodardas Modi (Gujarati: [ˈnəɾendɾə dɑmodəɾˈdɑs ˈmodiː] (listen); born 17 September 1950)[b] is an Indian politician serving as the 14th and current Prime Minister of India since 2014. Modi was the Chief Minister of Gujarat from 2001 to 2014 and is the Member of Parliament from Varanasi. He is a member of the Bharatiya Janata Party (BJP) and of the Rashtriya Swayamsevak Sangh (RSS), a right-wing Hindu nationalist paramilitary volunteer organisation. He is the longest serving prime minister from outside the Indian National Congress.\\n\\nModi was born and raised in Vadnagar in northeastern Gujarat, where he completed his secondary education. He was introduced to the RSS at age eight. He has reminisced about helping out after school at his father's tea stall at the Vadnagar railway station. At age 18, Modi was married to Jashodaben Chimanlal Modi, whom he abandoned soon after. He first publicly acknowledged her as his wife more than four decades later when required to do so by Indian law, but has made no contact with her since. Modi has asserted he had travelled in northern India for two years after leaving his parental home, visiting a number of religious centres, but few details of his travels have emerged. Upon his return to Gujarat in 1971, he became a full-time worker for the RSS. After the state of emergency was declared by prime minister Indira Gandhi in 1975, Modi went into hiding. The RSS assigned him to the BJP in 1985 and he held several positions within the party hierarchy until 2001, rising to the rank of general secretary.[c]   \""
      ]
     },
     "execution_count": 3,
     "metadata": {},
     "output_type": "execute_result"
    }
   ],
   "source": [
    "paragraph"
   ]
  },
  {
   "cell_type": "code",
   "execution_count": 4,
   "id": "46dfd73b",
   "metadata": {},
   "outputs": [],
   "source": [
    "import nltk\n",
    "from nltk.stem import PorterStemmer\n",
    "from nltk.corpus import stopwords\n"
   ]
  },
  {
   "cell_type": "code",
   "execution_count": 6,
   "id": "6140813c",
   "metadata": {},
   "outputs": [
    {
     "name": "stderr",
     "output_type": "stream",
     "text": [
      "[nltk_data] Downloading package punkt to\n",
      "[nltk_data]     C:\\Users\\HP\\AppData\\Roaming\\nltk_data...\n",
      "[nltk_data]   Package punkt is already up-to-date!\n"
     ]
    }
   ],
   "source": [
    "## tokenization-- converts paragraph-sentences-words\n",
    "nltk.download('punkt')\n",
    "sentences=nltk.sent_tokenize(paragraph)"
   ]
  },
  {
   "cell_type": "code",
   "execution_count": 7,
   "id": "62321a14",
   "metadata": {},
   "outputs": [
    {
     "name": "stdout",
     "output_type": "stream",
     "text": [
      "['Narendra Damodardas Modi (Gujarati: [ˈnəɾendɾə dɑmodəɾˈdɑs ˈmodiː] (listen); born 17 September 1950)[b] is an Indian politician serving as the 14th and current Prime Minister of India since 2014.', 'Modi was the Chief Minister of Gujarat from 2001 to 2014 and is the Member of Parliament from Varanasi.', 'He is a member of the Bharatiya Janata Party (BJP) and of the Rashtriya Swayamsevak Sangh (RSS), a right-wing Hindu nationalist paramilitary volunteer organisation.', 'He is the longest serving prime minister from outside the Indian National Congress.', 'Modi was born and raised in Vadnagar in northeastern Gujarat, where he completed his secondary education.', 'He was introduced to the RSS at age eight.', \"He has reminisced about helping out after school at his father's tea stall at the Vadnagar railway station.\", 'At age 18, Modi was married to Jashodaben Chimanlal Modi, whom he abandoned soon after.', 'He first publicly acknowledged her as his wife more than four decades later when required to do so by Indian law, but has made no contact with her since.', 'Modi has asserted he had travelled in northern India for two years after leaving his parental home, visiting a number of religious centres, but few details of his travels have emerged.', 'Upon his return to Gujarat in 1971, he became a full-time worker for the RSS.', 'After the state of emergency was declared by prime minister Indira Gandhi in 1975, Modi went into hiding.', 'The RSS assigned him to the BJP in 1985 and he held several positions within the party hierarchy until 2001, rising to the rank of general secretary.', '[c]']\n"
     ]
    }
   ],
   "source": [
    "print(sentences)"
   ]
  },
  {
   "cell_type": "code",
   "execution_count": 9,
   "id": "eb0ff449",
   "metadata": {},
   "outputs": [
    {
     "data": {
      "text/plain": [
       "list"
      ]
     },
     "execution_count": 9,
     "metadata": {},
     "output_type": "execute_result"
    }
   ],
   "source": [
    "type(sentences)"
   ]
  },
  {
   "cell_type": "code",
   "execution_count": 10,
   "id": "07de7b6f",
   "metadata": {},
   "outputs": [
    {
     "data": {
      "text/plain": [
       "'go'"
      ]
     },
     "execution_count": 10,
     "metadata": {},
     "output_type": "execute_result"
    }
   ],
   "source": [
    "# stemming\n",
    "stemmer=PorterStemmer()\n",
    "stemmer.stem(\"going\")"
   ]
  },
  {
   "cell_type": "code",
   "execution_count": 11,
   "id": "08b41bcd",
   "metadata": {},
   "outputs": [
    {
     "data": {
      "text/plain": [
       "'histori'"
      ]
     },
     "execution_count": 11,
     "metadata": {},
     "output_type": "execute_result"
    }
   ],
   "source": [
    "stemmer.stem(\"history\")"
   ]
  },
  {
   "cell_type": "code",
   "execution_count": 12,
   "id": "05e95624",
   "metadata": {},
   "outputs": [
    {
     "data": {
      "text/plain": [
       "'happi'"
      ]
     },
     "execution_count": 12,
     "metadata": {},
     "output_type": "execute_result"
    }
   ],
   "source": [
    "stemmer.stem(\"happy\")"
   ]
  },
  {
   "cell_type": "code",
   "execution_count": 13,
   "id": "6d323e6c",
   "metadata": {},
   "outputs": [],
   "source": [
    "from nltk.stem import WordNetLemmatizer"
   ]
  },
  {
   "cell_type": "code",
   "execution_count": 14,
   "id": "449ca86a",
   "metadata": {},
   "outputs": [],
   "source": [
    "lemmatizer=WordNetLemmatizer()"
   ]
  },
  {
   "cell_type": "code",
   "execution_count": 17,
   "id": "119362d1",
   "metadata": {},
   "outputs": [
    {
     "data": {
      "text/plain": [
       "'happy'"
      ]
     },
     "execution_count": 17,
     "metadata": {},
     "output_type": "execute_result"
    }
   ],
   "source": [
    "lemmatizer.lemmatize(\"happy\")"
   ]
  },
  {
   "cell_type": "code",
   "execution_count": 18,
   "id": "328b2fd2",
   "metadata": {},
   "outputs": [
    {
     "data": {
      "text/plain": [
       "'history'"
      ]
     },
     "execution_count": 18,
     "metadata": {},
     "output_type": "execute_result"
    }
   ],
   "source": [
    "lemmatizer.lemmatize(\"history\")"
   ]
  },
  {
   "cell_type": "code",
   "execution_count": 24,
   "id": "e9b2947d",
   "metadata": {},
   "outputs": [],
   "source": [
    "import re\n",
    "# cleaning the text\n",
    "corpus=[]\n",
    "for i in range (len (sentences)):\n",
    "    review = re.sub ('[^a-zA-Z]',' ',sentences[i])    \n",
    "    review=review.lower()\n",
    "    corpus.append(review)\n",
    "\n",
    "#'[^a-zA-Z]',' sentences[i]    meaning except a-zA-Z  replace other charcter with space in sentences"
   ]
  },
  {
   "cell_type": "code",
   "execution_count": 25,
   "id": "6d22d784",
   "metadata": {},
   "outputs": [
    {
     "data": {
      "text/plain": [
       "['narendra damodardas modi  gujarati    n  end   d mod   d s  modi    listen   born    september       b  is an indian politician serving as the   th and current prime minister of india since      ',\n",
       " 'modi was the chief minister of gujarat from      to      and is the member of parliament from varanasi ',\n",
       " 'he is a member of the bharatiya janata party  bjp  and of the rashtriya swayamsevak sangh  rss   a right wing hindu nationalist paramilitary volunteer organisation ',\n",
       " 'he is the longest serving prime minister from outside the indian national congress ',\n",
       " 'modi was born and raised in vadnagar in northeastern gujarat  where he completed his secondary education ',\n",
       " 'he was introduced to the rss at age eight ',\n",
       " 'he has reminisced about helping out after school at his father s tea stall at the vadnagar railway station ',\n",
       " 'at age     modi was married to jashodaben chimanlal modi  whom he abandoned soon after ',\n",
       " 'he first publicly acknowledged her as his wife more than four decades later when required to do so by indian law  but has made no contact with her since ',\n",
       " 'modi has asserted he had travelled in northern india for two years after leaving his parental home  visiting a number of religious centres  but few details of his travels have emerged ',\n",
       " 'upon his return to gujarat in       he became a full time worker for the rss ',\n",
       " 'after the state of emergency was declared by prime minister indira gandhi in       modi went into hiding ',\n",
       " 'the rss assigned him to the bjp in      and he held several positions within the party hierarchy until       rising to the rank of general secretary ',\n",
       " ' c ']"
      ]
     },
     "execution_count": 25,
     "metadata": {},
     "output_type": "execute_result"
    }
   ],
   "source": [
    "corpus"
   ]
  },
  {
   "cell_type": "code",
   "execution_count": 26,
   "id": "c90929b1",
   "metadata": {},
   "outputs": [],
   "source": [
    "# apply stemming "
   ]
  },
  {
   "cell_type": "code",
   "execution_count": 30,
   "id": "a09e5db8",
   "metadata": {},
   "outputs": [
    {
     "name": "stdout",
     "output_type": "stream",
     "text": [
      "narendra\n",
      "damodarda\n",
      "modi\n",
      "gujarati\n",
      "n\n",
      "end\n",
      "mod\n",
      "modi\n",
      "listen\n",
      "born\n",
      "septemb\n",
      "b\n",
      "indian\n",
      "politician\n",
      "serv\n",
      "th\n",
      "current\n",
      "prime\n",
      "minist\n",
      "india\n",
      "sinc\n",
      "modi\n",
      "chief\n",
      "minist\n",
      "gujarat\n",
      "member\n",
      "parliament\n",
      "varanasi\n",
      "member\n",
      "bharatiya\n",
      "janata\n",
      "parti\n",
      "bjp\n",
      "rashtriya\n",
      "swayamsevak\n",
      "sangh\n",
      "rss\n",
      "right\n",
      "wing\n",
      "hindu\n",
      "nationalist\n",
      "paramilitari\n",
      "volunt\n",
      "organis\n",
      "longest\n",
      "serv\n",
      "prime\n",
      "minist\n",
      "outsid\n",
      "indian\n",
      "nation\n",
      "congress\n",
      "modi\n",
      "born\n",
      "rais\n",
      "vadnagar\n",
      "northeastern\n",
      "gujarat\n",
      "complet\n",
      "secondari\n",
      "educ\n",
      "introduc\n",
      "rss\n",
      "age\n",
      "eight\n",
      "reminisc\n",
      "help\n",
      "school\n",
      "father\n",
      "tea\n",
      "stall\n",
      "vadnagar\n",
      "railway\n",
      "station\n",
      "age\n",
      "modi\n",
      "marri\n",
      "jashodaben\n",
      "chimanl\n",
      "modi\n",
      "abandon\n",
      "soon\n",
      "first\n",
      "publicli\n",
      "acknowledg\n",
      "wife\n",
      "four\n",
      "decad\n",
      "later\n",
      "requir\n",
      "indian\n",
      "law\n",
      "made\n",
      "contact\n",
      "sinc\n",
      "modi\n",
      "assert\n",
      "travel\n",
      "northern\n",
      "india\n",
      "two\n",
      "year\n",
      "leav\n",
      "parent\n",
      "home\n",
      "visit\n",
      "number\n",
      "religi\n",
      "centr\n",
      "detail\n",
      "travel\n",
      "emerg\n",
      "upon\n",
      "return\n",
      "gujarat\n",
      "becam\n",
      "full\n",
      "time\n",
      "worker\n",
      "rss\n",
      "state\n",
      "emerg\n",
      "declar\n",
      "prime\n",
      "minist\n",
      "indira\n",
      "gandhi\n",
      "modi\n",
      "went\n",
      "hide\n",
      "rss\n",
      "assign\n",
      "bjp\n",
      "held\n",
      "sever\n",
      "posit\n",
      "within\n",
      "parti\n",
      "hierarchi\n",
      "rise\n",
      "rank\n",
      "gener\n",
      "secretari\n",
      "c\n"
     ]
    }
   ],
   "source": [
    "## stemming\n",
    "for i in corpus:\n",
    "    words=nltk.word_tokenize(i)  # convert sentences to words\n",
    "    for word in words:\n",
    "        if word not in set (stopwords.words('english')):\n",
    "            print (stemmer.stem(word))"
   ]
  },
  {
   "cell_type": "code",
   "execution_count": 31,
   "id": "546e6314",
   "metadata": {},
   "outputs": [
    {
     "data": {
      "text/plain": [
       "['i',\n",
       " 'me',\n",
       " 'my',\n",
       " 'myself',\n",
       " 'we',\n",
       " 'our',\n",
       " 'ours',\n",
       " 'ourselves',\n",
       " 'you',\n",
       " \"you're\",\n",
       " \"you've\",\n",
       " \"you'll\",\n",
       " \"you'd\",\n",
       " 'your',\n",
       " 'yours',\n",
       " 'yourself',\n",
       " 'yourselves',\n",
       " 'he',\n",
       " 'him',\n",
       " 'his',\n",
       " 'himself',\n",
       " 'she',\n",
       " \"she's\",\n",
       " 'her',\n",
       " 'hers',\n",
       " 'herself',\n",
       " 'it',\n",
       " \"it's\",\n",
       " 'its',\n",
       " 'itself',\n",
       " 'they',\n",
       " 'them',\n",
       " 'their',\n",
       " 'theirs',\n",
       " 'themselves',\n",
       " 'what',\n",
       " 'which',\n",
       " 'who',\n",
       " 'whom',\n",
       " 'this',\n",
       " 'that',\n",
       " \"that'll\",\n",
       " 'these',\n",
       " 'those',\n",
       " 'am',\n",
       " 'is',\n",
       " 'are',\n",
       " 'was',\n",
       " 'were',\n",
       " 'be',\n",
       " 'been',\n",
       " 'being',\n",
       " 'have',\n",
       " 'has',\n",
       " 'had',\n",
       " 'having',\n",
       " 'do',\n",
       " 'does',\n",
       " 'did',\n",
       " 'doing',\n",
       " 'a',\n",
       " 'an',\n",
       " 'the',\n",
       " 'and',\n",
       " 'but',\n",
       " 'if',\n",
       " 'or',\n",
       " 'because',\n",
       " 'as',\n",
       " 'until',\n",
       " 'while',\n",
       " 'of',\n",
       " 'at',\n",
       " 'by',\n",
       " 'for',\n",
       " 'with',\n",
       " 'about',\n",
       " 'against',\n",
       " 'between',\n",
       " 'into',\n",
       " 'through',\n",
       " 'during',\n",
       " 'before',\n",
       " 'after',\n",
       " 'above',\n",
       " 'below',\n",
       " 'to',\n",
       " 'from',\n",
       " 'up',\n",
       " 'down',\n",
       " 'in',\n",
       " 'out',\n",
       " 'on',\n",
       " 'off',\n",
       " 'over',\n",
       " 'under',\n",
       " 'again',\n",
       " 'further',\n",
       " 'then',\n",
       " 'once',\n",
       " 'here',\n",
       " 'there',\n",
       " 'when',\n",
       " 'where',\n",
       " 'why',\n",
       " 'how',\n",
       " 'all',\n",
       " 'any',\n",
       " 'both',\n",
       " 'each',\n",
       " 'few',\n",
       " 'more',\n",
       " 'most',\n",
       " 'other',\n",
       " 'some',\n",
       " 'such',\n",
       " 'no',\n",
       " 'nor',\n",
       " 'not',\n",
       " 'only',\n",
       " 'own',\n",
       " 'same',\n",
       " 'so',\n",
       " 'than',\n",
       " 'too',\n",
       " 'very',\n",
       " 's',\n",
       " 't',\n",
       " 'can',\n",
       " 'will',\n",
       " 'just',\n",
       " 'don',\n",
       " \"don't\",\n",
       " 'should',\n",
       " \"should've\",\n",
       " 'now',\n",
       " 'd',\n",
       " 'll',\n",
       " 'm',\n",
       " 'o',\n",
       " 're',\n",
       " 've',\n",
       " 'y',\n",
       " 'ain',\n",
       " 'aren',\n",
       " \"aren't\",\n",
       " 'couldn',\n",
       " \"couldn't\",\n",
       " 'didn',\n",
       " \"didn't\",\n",
       " 'doesn',\n",
       " \"doesn't\",\n",
       " 'hadn',\n",
       " \"hadn't\",\n",
       " 'hasn',\n",
       " \"hasn't\",\n",
       " 'haven',\n",
       " \"haven't\",\n",
       " 'isn',\n",
       " \"isn't\",\n",
       " 'ma',\n",
       " 'mightn',\n",
       " \"mightn't\",\n",
       " 'mustn',\n",
       " \"mustn't\",\n",
       " 'needn',\n",
       " \"needn't\",\n",
       " 'shan',\n",
       " \"shan't\",\n",
       " 'shouldn',\n",
       " \"shouldn't\",\n",
       " 'wasn',\n",
       " \"wasn't\",\n",
       " 'weren',\n",
       " \"weren't\",\n",
       " 'won',\n",
       " \"won't\",\n",
       " 'wouldn',\n",
       " \"wouldn't\"]"
      ]
     },
     "execution_count": 31,
     "metadata": {},
     "output_type": "execute_result"
    }
   ],
   "source": [
    "stopwords.words('english') "
   ]
  },
  {
   "cell_type": "code",
   "execution_count": 33,
   "id": "5454166f",
   "metadata": {},
   "outputs": [
    {
     "name": "stdout",
     "output_type": "stream",
     "text": [
      "narendra\n",
      "damodardas\n",
      "modi\n",
      "gujarati\n",
      "n\n",
      "end\n",
      "mod\n",
      "modi\n",
      "listen\n",
      "born\n",
      "september\n",
      "b\n",
      "indian\n",
      "politician\n",
      "serving\n",
      "th\n",
      "current\n",
      "prime\n",
      "minister\n",
      "india\n",
      "since\n",
      "modi\n",
      "chief\n",
      "minister\n",
      "gujarat\n",
      "member\n",
      "parliament\n",
      "varanasi\n",
      "member\n",
      "bharatiya\n",
      "janata\n",
      "party\n",
      "bjp\n",
      "rashtriya\n",
      "swayamsevak\n",
      "sangh\n",
      "r\n",
      "right\n",
      "wing\n",
      "hindu\n",
      "nationalist\n",
      "paramilitary\n",
      "volunteer\n",
      "organisation\n",
      "longest\n",
      "serving\n",
      "prime\n",
      "minister\n",
      "outside\n",
      "indian\n",
      "national\n",
      "congress\n",
      "modi\n",
      "born\n",
      "raised\n",
      "vadnagar\n",
      "northeastern\n",
      "gujarat\n",
      "completed\n",
      "secondary\n",
      "education\n",
      "introduced\n",
      "r\n",
      "age\n",
      "eight\n",
      "reminisced\n",
      "helping\n",
      "school\n",
      "father\n",
      "tea\n",
      "stall\n",
      "vadnagar\n",
      "railway\n",
      "station\n",
      "age\n",
      "modi\n",
      "married\n",
      "jashodaben\n",
      "chimanlal\n",
      "modi\n",
      "abandoned\n",
      "soon\n",
      "first\n",
      "publicly\n",
      "acknowledged\n",
      "wife\n",
      "four\n",
      "decade\n",
      "later\n",
      "required\n",
      "indian\n",
      "law\n",
      "made\n",
      "contact\n",
      "since\n",
      "modi\n",
      "asserted\n",
      "travelled\n",
      "northern\n",
      "india\n",
      "two\n",
      "year\n",
      "leaving\n",
      "parental\n",
      "home\n",
      "visiting\n",
      "number\n",
      "religious\n",
      "centre\n",
      "detail\n",
      "travel\n",
      "emerged\n",
      "upon\n",
      "return\n",
      "gujarat\n",
      "became\n",
      "full\n",
      "time\n",
      "worker\n",
      "r\n",
      "state\n",
      "emergency\n",
      "declared\n",
      "prime\n",
      "minister\n",
      "indira\n",
      "gandhi\n",
      "modi\n",
      "went\n",
      "hiding\n",
      "r\n",
      "assigned\n",
      "bjp\n",
      "held\n",
      "several\n",
      "position\n",
      "within\n",
      "party\n",
      "hierarchy\n",
      "rising\n",
      "rank\n",
      "general\n",
      "secretary\n",
      "c\n"
     ]
    }
   ],
   "source": [
    "## Lemmatization\n",
    "for i in corpus:\n",
    "    words=nltk.word_tokenize(i)\n",
    "    for word in words:\n",
    "        if word not in set (stopwords.words('english')):\n",
    "            print(lemmatizer.lemmatize (word))"
   ]
  },
  {
   "cell_type": "markdown",
   "id": "cbed1114",
   "metadata": {},
   "source": [
    "# bag of words"
   ]
  },
  {
   "cell_type": "code",
   "execution_count": 53,
   "id": "bf94e255",
   "metadata": {},
   "outputs": [],
   "source": [
    "## Apply Stopswords. Lemmatize\n",
    "import re\n",
    "corpus = []\n",
    "for i in range(len(sentences)):\n",
    "    review = re.sub('[^a-zA-Z]', ' ', sentences[i])\n",
    "    review = review.lower()\n",
    "    review = review.split()\n",
    "    review = [lemmatizer.lemmatize(word) for word in review if not word in set(stopwords.words('english'))]\n",
    "    review = ' '.join(review)\n",
    "    corpus.append(review)"
   ]
  },
  {
   "cell_type": "code",
   "execution_count": 54,
   "id": "8834edd9",
   "metadata": {},
   "outputs": [],
   "source": [
    "from sklearn.feature_extraction.text import CountVectorizer\n",
    "cv=CountVectorizer()"
   ]
  },
  {
   "cell_type": "code",
   "execution_count": 55,
   "id": "c8791d7e",
   "metadata": {},
   "outputs": [],
   "source": [
    "x=cv.fit_transform(corpus)"
   ]
  },
  {
   "cell_type": "code",
   "execution_count": 56,
   "id": "daf593e8",
   "metadata": {},
   "outputs": [
    {
     "data": {
      "text/plain": [
       "{'narendra': 56,\n",
       " 'damodardas': 16,\n",
       " 'modi': 55,\n",
       " 'gujarati': 32,\n",
       " 'end': 24,\n",
       " 'mod': 54,\n",
       " 'listen': 48,\n",
       " 'born': 8,\n",
       " 'september': 86,\n",
       " 'indian': 40,\n",
       " 'politician': 68,\n",
       " 'serving': 87,\n",
       " 'th': 96,\n",
       " 'current': 15,\n",
       " 'prime': 70,\n",
       " 'minister': 53,\n",
       " 'india': 39,\n",
       " 'since': 89,\n",
       " 'chief': 10,\n",
       " 'gujarat': 31,\n",
       " 'member': 52,\n",
       " 'parliament': 66,\n",
       " 'varanasi': 103,\n",
       " 'bharatiya': 6,\n",
       " 'janata': 43,\n",
       " 'party': 67,\n",
       " 'bjp': 7,\n",
       " 'rashtriya': 75,\n",
       " 'swayamsevak': 94,\n",
       " 'sangh': 82,\n",
       " 'right': 80,\n",
       " 'wing': 108,\n",
       " 'hindu': 37,\n",
       " 'nationalist': 58,\n",
       " 'paramilitary': 64,\n",
       " 'volunteer': 105,\n",
       " 'organisation': 62,\n",
       " 'longest': 49,\n",
       " 'outside': 63,\n",
       " 'national': 57,\n",
       " 'congress': 13,\n",
       " 'raised': 73,\n",
       " 'vadnagar': 102,\n",
       " 'northeastern': 59,\n",
       " 'completed': 12,\n",
       " 'secondary': 84,\n",
       " 'education': 20,\n",
       " 'introduced': 42,\n",
       " 'age': 2,\n",
       " 'eight': 21,\n",
       " 'reminisced': 77,\n",
       " 'helping': 34,\n",
       " 'school': 83,\n",
       " 'father': 25,\n",
       " 'tea': 95,\n",
       " 'stall': 91,\n",
       " 'railway': 72,\n",
       " 'station': 93,\n",
       " 'married': 51,\n",
       " 'jashodaben': 44,\n",
       " 'chimanlal': 11,\n",
       " 'abandoned': 0,\n",
       " 'soon': 90,\n",
       " 'first': 26,\n",
       " 'publicly': 71,\n",
       " 'acknowledged': 1,\n",
       " 'wife': 107,\n",
       " 'four': 27,\n",
       " 'decade': 17,\n",
       " 'later': 45,\n",
       " 'required': 78,\n",
       " 'law': 46,\n",
       " 'made': 50,\n",
       " 'contact': 14,\n",
       " 'asserted': 3,\n",
       " 'travelled': 99,\n",
       " 'northern': 60,\n",
       " 'two': 100,\n",
       " 'year': 111,\n",
       " 'leaving': 47,\n",
       " 'parental': 65,\n",
       " 'home': 38,\n",
       " 'visiting': 104,\n",
       " 'number': 61,\n",
       " 'religious': 76,\n",
       " 'centre': 9,\n",
       " 'detail': 19,\n",
       " 'travel': 98,\n",
       " 'emerged': 22,\n",
       " 'upon': 101,\n",
       " 'return': 79,\n",
       " 'became': 5,\n",
       " 'full': 28,\n",
       " 'time': 97,\n",
       " 'worker': 110,\n",
       " 'state': 92,\n",
       " 'emergency': 23,\n",
       " 'declared': 18,\n",
       " 'indira': 41,\n",
       " 'gandhi': 29,\n",
       " 'went': 106,\n",
       " 'hiding': 35,\n",
       " 'assigned': 4,\n",
       " 'held': 33,\n",
       " 'several': 88,\n",
       " 'position': 69,\n",
       " 'within': 109,\n",
       " 'hierarchy': 36,\n",
       " 'rising': 81,\n",
       " 'rank': 74,\n",
       " 'general': 30,\n",
       " 'secretary': 85}"
      ]
     },
     "execution_count": 56,
     "metadata": {},
     "output_type": "execute_result"
    }
   ],
   "source": [
    "cv.vocabulary_"
   ]
  },
  {
   "cell_type": "markdown",
   "id": "ac965d01",
   "metadata": {},
   "source": [
    "**with respect to sentence 0 the bag of words**"
   ]
  },
  {
   "cell_type": "code",
   "execution_count": 57,
   "id": "6303e80f",
   "metadata": {},
   "outputs": [
    {
     "data": {
      "text/plain": [
       "'narendra damodardas modi gujarati n end mod modi listen born september b indian politician serving th current prime minister india since'"
      ]
     },
     "execution_count": 57,
     "metadata": {},
     "output_type": "execute_result"
    }
   ],
   "source": [
    "corpus[0]"
   ]
  },
  {
   "cell_type": "code",
   "execution_count": 58,
   "id": "51634ac8",
   "metadata": {},
   "outputs": [
    {
     "data": {
      "text/plain": [
       "array([[0, 0, 0, 0, 0, 0, 0, 0, 1, 0, 0, 0, 0, 0, 0, 1, 1, 0, 0, 0, 0, 0,\n",
       "        0, 0, 1, 0, 0, 0, 0, 0, 0, 0, 1, 0, 0, 0, 0, 0, 0, 1, 1, 0, 0, 0,\n",
       "        0, 0, 0, 0, 1, 0, 0, 0, 0, 1, 1, 2, 1, 0, 0, 0, 0, 0, 0, 0, 0, 0,\n",
       "        0, 0, 1, 0, 1, 0, 0, 0, 0, 0, 0, 0, 0, 0, 0, 0, 0, 0, 0, 0, 1, 1,\n",
       "        0, 1, 0, 0, 0, 0, 0, 0, 1, 0, 0, 0, 0, 0, 0, 0, 0, 0, 0, 0, 0, 0,\n",
       "        0, 0]], dtype=int64)"
      ]
     },
     "execution_count": 58,
     "metadata": {},
     "output_type": "execute_result"
    }
   ],
   "source": [
    "x[0].toarray()  # there is 2 in some vaues as word is occuring 2 times in the sentence"
   ]
  },
  {
   "cell_type": "code",
   "execution_count": 59,
   "id": "5f8823d1",
   "metadata": {},
   "outputs": [
    {
     "data": {
      "text/plain": [
       "112"
      ]
     },
     "execution_count": 59,
     "metadata": {},
     "output_type": "execute_result"
    }
   ],
   "source": [
    "len(cv.vocabulary_)"
   ]
  },
  {
   "cell_type": "code",
   "execution_count": 60,
   "id": "7be71e4f",
   "metadata": {},
   "outputs": [
    {
     "data": {
      "text/plain": [
       "(1, 112)"
      ]
     },
     "execution_count": 60,
     "metadata": {},
     "output_type": "execute_result"
    }
   ],
   "source": [
    "(x[0].toarray()).shape"
   ]
  },
  {
   "cell_type": "code",
   "execution_count": 61,
   "id": "cfecbf3d",
   "metadata": {},
   "outputs": [],
   "source": [
    "cv_=CountVectorizer(binary=True) # making binary as True"
   ]
  },
  {
   "cell_type": "code",
   "execution_count": 62,
   "id": "5e7efe24",
   "metadata": {},
   "outputs": [],
   "source": [
    "x_=cv_.fit_transform(corpus)"
   ]
  },
  {
   "cell_type": "code",
   "execution_count": 63,
   "id": "ece5ac13",
   "metadata": {},
   "outputs": [
    {
     "data": {
      "text/plain": [
       "'narendra damodardas modi gujarati n end mod modi listen born september b indian politician serving th current prime minister india since'"
      ]
     },
     "execution_count": 63,
     "metadata": {},
     "output_type": "execute_result"
    }
   ],
   "source": [
    "corpus[0]"
   ]
  },
  {
   "cell_type": "code",
   "execution_count": 64,
   "id": "20a0bb2b",
   "metadata": {},
   "outputs": [
    {
     "data": {
      "text/plain": [
       "array([[0, 0, 0, 0, 0, 0, 0, 0, 1, 0, 0, 0, 0, 0, 0, 1, 1, 0, 0, 0, 0, 0,\n",
       "        0, 0, 1, 0, 0, 0, 0, 0, 0, 0, 1, 0, 0, 0, 0, 0, 0, 1, 1, 0, 0, 0,\n",
       "        0, 0, 0, 0, 1, 0, 0, 0, 0, 1, 1, 1, 1, 0, 0, 0, 0, 0, 0, 0, 0, 0,\n",
       "        0, 0, 1, 0, 1, 0, 0, 0, 0, 0, 0, 0, 0, 0, 0, 0, 0, 0, 0, 0, 1, 1,\n",
       "        0, 1, 0, 0, 0, 0, 0, 0, 1, 0, 0, 0, 0, 0, 0, 0, 0, 0, 0, 0, 0, 0,\n",
       "        0, 0]], dtype=int64)"
      ]
     },
     "execution_count": 64,
     "metadata": {},
     "output_type": "execute_result"
    }
   ],
   "source": [
    "x_[0].toarray() # there is no 2 "
   ]
  },
  {
   "cell_type": "code",
   "execution_count": 71,
   "id": "47f7b3ab",
   "metadata": {},
   "outputs": [],
   "source": [
    "# bag of words for trigram \n",
    "##Bag OF Words\n",
    "from sklearn. feature_extraction.text import CountVectorizer\n",
    "cv=CountVectorizer (binary=True, ngram_range=(3, 3))"
   ]
  },
  {
   "cell_type": "code",
   "execution_count": 72,
   "id": "4e5bf76e",
   "metadata": {},
   "outputs": [
    {
     "data": {
      "text/plain": [
       "{'narendra damodardas modi': 65,\n",
       " 'damodardas modi gujarati': 15,\n",
       " 'modi gujarati end': 61,\n",
       " 'gujarati end mod': 29,\n",
       " 'end mod modi': 20,\n",
       " 'mod modi listen': 56,\n",
       " 'modi listen born': 62,\n",
       " 'listen born september': 46,\n",
       " 'born september indian': 9,\n",
       " 'september indian politician': 92,\n",
       " 'indian politician serving': 38,\n",
       " 'politician serving th': 75,\n",
       " 'serving th current': 94,\n",
       " 'th current prime': 100,\n",
       " 'current prime minister': 14,\n",
       " 'prime minister india': 77,\n",
       " 'minister india since': 53,\n",
       " 'modi chief minister': 60,\n",
       " 'chief minister gujarat': 11,\n",
       " 'minister gujarat member': 52,\n",
       " 'gujarat member parliament': 28,\n",
       " 'member parliament varanasi': 51,\n",
       " 'member bharatiya janata': 50,\n",
       " 'bharatiya janata party': 5,\n",
       " 'janata party bjp': 41,\n",
       " 'party bjp rashtriya': 73,\n",
       " 'bjp rashtriya swayamsevak': 7,\n",
       " 'rashtriya swayamsevak sangh': 83,\n",
       " 'swayamsevak sangh right': 98,\n",
       " 'sangh right wing': 90,\n",
       " 'right wing hindu': 88,\n",
       " 'wing hindu nationalist': 108,\n",
       " 'hindu nationalist paramilitary': 33,\n",
       " 'nationalist paramilitary volunteer': 66,\n",
       " 'paramilitary volunteer organisation': 71,\n",
       " 'longest serving prime': 47,\n",
       " 'serving prime minister': 93,\n",
       " 'prime minister outside': 79,\n",
       " 'minister outside indian': 55,\n",
       " 'outside indian national': 70,\n",
       " 'indian national congress': 37,\n",
       " 'modi born raised': 59,\n",
       " 'born raised vadnagar': 8,\n",
       " 'raised vadnagar northeastern': 81,\n",
       " 'vadnagar northeastern gujarat': 104,\n",
       " 'northeastern gujarat completed': 67,\n",
       " 'gujarat completed secondary': 27,\n",
       " 'completed secondary education': 13,\n",
       " 'introduced age eight': 40,\n",
       " 'reminisced helping school': 85,\n",
       " 'helping school father': 31,\n",
       " 'school father tea': 91,\n",
       " 'father tea stall': 21,\n",
       " 'tea stall vadnagar': 99,\n",
       " 'stall vadnagar railway': 96,\n",
       " 'vadnagar railway station': 105,\n",
       " 'age modi married': 1,\n",
       " 'modi married jashodaben': 63,\n",
       " 'married jashodaben chimanlal': 49,\n",
       " 'jashodaben chimanlal modi': 42,\n",
       " 'chimanlal modi abandoned': 12,\n",
       " 'modi abandoned soon': 57,\n",
       " 'first publicly acknowledged': 22,\n",
       " 'publicly acknowledged wife': 80,\n",
       " 'acknowledged wife four': 0,\n",
       " 'wife four decade': 107,\n",
       " 'four decade later': 23,\n",
       " 'decade later required': 16,\n",
       " 'later required indian': 43,\n",
       " 'required indian law': 86,\n",
       " 'indian law made': 36,\n",
       " 'law made contact': 44,\n",
       " 'made contact since': 48,\n",
       " 'modi asserted travelled': 58,\n",
       " 'asserted travelled northern': 2,\n",
       " 'travelled northern india': 101,\n",
       " 'northern india two': 68,\n",
       " 'india two year': 35,\n",
       " 'two year leaving': 102,\n",
       " 'year leaving parental': 110,\n",
       " 'leaving parental home': 45,\n",
       " 'parental home visiting': 72,\n",
       " 'home visiting number': 34,\n",
       " 'visiting number religious': 106,\n",
       " 'number religious centre': 69,\n",
       " 'religious centre detail': 84,\n",
       " 'centre detail travel': 10,\n",
       " 'detail travel emerged': 18,\n",
       " 'upon return gujarat': 103,\n",
       " 'return gujarat became': 87,\n",
       " 'gujarat became full': 26,\n",
       " 'became full time': 4,\n",
       " 'full time worker': 24,\n",
       " 'state emergency declared': 97,\n",
       " 'emergency declared prime': 19,\n",
       " 'declared prime minister': 17,\n",
       " 'prime minister indira': 78,\n",
       " 'minister indira gandhi': 54,\n",
       " 'indira gandhi modi': 39,\n",
       " 'gandhi modi went': 25,\n",
       " 'modi went hiding': 64,\n",
       " 'assigned bjp held': 3,\n",
       " 'bjp held several': 6,\n",
       " 'held several position': 30,\n",
       " 'several position within': 95,\n",
       " 'position within party': 76,\n",
       " 'within party hierarchy': 109,\n",
       " 'party hierarchy rising': 74,\n",
       " 'hierarchy rising rank': 32,\n",
       " 'rising rank general': 89,\n",
       " 'rank general secretary': 82}"
      ]
     },
     "execution_count": 72,
     "metadata": {},
     "output_type": "execute_result"
    }
   ],
   "source": [
    "x=cv.fit_transform(corpus)\n",
    "cv.vocabulary_"
   ]
  },
  {
   "cell_type": "code",
   "execution_count": 74,
   "id": "e5e7a8df",
   "metadata": {},
   "outputs": [
    {
     "data": {
      "text/plain": [
       "{'narendra': 191,\n",
       " 'damodardas': 49,\n",
       " 'modi': 174,\n",
       " 'gujarati': 94,\n",
       " 'end': 67,\n",
       " 'mod': 171,\n",
       " 'listen': 145,\n",
       " 'born': 26,\n",
       " 'september': 277,\n",
       " 'indian': 117,\n",
       " 'politician': 225,\n",
       " 'serving': 280,\n",
       " 'th': 303,\n",
       " 'current': 46,\n",
       " 'prime': 231,\n",
       " 'minister': 162,\n",
       " 'india': 113,\n",
       " 'since': 288,\n",
       " 'narendra damodardas': 192,\n",
       " 'damodardas modi': 50,\n",
       " 'modi gujarati': 183,\n",
       " 'gujarati end': 95,\n",
       " 'end mod': 68,\n",
       " 'mod modi': 172,\n",
       " 'modi listen': 185,\n",
       " 'listen born': 146,\n",
       " 'born september': 29,\n",
       " 'september indian': 278,\n",
       " 'indian politician': 122,\n",
       " 'politician serving': 226,\n",
       " 'serving th': 283,\n",
       " 'th current': 304,\n",
       " 'current prime': 47,\n",
       " 'prime minister': 232,\n",
       " 'minister india': 165,\n",
       " 'india since': 114,\n",
       " 'narendra damodardas modi': 193,\n",
       " 'damodardas modi gujarati': 51,\n",
       " 'modi gujarati end': 184,\n",
       " 'gujarati end mod': 96,\n",
       " 'end mod modi': 69,\n",
       " 'mod modi listen': 173,\n",
       " 'modi listen born': 186,\n",
       " 'listen born september': 147,\n",
       " 'born september indian': 30,\n",
       " 'september indian politician': 279,\n",
       " 'indian politician serving': 123,\n",
       " 'politician serving th': 227,\n",
       " 'serving th current': 284,\n",
       " 'th current prime': 305,\n",
       " 'current prime minister': 48,\n",
       " 'prime minister india': 233,\n",
       " 'minister india since': 166,\n",
       " 'chief': 34,\n",
       " 'gujarat': 87,\n",
       " 'member': 157,\n",
       " 'parliament': 218,\n",
       " 'varanasi': 324,\n",
       " 'modi chief': 181,\n",
       " 'chief minister': 35,\n",
       " 'minister gujarat': 163,\n",
       " 'gujarat member': 92,\n",
       " 'member parliament': 160,\n",
       " 'parliament varanasi': 219,\n",
       " 'modi chief minister': 182,\n",
       " 'chief minister gujarat': 36,\n",
       " 'minister gujarat member': 164,\n",
       " 'gujarat member parliament': 93,\n",
       " 'member parliament varanasi': 161,\n",
       " 'bharatiya': 18,\n",
       " 'janata': 130,\n",
       " 'party': 220,\n",
       " 'bjp': 21,\n",
       " 'rashtriya': 247,\n",
       " 'swayamsevak': 297,\n",
       " 'sangh': 268,\n",
       " 'right': 262,\n",
       " 'wing': 335,\n",
       " 'hindu': 107,\n",
       " 'nationalist': 196,\n",
       " 'paramilitary': 212,\n",
       " 'volunteer': 328,\n",
       " 'organisation': 208,\n",
       " 'member bharatiya': 158,\n",
       " 'bharatiya janata': 19,\n",
       " 'janata party': 131,\n",
       " 'party bjp': 221,\n",
       " 'bjp rashtriya': 24,\n",
       " 'rashtriya swayamsevak': 248,\n",
       " 'swayamsevak sangh': 298,\n",
       " 'sangh right': 269,\n",
       " 'right wing': 263,\n",
       " 'wing hindu': 336,\n",
       " 'hindu nationalist': 108,\n",
       " 'nationalist paramilitary': 197,\n",
       " 'paramilitary volunteer': 213,\n",
       " 'volunteer organisation': 329,\n",
       " 'member bharatiya janata': 159,\n",
       " 'bharatiya janata party': 20,\n",
       " 'janata party bjp': 132,\n",
       " 'party bjp rashtriya': 222,\n",
       " 'bjp rashtriya swayamsevak': 25,\n",
       " 'rashtriya swayamsevak sangh': 249,\n",
       " 'swayamsevak sangh right': 299,\n",
       " 'sangh right wing': 270,\n",
       " 'right wing hindu': 264,\n",
       " 'wing hindu nationalist': 337,\n",
       " 'hindu nationalist paramilitary': 109,\n",
       " 'nationalist paramilitary volunteer': 198,\n",
       " 'paramilitary volunteer organisation': 214,\n",
       " 'longest': 148,\n",
       " 'outside': 209,\n",
       " 'national': 194,\n",
       " 'congress': 43,\n",
       " 'longest serving': 149,\n",
       " 'serving prime': 281,\n",
       " 'minister outside': 169,\n",
       " 'outside indian': 210,\n",
       " 'indian national': 120,\n",
       " 'national congress': 195,\n",
       " 'longest serving prime': 150,\n",
       " 'serving prime minister': 282,\n",
       " 'prime minister outside': 235,\n",
       " 'minister outside indian': 170,\n",
       " 'outside indian national': 211,\n",
       " 'indian national congress': 121,\n",
       " 'raised': 241,\n",
       " 'vadnagar': 319,\n",
       " 'northeastern': 199,\n",
       " 'completed': 40,\n",
       " 'secondary': 274,\n",
       " 'education': 61,\n",
       " 'modi born': 179,\n",
       " 'born raised': 27,\n",
       " 'raised vadnagar': 242,\n",
       " 'vadnagar northeastern': 320,\n",
       " 'northeastern gujarat': 200,\n",
       " 'gujarat completed': 90,\n",
       " 'completed secondary': 41,\n",
       " 'secondary education': 275,\n",
       " 'modi born raised': 180,\n",
       " 'born raised vadnagar': 28,\n",
       " 'raised vadnagar northeastern': 243,\n",
       " 'vadnagar northeastern gujarat': 321,\n",
       " 'northeastern gujarat completed': 201,\n",
       " 'gujarat completed secondary': 91,\n",
       " 'completed secondary education': 42,\n",
       " 'introduced': 127,\n",
       " 'age': 5,\n",
       " 'eight': 62,\n",
       " 'introduced age': 128,\n",
       " 'age eight': 6,\n",
       " 'introduced age eight': 129,\n",
       " 'reminisced': 253,\n",
       " 'helping': 100,\n",
       " 'school': 271,\n",
       " 'father': 70,\n",
       " 'tea': 300,\n",
       " 'stall': 290,\n",
       " 'railway': 239,\n",
       " 'station': 296,\n",
       " 'reminisced helping': 254,\n",
       " 'helping school': 101,\n",
       " 'school father': 272,\n",
       " 'father tea': 71,\n",
       " 'tea stall': 301,\n",
       " 'stall vadnagar': 291,\n",
       " 'vadnagar railway': 322,\n",
       " 'railway station': 240,\n",
       " 'reminisced helping school': 255,\n",
       " 'helping school father': 102,\n",
       " 'school father tea': 273,\n",
       " 'father tea stall': 72,\n",
       " 'tea stall vadnagar': 302,\n",
       " 'stall vadnagar railway': 292,\n",
       " 'vadnagar railway station': 323,\n",
       " 'married': 154,\n",
       " 'jashodaben': 133,\n",
       " 'chimanlal': 37,\n",
       " 'abandoned': 0,\n",
       " 'soon': 289,\n",
       " 'age modi': 7,\n",
       " 'modi married': 187,\n",
       " 'married jashodaben': 155,\n",
       " 'jashodaben chimanlal': 134,\n",
       " 'chimanlal modi': 38,\n",
       " 'modi abandoned': 175,\n",
       " 'abandoned soon': 1,\n",
       " 'age modi married': 8,\n",
       " 'modi married jashodaben': 188,\n",
       " 'married jashodaben chimanlal': 156,\n",
       " 'jashodaben chimanlal modi': 135,\n",
       " 'chimanlal modi abandoned': 39,\n",
       " 'modi abandoned soon': 176,\n",
       " 'first': 73,\n",
       " 'publicly': 236,\n",
       " 'acknowledged': 2,\n",
       " 'wife': 332,\n",
       " 'four': 76,\n",
       " 'decade': 52,\n",
       " 'later': 136,\n",
       " 'required': 256,\n",
       " 'law': 139,\n",
       " 'made': 151,\n",
       " 'contact': 44,\n",
       " 'first publicly': 74,\n",
       " 'publicly acknowledged': 237,\n",
       " 'acknowledged wife': 3,\n",
       " 'wife four': 333,\n",
       " 'four decade': 77,\n",
       " 'decade later': 53,\n",
       " 'later required': 137,\n",
       " 'required indian': 257,\n",
       " 'indian law': 118,\n",
       " 'law made': 140,\n",
       " 'made contact': 152,\n",
       " 'contact since': 45,\n",
       " 'first publicly acknowledged': 75,\n",
       " 'publicly acknowledged wife': 238,\n",
       " 'acknowledged wife four': 4,\n",
       " 'wife four decade': 334,\n",
       " 'four decade later': 78,\n",
       " 'decade later required': 54,\n",
       " 'later required indian': 138,\n",
       " 'required indian law': 258,\n",
       " 'indian law made': 119,\n",
       " 'law made contact': 141,\n",
       " 'made contact since': 153,\n",
       " 'asserted': 9,\n",
       " 'travelled': 310,\n",
       " 'northern': 202,\n",
       " 'two': 313,\n",
       " 'year': 342,\n",
       " 'leaving': 142,\n",
       " 'parental': 215,\n",
       " 'home': 110,\n",
       " 'visiting': 325,\n",
       " 'number': 205,\n",
       " 'religious': 250,\n",
       " 'centre': 31,\n",
       " 'detail': 58,\n",
       " 'travel': 308,\n",
       " 'emerged': 63,\n",
       " 'modi asserted': 177,\n",
       " 'asserted travelled': 10,\n",
       " 'travelled northern': 311,\n",
       " 'northern india': 203,\n",
       " 'india two': 115,\n",
       " 'two year': 314,\n",
       " 'year leaving': 343,\n",
       " 'leaving parental': 143,\n",
       " 'parental home': 216,\n",
       " 'home visiting': 111,\n",
       " 'visiting number': 326,\n",
       " 'number religious': 206,\n",
       " 'religious centre': 251,\n",
       " 'centre detail': 32,\n",
       " 'detail travel': 59,\n",
       " 'travel emerged': 309,\n",
       " 'modi asserted travelled': 178,\n",
       " 'asserted travelled northern': 11,\n",
       " 'travelled northern india': 312,\n",
       " 'northern india two': 204,\n",
       " 'india two year': 116,\n",
       " 'two year leaving': 315,\n",
       " 'year leaving parental': 344,\n",
       " 'leaving parental home': 144,\n",
       " 'parental home visiting': 217,\n",
       " 'home visiting number': 112,\n",
       " 'visiting number religious': 327,\n",
       " 'number religious centre': 207,\n",
       " 'religious centre detail': 252,\n",
       " 'centre detail travel': 33,\n",
       " 'detail travel emerged': 60,\n",
       " 'upon': 316,\n",
       " 'return': 259,\n",
       " 'became': 15,\n",
       " 'full': 79,\n",
       " 'time': 306,\n",
       " 'worker': 341,\n",
       " 'upon return': 317,\n",
       " 'return gujarat': 260,\n",
       " 'gujarat became': 88,\n",
       " 'became full': 16,\n",
       " 'full time': 80,\n",
       " 'time worker': 307,\n",
       " 'upon return gujarat': 318,\n",
       " 'return gujarat became': 261,\n",
       " 'gujarat became full': 89,\n",
       " 'became full time': 17,\n",
       " 'full time worker': 81,\n",
       " 'state': 293,\n",
       " 'emergency': 64,\n",
       " 'declared': 55,\n",
       " 'indira': 124,\n",
       " 'gandhi': 82,\n",
       " 'went': 330,\n",
       " 'hiding': 103,\n",
       " 'state emergency': 294,\n",
       " 'emergency declared': 65,\n",
       " 'declared prime': 56,\n",
       " 'minister indira': 167,\n",
       " 'indira gandhi': 125,\n",
       " 'gandhi modi': 83,\n",
       " 'modi went': 189,\n",
       " 'went hiding': 331,\n",
       " 'state emergency declared': 295,\n",
       " 'emergency declared prime': 66,\n",
       " 'declared prime minister': 57,\n",
       " 'prime minister indira': 234,\n",
       " 'minister indira gandhi': 168,\n",
       " 'indira gandhi modi': 126,\n",
       " 'gandhi modi went': 84,\n",
       " 'modi went hiding': 190,\n",
       " 'assigned': 12,\n",
       " 'held': 97,\n",
       " 'several': 285,\n",
       " 'position': 228,\n",
       " 'within': 338,\n",
       " 'hierarchy': 104,\n",
       " 'rising': 265,\n",
       " 'rank': 244,\n",
       " 'general': 85,\n",
       " 'secretary': 276,\n",
       " 'assigned bjp': 13,\n",
       " 'bjp held': 22,\n",
       " 'held several': 98,\n",
       " 'several position': 286,\n",
       " 'position within': 229,\n",
       " 'within party': 339,\n",
       " 'party hierarchy': 223,\n",
       " 'hierarchy rising': 105,\n",
       " 'rising rank': 266,\n",
       " 'rank general': 245,\n",
       " 'general secretary': 86,\n",
       " 'assigned bjp held': 14,\n",
       " 'bjp held several': 23,\n",
       " 'held several position': 99,\n",
       " 'several position within': 287,\n",
       " 'position within party': 230,\n",
       " 'within party hierarchy': 340,\n",
       " 'party hierarchy rising': 224,\n",
       " 'hierarchy rising rank': 106,\n",
       " 'rising rank general': 267,\n",
       " 'rank general secretary': 246}"
      ]
     },
     "execution_count": 74,
     "metadata": {},
     "output_type": "execute_result"
    }
   ],
   "source": [
    "# bag of words for trigram \n",
    "##Bag OF Words\n",
    "from sklearn. feature_extraction.text import CountVectorizer\n",
    "cv=CountVectorizer (binary=True, ngram_range=(1, 3))\n",
    "x=cv.fit_transform(corpus)\n",
    "cv.vocabulary_"
   ]
  },
  {
   "cell_type": "markdown",
   "id": "3bb409e6",
   "metadata": {},
   "source": [
    "## Tf-IDF"
   ]
  },
  {
   "cell_type": "code",
   "execution_count": 66,
   "id": "802ca587",
   "metadata": {},
   "outputs": [
    {
     "data": {
      "text/plain": [
       "['narendra damodardas modi gujarati n end mod modi listen born september b indian politician serving th current prime minister india since',\n",
       " 'modi chief minister gujarat member parliament varanasi',\n",
       " 'member bharatiya janata party bjp rashtriya swayamsevak sangh r right wing hindu nationalist paramilitary volunteer organisation',\n",
       " 'longest serving prime minister outside indian national congress',\n",
       " 'modi born raised vadnagar northeastern gujarat completed secondary education',\n",
       " 'introduced r age eight',\n",
       " 'reminisced helping school father tea stall vadnagar railway station',\n",
       " 'age modi married jashodaben chimanlal modi abandoned soon',\n",
       " 'first publicly acknowledged wife four decade later required indian law made contact since',\n",
       " 'modi asserted travelled northern india two year leaving parental home visiting number religious centre detail travel emerged',\n",
       " 'upon return gujarat became full time worker r',\n",
       " 'state emergency declared prime minister indira gandhi modi went hiding',\n",
       " 'r assigned bjp held several position within party hierarchy rising rank general secretary',\n",
       " 'c']"
      ]
     },
     "execution_count": 66,
     "metadata": {},
     "output_type": "execute_result"
    }
   ],
   "source": [
    "corpus"
   ]
  },
  {
   "cell_type": "code",
   "execution_count": 77,
   "id": "deb45eee",
   "metadata": {},
   "outputs": [],
   "source": [
    "### TFIDF\n",
    "from sklearn.feature_extraction.text import TfidfVectorizer\n",
    "cv=TfidfVectorizer()\n",
    "X=cv.fit_transform (corpus)"
   ]
  },
  {
   "cell_type": "code",
   "execution_count": 78,
   "id": "139f9af8",
   "metadata": {},
   "outputs": [
    {
     "data": {
      "text/plain": [
       "'narendra damodardas modi gujarati n end mod modi listen born september b indian politician serving th current prime minister india since'"
      ]
     },
     "execution_count": 78,
     "metadata": {},
     "output_type": "execute_result"
    }
   ],
   "source": [
    "corpus[0]"
   ]
  },
  {
   "cell_type": "code",
   "execution_count": 80,
   "id": "d2bc473f",
   "metadata": {},
   "outputs": [
    {
     "data": {
      "text/plain": [
       "array([[0.        , 0.        , 0.        , 0.        , 0.        ,\n",
       "        0.        , 0.        , 0.        , 0.21615199, 0.        ,\n",
       "        0.        , 0.        , 0.        , 0.        , 0.        ,\n",
       "        0.24973857, 0.24973857, 0.        , 0.        , 0.        ,\n",
       "        0.        , 0.        , 0.        , 0.        , 0.24973857,\n",
       "        0.        , 0.        , 0.        , 0.        , 0.        ,\n",
       "        0.        , 0.        , 0.24973857, 0.        , 0.        ,\n",
       "        0.        , 0.        , 0.        , 0.        , 0.21615199,\n",
       "        0.19232193, 0.        , 0.        , 0.        , 0.        ,\n",
       "        0.        , 0.        , 0.        , 0.24973857, 0.        ,\n",
       "        0.        , 0.        , 0.        , 0.17383791, 0.24973857,\n",
       "        0.29193266, 0.24973857, 0.        , 0.        , 0.        ,\n",
       "        0.        , 0.        , 0.        , 0.        , 0.        ,\n",
       "        0.        , 0.        , 0.        , 0.24973857, 0.        ,\n",
       "        0.19232193, 0.        , 0.        , 0.        , 0.        ,\n",
       "        0.        , 0.        , 0.        , 0.        , 0.        ,\n",
       "        0.        , 0.        , 0.        , 0.        , 0.        ,\n",
       "        0.        , 0.24973857, 0.21615199, 0.        , 0.21615199,\n",
       "        0.        , 0.        , 0.        , 0.        , 0.        ,\n",
       "        0.        , 0.24973857, 0.        , 0.        , 0.        ,\n",
       "        0.        , 0.        , 0.        , 0.        , 0.        ,\n",
       "        0.        , 0.        , 0.        , 0.        , 0.        ,\n",
       "        0.        , 0.        ]])"
      ]
     },
     "execution_count": 80,
     "metadata": {},
     "output_type": "execute_result"
    }
   ],
   "source": [
    "X[0].toarray()"
   ]
  },
  {
   "cell_type": "code",
   "execution_count": 81,
   "id": "1f5d7990",
   "metadata": {},
   "outputs": [],
   "source": [
    "### TFIDF with tri gram\n",
    "from sklearn.feature_extraction.text import TfidfVectorizer\n",
    "cv=TfidfVectorizer(ngram_range=(2,3))\n",
    "X=cv.fit_transform (corpus) "
   ]
  },
  {
   "cell_type": "code",
   "execution_count": 82,
   "id": "e9c4853b",
   "metadata": {},
   "outputs": [
    {
     "data": {
      "text/plain": [
       "array([[0.        , 0.        , 0.        , 0.        , 0.        ,\n",
       "        0.        , 0.        , 0.        , 0.        , 0.        ,\n",
       "        0.        , 0.        , 0.        , 0.        , 0.        ,\n",
       "        0.        , 0.        , 0.        , 0.        , 0.        ,\n",
       "        0.17002219, 0.17002219, 0.        , 0.        , 0.        ,\n",
       "        0.        , 0.        , 0.        , 0.        , 0.        ,\n",
       "        0.        , 0.17002219, 0.17002219, 0.17002219, 0.17002219,\n",
       "        0.        , 0.        , 0.        , 0.        , 0.        ,\n",
       "        0.        , 0.        , 0.        , 0.17002219, 0.17002219,\n",
       "        0.        , 0.        , 0.        , 0.        , 0.        ,\n",
       "        0.        , 0.        , 0.        , 0.        , 0.        ,\n",
       "        0.        , 0.        , 0.        , 0.        , 0.        ,\n",
       "        0.        , 0.        , 0.17002219, 0.17002219, 0.        ,\n",
       "        0.        , 0.        , 0.        , 0.        , 0.        ,\n",
       "        0.        , 0.        , 0.        , 0.        , 0.17002219,\n",
       "        0.        , 0.        , 0.        , 0.        , 0.        ,\n",
       "        0.        , 0.17002219, 0.17002219, 0.        , 0.        ,\n",
       "        0.        , 0.        , 0.        , 0.        , 0.        ,\n",
       "        0.        , 0.        , 0.        , 0.        , 0.        ,\n",
       "        0.        , 0.        , 0.17002219, 0.17002219, 0.        ,\n",
       "        0.        , 0.        , 0.        , 0.        , 0.        ,\n",
       "        0.        , 0.        , 0.        , 0.        , 0.        ,\n",
       "        0.        , 0.17002219, 0.17002219, 0.        , 0.        ,\n",
       "        0.        , 0.        , 0.17002219, 0.17002219, 0.        ,\n",
       "        0.        , 0.        , 0.        , 0.        , 0.        ,\n",
       "        0.        , 0.        , 0.17002219, 0.17002219, 0.17002219,\n",
       "        0.17002219, 0.        , 0.        , 0.        , 0.        ,\n",
       "        0.17002219, 0.17002219, 0.        , 0.        , 0.        ,\n",
       "        0.        , 0.        , 0.        , 0.        , 0.        ,\n",
       "        0.        , 0.        , 0.        , 0.        , 0.        ,\n",
       "        0.        , 0.        , 0.        , 0.        , 0.        ,\n",
       "        0.        , 0.        , 0.17002219, 0.17002219, 0.        ,\n",
       "        0.        , 0.13093291, 0.17002219, 0.        , 0.        ,\n",
       "        0.        , 0.        , 0.        , 0.        , 0.        ,\n",
       "        0.        , 0.        , 0.        , 0.        , 0.        ,\n",
       "        0.        , 0.        , 0.        , 0.        , 0.        ,\n",
       "        0.        , 0.        , 0.        , 0.        , 0.        ,\n",
       "        0.        , 0.        , 0.        , 0.        , 0.        ,\n",
       "        0.        , 0.17002219, 0.17002219, 0.        , 0.        ,\n",
       "        0.17002219, 0.17002219, 0.        , 0.        , 0.        ,\n",
       "        0.        , 0.        , 0.        , 0.        , 0.        ,\n",
       "        0.        , 0.        , 0.17002219, 0.17002219, 0.        ,\n",
       "        0.        , 0.        , 0.        , 0.        , 0.        ,\n",
       "        0.        , 0.        , 0.        , 0.        , 0.        ,\n",
       "        0.        , 0.        , 0.        , 0.        , 0.        ,\n",
       "        0.        , 0.        , 0.        , 0.        , 0.        ,\n",
       "        0.        , 0.        , 0.        ]])"
      ]
     },
     "execution_count": 82,
     "metadata": {},
     "output_type": "execute_result"
    }
   ],
   "source": [
    "X[0].toarray()"
   ]
  },
  {
   "cell_type": "code",
   "execution_count": null,
   "id": "ebe7bb08",
   "metadata": {},
   "outputs": [],
   "source": []
  }
 ],
 "metadata": {
  "kernelspec": {
   "display_name": "Python 3 (ipykernel)",
   "language": "python",
   "name": "python3"
  },
  "language_info": {
   "codemirror_mode": {
    "name": "ipython",
    "version": 3
   },
   "file_extension": ".py",
   "mimetype": "text/x-python",
   "name": "python",
   "nbconvert_exporter": "python",
   "pygments_lexer": "ipython3",
   "version": "3.7.15"
  }
 },
 "nbformat": 4,
 "nbformat_minor": 5
}
